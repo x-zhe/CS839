{
 "cells": [
  {
   "cell_type": "markdown",
   "metadata": {},
   "source": [
    "1.2 default setting"
   ]
  },
  {
   "cell_type": "code",
   "execution_count": 2,
   "metadata": {},
   "outputs": [],
   "source": [
    "import os\n",
    "import subprocess\n",
    "import torch\n",
    "from transformers import GPT2Tokenizer\n",
    "import sys\n",
    "nanoGPT_dir = \"C:/Users/Zheng/OneDrive - UW-Madison/PhD project/Coursework/CS839/hw/nanoGPT-master\"\n",
    "sys.path.append(nanoGPT_dir)\n",
    "os.chdir(nanoGPT_dir)\n",
    "from model import GPTConfig, GPT"
   ]
  },
  {
   "cell_type": "code",
   "execution_count": 2,
   "metadata": {},
   "outputs": [
    {
     "name": "stdout",
     "output_type": "stream",
     "text": [
      "Overriding config with config\\train_shakespeare_char.py:\n",
      "# train a miniature character-level shakespeare model\n",
      "# good for debugging and playing on macbooks and such\n",
      "\n",
      "out_dir = 'out-shakespeare-char'\n",
      "eval_interval = 250 # keep frequent because we'll overfit\n",
      "eval_iters = 200\n",
      "log_interval = 10 # don't print too too often\n",
      "\n",
      "# we expect to overfit on this small dataset, so only save when val improves\n",
      "always_save_checkpoint = False\n",
      "\n",
      "wandb_log = False # override via command line if you like\n",
      "wandb_project = 'shakespeare-char'\n",
      "wandb_run_name = 'mini-gpt'\n",
      "\n",
      "dataset = 'shakespeare_char'\n",
      "gradient_accumulation_steps = 1\n",
      "batch_size = 64\n",
      "block_size = 256 # context of up to 256 previous characters\n",
      "\n",
      "# baby GPT model :)\n",
      "n_layer = 6\n",
      "n_head = 6\n",
      "n_embd = 384\n",
      "dropout = 0.2\n",
      "\n",
      "learning_rate = 1e-3 # with baby networks can afford to go a bit higher\n",
      "max_iters = 5000\n",
      "lr_decay_iters = 5000 # make equal to max_iters usually\n",
      "min_lr = 1e-4 # learning_rate / 10 usually\n",
      "beta2 = 0.99 # make a bit bigger because number of tokens per iter is small\n",
      "\n",
      "warmup_iters = 100 # not super necessary potentially\n",
      "\n",
      "# on macbook also add\n",
      "# device = 'cpu'  # run on cpu only\n",
      "# compile = False # do not torch compile the model\n",
      "\n",
      "Overriding: device = cpu\n",
      "Overriding: compile = False\n",
      "Overriding: eval_iters = 20\n",
      "Overriding: log_interval = 1\n",
      "Overriding: block_size = 64\n",
      "Overriding: batch_size = 12\n",
      "Overriding: n_layer = 4\n",
      "Overriding: n_head = 4\n",
      "Overriding: n_embd = 128\n",
      "Overriding: max_iters = 2000\n",
      "Overriding: lr_decay_iters = 2000\n",
      "Overriding: dropout = 0.0\n",
      "tokens per iteration will be: 768\n",
      "found vocab_size = 65 (inside data\\shakespeare_char\\meta.pkl)\n",
      "Initializing a new model from scratch\n",
      "number of parameters: 0.80M\n",
      "num decayed parameter tensors: 18, with 802,944 parameters\n",
      "num non-decayed parameter tensors: 9, with 1,152 parameters\n",
      "using fused AdamW: False\n",
      "step 0: train loss 4.1676, val loss 4.1649\n",
      "iter 0: loss 4.1828, time 1188.50ms, mfu -100.00%\n",
      "iter 1: loss 4.1512, time 93.34ms, mfu -100.00%\n",
      "iter 2: loss 4.1654, time 82.85ms, mfu -100.00%\n",
      "iter 3: loss 4.1398, time 89.59ms, mfu -100.00%\n",
      "iter 4: loss 4.0927, time 93.79ms, mfu -100.00%\n",
      "iter 5: loss 4.0367, time 85.45ms, mfu 0.01%\n",
      "iter 6: loss 3.9746, time 92.72ms, mfu 0.01%\n",
      "iter 7: loss 3.9022, time 91.75ms, mfu 0.01%\n",
      "iter 8: loss 3.8626, time 90.70ms, mfu 0.01%\n",
      "iter 9: loss 3.7704, time 94.42ms, mfu 0.01%\n",
      "iter 10: loss 3.7665, time 95.64ms, mfu 0.01%\n",
      "iter 11: loss 3.7467, time 97.15ms, mfu 0.01%\n",
      "iter 12: loss 3.7263, time 93.24ms, mfu 0.01%\n",
      "iter 13: loss 3.6980, time 93.80ms, mfu 0.01%\n",
      "iter 14: loss 3.6628, time 94.86ms, mfu 0.01%\n",
      "iter 15: loss 3.6419, time 92.54ms, mfu 0.01%\n",
      "iter 16: loss 3.6213, time 50.55ms, mfu 0.02%\n",
      "iter 17: loss 3.6162, time 43.26ms, mfu 0.02%\n",
      "iter 18: loss 3.6407, time 47.54ms, mfu 0.02%\n",
      "iter 19: loss 3.6619, time 59.39ms, mfu 0.02%\n",
      "iter 20: loss 3.5484, time 43.22ms, mfu 0.02%\n",
      "iter 21: loss 3.5656, time 61.39ms, mfu 0.02%\n",
      "iter 22: loss 3.5263, time 47.55ms, mfu 0.02%\n",
      "iter 23: loss 3.5019, time 59.72ms, mfu 0.02%\n",
      "iter 24: loss 3.5342, time 78.77ms, mfu 0.02%\n",
      "iter 25: loss 3.3670, time 71.67ms, mfu 0.02%\n",
      "iter 26: loss 3.3540, time 66.26ms, mfu 0.02%\n",
      "iter 27: loss 3.3793, time 73.45ms, mfu 0.02%\n",
      "iter 28: loss 3.2957, time 63.46ms, mfu 0.02%\n",
      "iter 29: loss 3.3217, time 64.82ms, mfu 0.02%\n",
      "iter 30: loss 3.3526, time 78.23ms, mfu 0.02%\n",
      "iter 31: loss 3.2465, time 64.60ms, mfu 0.02%\n",
      "iter 32: loss 3.2195, time 65.55ms, mfu 0.02%\n",
      "iter 33: loss 3.2252, time 64.01ms, mfu 0.02%\n",
      "iter 34: loss 3.1642, time 70.27ms, mfu 0.02%\n",
      "iter 35: loss 3.2609, time 70.51ms, mfu 0.02%\n",
      "iter 36: loss 3.1577, time 65.27ms, mfu 0.02%\n",
      "iter 37: loss 3.1705, time 65.69ms, mfu 0.02%\n",
      "iter 38: loss 3.0329, time 67.51ms, mfu 0.02%\n",
      "iter 39: loss 3.0840, time 65.44ms, mfu 0.02%\n",
      "iter 40: loss 3.1115, time 68.30ms, mfu 0.02%\n",
      "iter 41: loss 3.0512, time 73.27ms, mfu 0.02%\n",
      "iter 42: loss 3.0016, time 70.29ms, mfu 0.02%\n",
      "iter 43: loss 2.9784, time 66.21ms, mfu 0.02%\n",
      "iter 44: loss 3.0152, time 67.21ms, mfu 0.02%\n",
      "iter 45: loss 2.9944, time 68.86ms, mfu 0.02%\n",
      "iter 46: loss 2.9305, time 65.47ms, mfu 0.02%\n",
      "iter 47: loss 3.0577, time 68.70ms, mfu 0.02%\n",
      "iter 48: loss 2.9505, time 69.96ms, mfu 0.02%\n",
      "iter 49: loss 2.9481, time 69.56ms, mfu 0.02%\n",
      "iter 50: loss 2.9463, time 71.01ms, mfu 0.02%\n",
      "iter 51: loss 2.9205, time 68.26ms, mfu 0.02%\n",
      "iter 52: loss 2.9232, time 58.31ms, mfu 0.02%\n",
      "iter 53: loss 2.9064, time 69.80ms, mfu 0.02%\n",
      "iter 54: loss 2.8243, time 61.62ms, mfu 0.02%\n",
      "iter 55: loss 2.8249, time 67.18ms, mfu 0.02%\n",
      "iter 56: loss 2.7912, time 69.42ms, mfu 0.02%\n",
      "iter 57: loss 2.8584, time 57.07ms, mfu 0.02%\n",
      "iter 58: loss 2.8226, time 67.94ms, mfu 0.02%\n",
      "iter 59: loss 2.8468, time 57.82ms, mfu 0.02%\n",
      "iter 60: loss 2.7946, time 59.81ms, mfu 0.02%\n",
      "iter 61: loss 2.8312, time 63.37ms, mfu 0.02%\n",
      "iter 62: loss 2.7602, time 67.38ms, mfu 0.02%\n",
      "iter 63: loss 2.8024, time 56.68ms, mfu 0.02%\n",
      "iter 64: loss 2.8022, time 63.10ms, mfu 0.02%\n",
      "iter 65: loss 2.7321, time 76.58ms, mfu 0.02%\n",
      "iter 66: loss 2.7658, time 75.35ms, mfu 0.02%\n",
      "iter 67: loss 2.7488, time 75.92ms, mfu 0.02%\n",
      "iter 68: loss 2.7737, time 68.94ms, mfu 0.02%\n",
      "iter 69: loss 2.7789, time 70.77ms, mfu 0.02%\n",
      "iter 70: loss 2.7076, time 75.25ms, mfu 0.02%\n",
      "iter 71: loss 2.7727, time 66.30ms, mfu 0.02%\n",
      "iter 72: loss 2.6684, time 79.09ms, mfu 0.02%\n",
      "iter 73: loss 2.7057, time 68.11ms, mfu 0.02%\n",
      "iter 74: loss 2.6562, time 74.97ms, mfu 0.02%\n",
      "iter 75: loss 2.7676, time 68.00ms, mfu 0.02%\n",
      "iter 76: loss 2.6640, time 55.81ms, mfu 0.02%\n",
      "iter 77: loss 2.7622, time 65.26ms, mfu 0.02%\n",
      "iter 78: loss 2.6759, time 64.07ms, mfu 0.02%\n",
      "iter 79: loss 2.6806, time 69.50ms, mfu 0.02%\n",
      "iter 80: loss 2.6173, time 69.72ms, mfu 0.02%\n",
      "iter 81: loss 2.6891, time 65.07ms, mfu 0.02%\n",
      "iter 82: loss 2.6911, time 66.79ms, mfu 0.02%\n",
      "iter 83: loss 2.6275, time 63.63ms, mfu 0.02%\n",
      "iter 84: loss 2.7292, time 63.40ms, mfu 0.02%\n",
      "iter 85: loss 2.6829, time 67.82ms, mfu 0.02%\n",
      "iter 86: loss 2.5994, time 70.07ms, mfu 0.02%\n",
      "iter 87: loss 2.6463, time 68.87ms, mfu 0.02%\n",
      "iter 88: loss 2.6111, time 61.99ms, mfu 0.02%\n",
      "iter 89: loss 2.7312, time 62.52ms, mfu 0.02%\n",
      "iter 90: loss 2.6180, time 67.21ms, mfu 0.02%\n",
      "iter 91: loss 2.6678, time 71.34ms, mfu 0.02%\n",
      "iter 92: loss 2.6055, time 72.80ms, mfu 0.02%\n",
      "iter 93: loss 2.5397, time 62.73ms, mfu 0.02%\n",
      "iter 94: loss 2.7052, time 66.30ms, mfu 0.02%\n",
      "iter 95: loss 2.6428, time 79.45ms, mfu 0.02%\n",
      "iter 96: loss 2.6829, time 58.43ms, mfu 0.02%\n",
      "iter 97: loss 2.5873, time 64.97ms, mfu 0.02%\n",
      "iter 98: loss 2.5377, time 64.61ms, mfu 0.02%\n",
      "iter 99: loss 2.6871, time 62.90ms, mfu 0.02%\n",
      "iter 100: loss 2.6648, time 73.92ms, mfu 0.02%\n",
      "iter 101: loss 2.6579, time 78.29ms, mfu 0.02%\n",
      "iter 102: loss 2.5922, time 78.70ms, mfu 0.02%\n",
      "iter 103: loss 2.6345, time 70.01ms, mfu 0.02%\n",
      "iter 104: loss 2.5047, time 76.18ms, mfu 0.02%\n",
      "iter 105: loss 2.5732, time 76.25ms, mfu 0.02%\n",
      "iter 106: loss 2.5281, time 69.29ms, mfu 0.02%\n",
      "iter 107: loss 2.5841, time 70.38ms, mfu 0.02%\n",
      "iter 108: loss 2.5639, time 59.80ms, mfu 0.02%\n",
      "iter 109: loss 2.5932, time 85.31ms, mfu 0.02%\n",
      "iter 110: loss 2.5891, time 43.27ms, mfu 0.02%\n",
      "iter 111: loss 2.5346, time 58.15ms, mfu 0.02%\n",
      "iter 112: loss 2.5361, time 45.38ms, mfu 0.02%\n",
      "iter 113: loss 2.5470, time 54.16ms, mfu 0.02%\n",
      "iter 114: loss 2.6048, time 65.28ms, mfu 0.02%\n",
      "iter 115: loss 2.5476, time 68.31ms, mfu 0.02%\n",
      "iter 116: loss 2.5759, time 70.96ms, mfu 0.02%\n",
      "iter 117: loss 2.5398, time 74.35ms, mfu 0.02%\n",
      "iter 118: loss 2.5895, time 76.51ms, mfu 0.02%\n",
      "iter 119: loss 2.6238, time 77.50ms, mfu 0.02%\n",
      "iter 120: loss 2.6206, time 62.34ms, mfu 0.02%\n",
      "iter 121: loss 2.7216, time 66.63ms, mfu 0.02%\n",
      "iter 122: loss 2.6038, time 63.12ms, mfu 0.02%\n",
      "iter 123: loss 2.5846, time 69.17ms, mfu 0.02%\n",
      "iter 124: loss 2.6185, time 69.85ms, mfu 0.02%\n",
      "iter 125: loss 2.5922, time 68.27ms, mfu 0.02%\n",
      "iter 126: loss 2.6086, time 66.55ms, mfu 0.02%\n",
      "iter 127: loss 2.6753, time 64.40ms, mfu 0.02%\n",
      "iter 128: loss 2.5911, time 75.76ms, mfu 0.02%\n",
      "iter 129: loss 2.5650, time 52.83ms, mfu 0.02%\n",
      "iter 130: loss 2.5459, time 53.25ms, mfu 0.02%\n",
      "iter 131: loss 2.7001, time 50.39ms, mfu 0.02%\n",
      "iter 132: loss 2.5248, time 56.34ms, mfu 0.02%\n",
      "iter 133: loss 2.5641, time 68.60ms, mfu 0.02%\n",
      "iter 134: loss 2.4341, time 67.59ms, mfu 0.02%\n",
      "iter 135: loss 2.5768, time 63.04ms, mfu 0.02%\n",
      "iter 136: loss 2.6012, time 55.74ms, mfu 0.02%\n",
      "iter 137: loss 2.5043, time 62.38ms, mfu 0.02%\n",
      "iter 138: loss 2.5159, time 66.43ms, mfu 0.02%\n",
      "iter 139: loss 2.5872, time 68.96ms, mfu 0.02%\n",
      "iter 140: loss 2.4944, time 58.01ms, mfu 0.02%\n",
      "iter 141: loss 2.5229, time 86.23ms, mfu 0.02%\n",
      "iter 142: loss 2.5430, time 57.44ms, mfu 0.02%\n",
      "iter 143: loss 2.5687, time 51.06ms, mfu 0.02%\n",
      "iter 144: loss 2.5464, time 66.54ms, mfu 0.02%\n",
      "iter 145: loss 2.5449, time 63.35ms, mfu 0.02%\n",
      "iter 146: loss 2.5041, time 55.88ms, mfu 0.02%\n",
      "iter 147: loss 2.5602, time 71.56ms, mfu 0.02%\n",
      "iter 148: loss 2.4698, time 67.85ms, mfu 0.02%\n",
      "iter 149: loss 2.5515, time 61.19ms, mfu 0.02%\n",
      "iter 150: loss 2.5360, time 63.27ms, mfu 0.02%\n",
      "iter 151: loss 2.5290, time 69.14ms, mfu 0.02%\n",
      "iter 152: loss 2.5725, time 77.10ms, mfu 0.02%\n",
      "iter 153: loss 2.4933, time 63.32ms, mfu 0.02%\n",
      "iter 154: loss 2.4579, time 59.15ms, mfu 0.02%\n",
      "iter 155: loss 2.4768, time 64.25ms, mfu 0.02%\n",
      "iter 156: loss 2.5000, time 69.83ms, mfu 0.02%\n",
      "iter 157: loss 2.5618, time 71.53ms, mfu 0.02%\n",
      "iter 158: loss 2.5761, time 58.66ms, mfu 0.02%\n",
      "iter 159: loss 2.5046, time 63.83ms, mfu 0.02%\n",
      "iter 160: loss 2.5293, time 62.42ms, mfu 0.02%\n",
      "iter 161: loss 2.4995, time 66.22ms, mfu 0.02%\n",
      "iter 162: loss 2.4577, time 64.21ms, mfu 0.02%\n",
      "iter 163: loss 2.4998, time 67.08ms, mfu 0.02%\n",
      "iter 164: loss 2.5111, time 62.99ms, mfu 0.02%\n",
      "iter 165: loss 2.6268, time 58.58ms, mfu 0.02%\n",
      "iter 166: loss 2.5130, time 61.36ms, mfu 0.02%\n",
      "iter 167: loss 2.4668, time 64.95ms, mfu 0.02%\n",
      "iter 168: loss 2.5482, time 66.53ms, mfu 0.02%\n",
      "iter 169: loss 2.4939, time 64.36ms, mfu 0.02%\n",
      "iter 170: loss 2.4728, time 67.91ms, mfu 0.02%\n",
      "iter 171: loss 2.3852, time 70.29ms, mfu 0.02%\n",
      "iter 172: loss 2.5197, time 61.81ms, mfu 0.02%\n",
      "iter 173: loss 2.5215, time 67.17ms, mfu 0.02%\n",
      "iter 174: loss 2.4674, time 75.60ms, mfu 0.02%\n",
      "iter 175: loss 2.4651, time 65.90ms, mfu 0.02%\n",
      "iter 176: loss 2.4536, time 62.66ms, mfu 0.02%\n",
      "iter 177: loss 2.4905, time 83.58ms, mfu 0.02%\n",
      "iter 178: loss 2.4806, time 52.00ms, mfu 0.02%\n",
      "iter 179: loss 2.6162, time 68.86ms, mfu 0.02%\n",
      "iter 180: loss 2.4912, time 70.13ms, mfu 0.02%\n",
      "iter 181: loss 2.4512, time 64.14ms, mfu 0.02%\n",
      "iter 182: loss 2.4419, time 71.78ms, mfu 0.02%\n",
      "iter 183: loss 2.5444, time 70.41ms, mfu 0.02%\n",
      "iter 184: loss 2.4474, time 73.61ms, mfu 0.02%\n",
      "iter 185: loss 2.5635, time 52.44ms, mfu 0.02%\n",
      "iter 186: loss 2.5666, time 63.78ms, mfu 0.02%\n",
      "iter 187: loss 2.5048, time 65.50ms, mfu 0.02%\n",
      "iter 188: loss 2.4850, time 66.79ms, mfu 0.02%\n",
      "iter 189: loss 2.5585, time 65.94ms, mfu 0.02%\n",
      "iter 190: loss 2.5454, time 65.96ms, mfu 0.02%\n",
      "iter 191: loss 2.5403, time 55.33ms, mfu 0.02%\n",
      "iter 192: loss 2.4553, time 62.08ms, mfu 0.02%\n",
      "iter 193: loss 2.5769, time 60.93ms, mfu 0.02%\n",
      "iter 194: loss 2.4814, time 62.18ms, mfu 0.02%\n",
      "iter 195: loss 2.4792, time 49.39ms, mfu 0.02%\n",
      "iter 196: loss 2.4719, time 57.55ms, mfu 0.02%\n",
      "iter 197: loss 2.4642, time 69.74ms, mfu 0.02%\n",
      "iter 198: loss 2.4504, time 64.52ms, mfu 0.02%\n",
      "iter 199: loss 2.4832, time 64.63ms, mfu 0.02%\n",
      "iter 200: loss 2.5010, time 85.48ms, mfu 0.02%\n",
      "iter 201: loss 2.4369, time 91.83ms, mfu 0.02%\n",
      "iter 202: loss 2.4480, time 89.44ms, mfu 0.02%\n",
      "iter 203: loss 2.5372, time 79.69ms, mfu 0.02%\n",
      "iter 204: loss 2.4791, time 101.19ms, mfu 0.02%\n",
      "iter 205: loss 2.4776, time 103.42ms, mfu 0.02%\n",
      "iter 206: loss 2.4714, time 94.21ms, mfu 0.02%\n",
      "iter 207: loss 2.5676, time 102.31ms, mfu 0.02%\n",
      "iter 208: loss 2.3839, time 98.02ms, mfu 0.02%\n",
      "iter 209: loss 2.5263, time 89.69ms, mfu 0.02%\n",
      "iter 210: loss 2.4342, time 92.06ms, mfu 0.02%\n",
      "iter 211: loss 2.5325, time 65.27ms, mfu 0.02%\n",
      "iter 212: loss 2.4722, time 65.11ms, mfu 0.02%\n",
      "iter 213: loss 2.4526, time 69.95ms, mfu 0.02%\n",
      "iter 214: loss 2.5307, time 78.87ms, mfu 0.02%\n",
      "iter 215: loss 2.5435, time 54.59ms, mfu 0.02%\n",
      "iter 216: loss 2.5083, time 45.11ms, mfu 0.02%\n",
      "iter 217: loss 2.4567, time 51.59ms, mfu 0.02%\n",
      "iter 218: loss 2.5047, time 67.72ms, mfu 0.02%\n",
      "iter 219: loss 2.4610, time 64.60ms, mfu 0.02%\n",
      "iter 220: loss 2.4930, time 67.40ms, mfu 0.02%\n",
      "iter 221: loss 2.5021, time 69.52ms, mfu 0.02%\n",
      "iter 222: loss 2.4631, time 69.35ms, mfu 0.02%\n",
      "iter 223: loss 2.5244, time 57.19ms, mfu 0.02%\n",
      "iter 224: loss 2.3972, time 60.16ms, mfu 0.02%\n",
      "iter 225: loss 2.5483, time 59.33ms, mfu 0.02%\n",
      "iter 226: loss 2.4776, time 66.76ms, mfu 0.02%\n",
      "iter 227: loss 2.4666, time 65.94ms, mfu 0.02%\n",
      "iter 228: loss 2.4509, time 66.05ms, mfu 0.02%\n",
      "iter 229: loss 2.5274, time 67.95ms, mfu 0.02%\n",
      "iter 230: loss 2.4650, time 71.09ms, mfu 0.02%\n",
      "iter 231: loss 2.4216, time 56.49ms, mfu 0.02%\n",
      "iter 232: loss 2.4467, time 69.00ms, mfu 0.02%\n",
      "iter 233: loss 2.4593, time 61.30ms, mfu 0.02%\n",
      "iter 234: loss 2.4191, time 58.49ms, mfu 0.02%\n",
      "iter 235: loss 2.4863, time 63.70ms, mfu 0.02%\n",
      "iter 236: loss 2.4418, time 56.39ms, mfu 0.02%\n",
      "iter 237: loss 2.4791, time 60.32ms, mfu 0.02%\n",
      "iter 238: loss 2.5074, time 65.58ms, mfu 0.02%\n",
      "iter 239: loss 2.4592, time 73.44ms, mfu 0.02%\n",
      "iter 240: loss 2.5153, time 65.48ms, mfu 0.02%\n",
      "iter 241: loss 2.4178, time 64.91ms, mfu 0.02%\n",
      "iter 242: loss 2.4862, time 60.29ms, mfu 0.02%\n",
      "iter 243: loss 2.4868, time 71.03ms, mfu 0.02%\n",
      "iter 244: loss 2.4040, time 67.24ms, mfu 0.02%\n",
      "iter 245: loss 2.5028, time 58.26ms, mfu 0.02%\n",
      "iter 246: loss 2.4063, time 73.64ms, mfu 0.02%\n",
      "iter 247: loss 2.4626, time 59.30ms, mfu 0.02%\n",
      "iter 248: loss 2.4512, time 66.90ms, mfu 0.02%\n",
      "iter 249: loss 2.4468, time 66.69ms, mfu 0.02%\n",
      "step 250: train loss 2.4317, val loss 2.4448\n",
      "saving checkpoint to out-shakespeare-char\n",
      "iter 250: loss 2.4973, time 854.41ms, mfu 0.02%\n",
      "iter 251: loss 2.3618, time 62.69ms, mfu 0.02%\n",
      "iter 252: loss 2.4911, time 48.36ms, mfu 0.02%\n",
      "iter 253: loss 2.4075, time 51.39ms, mfu 0.02%\n",
      "iter 254: loss 2.4045, time 42.77ms, mfu 0.02%\n",
      "iter 255: loss 2.4539, time 64.11ms, mfu 0.02%\n",
      "iter 256: loss 2.3598, time 47.94ms, mfu 0.02%\n",
      "iter 257: loss 2.3931, time 72.35ms, mfu 0.02%\n",
      "iter 258: loss 2.4068, time 73.32ms, mfu 0.02%\n",
      "iter 259: loss 2.3860, time 76.99ms, mfu 0.02%\n",
      "iter 260: loss 2.4447, time 55.34ms, mfu 0.02%\n",
      "iter 261: loss 2.4752, time 75.18ms, mfu 0.02%\n",
      "iter 262: loss 2.4478, time 47.62ms, mfu 0.02%\n",
      "iter 263: loss 2.4146, time 54.48ms, mfu 0.02%\n",
      "iter 264: loss 2.4715, time 45.58ms, mfu 0.02%\n",
      "iter 265: loss 2.4919, time 48.48ms, mfu 0.02%\n",
      "iter 266: loss 2.4309, time 51.22ms, mfu 0.02%\n",
      "iter 267: loss 2.3593, time 64.00ms, mfu 0.02%\n",
      "iter 268: loss 2.5305, time 62.12ms, mfu 0.02%\n",
      "iter 269: loss 2.4659, time 45.70ms, mfu 0.02%\n",
      "iter 270: loss 2.4113, time 40.91ms, mfu 0.02%\n",
      "iter 271: loss 2.4783, time 51.72ms, mfu 0.02%\n",
      "iter 272: loss 2.4249, time 48.26ms, mfu 0.02%\n",
      "iter 273: loss 2.3985, time 44.06ms, mfu 0.02%\n",
      "iter 274: loss 2.4074, time 52.58ms, mfu 0.02%\n",
      "iter 275: loss 2.4255, time 62.68ms, mfu 0.02%\n",
      "iter 276: loss 2.4109, time 65.91ms, mfu 0.02%\n",
      "iter 277: loss 2.3893, time 71.68ms, mfu 0.02%\n",
      "iter 278: loss 2.3850, time 71.19ms, mfu 0.02%\n",
      "iter 279: loss 2.3723, time 66.07ms, mfu 0.02%\n",
      "iter 280: loss 2.3816, time 57.58ms, mfu 0.02%\n",
      "iter 281: loss 2.4727, time 83.45ms, mfu 0.02%\n",
      "iter 282: loss 2.4090, time 95.47ms, mfu 0.02%\n",
      "iter 283: loss 2.4207, time 96.49ms, mfu 0.02%\n",
      "iter 284: loss 2.3995, time 102.10ms, mfu 0.02%\n",
      "iter 285: loss 2.4388, time 113.43ms, mfu 0.02%\n",
      "iter 286: loss 2.4539, time 79.09ms, mfu 0.02%\n",
      "iter 287: loss 2.4223, time 99.30ms, mfu 0.02%\n",
      "iter 288: loss 2.4318, time 102.62ms, mfu 0.02%\n",
      "iter 289: loss 2.3911, time 101.13ms, mfu 0.02%\n",
      "iter 290: loss 2.4047, time 99.53ms, mfu 0.02%\n",
      "iter 291: loss 2.3190, time 97.23ms, mfu 0.02%\n",
      "iter 292: loss 2.3932, time 77.69ms, mfu 0.02%\n",
      "iter 293: loss 2.3870, time 99.06ms, mfu 0.02%\n",
      "iter 294: loss 2.3249, time 90.63ms, mfu 0.02%\n",
      "iter 295: loss 2.4377, time 90.85ms, mfu 0.02%\n",
      "iter 296: loss 2.3251, time 91.71ms, mfu 0.02%\n",
      "iter 297: loss 2.3947, time 50.37ms, mfu 0.02%\n",
      "iter 298: loss 2.3473, time 98.15ms, mfu 0.02%\n",
      "iter 299: loss 2.3979, time 84.49ms, mfu 0.02%\n",
      "iter 300: loss 2.3445, time 99.01ms, mfu 0.02%\n",
      "iter 301: loss 2.2896, time 99.46ms, mfu 0.02%\n",
      "iter 302: loss 2.4536, time 81.65ms, mfu 0.02%\n",
      "iter 303: loss 2.4029, time 38.60ms, mfu 0.02%\n",
      "iter 304: loss 2.4922, time 64.80ms, mfu 0.02%\n",
      "iter 305: loss 2.4145, time 51.08ms, mfu 0.02%\n",
      "iter 306: loss 2.3809, time 54.25ms, mfu 0.02%\n",
      "iter 307: loss 2.3502, time 49.24ms, mfu 0.02%\n",
      "iter 308: loss 2.4315, time 68.04ms, mfu 0.02%\n",
      "iter 309: loss 2.4291, time 51.62ms, mfu 0.02%\n",
      "iter 310: loss 2.3552, time 55.39ms, mfu 0.02%\n",
      "iter 311: loss 2.4020, time 57.50ms, mfu 0.02%\n",
      "iter 312: loss 2.4580, time 62.21ms, mfu 0.02%\n",
      "iter 313: loss 2.4396, time 67.34ms, mfu 0.02%\n",
      "iter 314: loss 2.4781, time 63.04ms, mfu 0.02%\n",
      "iter 315: loss 2.4414, time 67.41ms, mfu 0.02%\n",
      "iter 316: loss 2.4493, time 64.07ms, mfu 0.02%\n",
      "iter 317: loss 2.3038, time 59.63ms, mfu 0.02%\n",
      "iter 318: loss 2.3875, time 65.35ms, mfu 0.02%\n",
      "iter 319: loss 2.4151, time 86.88ms, mfu 0.02%\n",
      "iter 320: loss 2.4118, time 88.73ms, mfu 0.02%\n",
      "iter 321: loss 2.3831, time 86.27ms, mfu 0.02%\n",
      "iter 322: loss 2.3895, time 90.35ms, mfu 0.02%\n",
      "iter 323: loss 2.4039, time 102.57ms, mfu 0.02%\n",
      "iter 324: loss 2.3999, time 104.33ms, mfu 0.02%\n",
      "iter 325: loss 2.3670, time 101.07ms, mfu 0.02%\n",
      "iter 326: loss 2.4708, time 100.54ms, mfu 0.02%\n",
      "iter 327: loss 2.3674, time 99.90ms, mfu 0.02%\n",
      "iter 328: loss 2.3829, time 100.13ms, mfu 0.02%\n",
      "iter 329: loss 2.3273, time 95.72ms, mfu 0.02%\n",
      "iter 330: loss 2.3290, time 68.33ms, mfu 0.02%\n",
      "iter 331: loss 2.4172, time 66.55ms, mfu 0.02%\n",
      "iter 332: loss 2.3458, time 67.37ms, mfu 0.02%\n",
      "iter 333: loss 2.4178, time 66.50ms, mfu 0.02%\n",
      "iter 334: loss 2.3937, time 66.09ms, mfu 0.02%\n",
      "iter 335: loss 2.3914, time 69.78ms, mfu 0.02%\n",
      "iter 336: loss 2.4209, time 60.87ms, mfu 0.02%\n",
      "iter 337: loss 2.3201, time 61.80ms, mfu 0.02%\n",
      "iter 338: loss 2.3627, time 59.24ms, mfu 0.02%\n",
      "iter 339: loss 2.4604, time 67.10ms, mfu 0.02%\n",
      "iter 340: loss 2.3399, time 53.01ms, mfu 0.02%\n",
      "iter 341: loss 2.3219, time 57.16ms, mfu 0.02%\n",
      "iter 342: loss 2.3083, time 62.04ms, mfu 0.02%\n",
      "iter 343: loss 2.3292, time 72.50ms, mfu 0.02%\n",
      "iter 344: loss 2.4011, time 73.67ms, mfu 0.02%\n",
      "iter 345: loss 2.3629, time 56.81ms, mfu 0.02%\n",
      "iter 346: loss 2.3651, time 52.58ms, mfu 0.02%\n",
      "iter 347: loss 2.3855, time 65.11ms, mfu 0.02%\n",
      "iter 348: loss 2.3176, time 60.22ms, mfu 0.02%\n",
      "iter 349: loss 2.3569, time 59.91ms, mfu 0.02%\n",
      "iter 350: loss 2.3469, time 70.14ms, mfu 0.02%\n",
      "iter 351: loss 2.2708, time 71.23ms, mfu 0.02%\n",
      "iter 352: loss 2.3750, time 69.51ms, mfu 0.02%\n",
      "iter 353: loss 2.4569, time 62.72ms, mfu 0.02%\n",
      "iter 354: loss 2.3698, time 63.12ms, mfu 0.02%\n",
      "iter 355: loss 2.4557, time 64.32ms, mfu 0.02%\n",
      "iter 356: loss 2.2876, time 70.71ms, mfu 0.02%\n",
      "iter 357: loss 2.3108, time 56.26ms, mfu 0.02%\n",
      "iter 358: loss 2.3451, time 63.15ms, mfu 0.02%\n",
      "iter 359: loss 2.3458, time 56.95ms, mfu 0.02%\n",
      "iter 360: loss 2.3961, time 60.59ms, mfu 0.02%\n",
      "iter 361: loss 2.2864, time 59.88ms, mfu 0.02%\n",
      "iter 362: loss 2.3844, time 54.83ms, mfu 0.02%\n",
      "iter 363: loss 2.3686, time 61.42ms, mfu 0.02%\n",
      "iter 364: loss 2.3647, time 65.98ms, mfu 0.02%\n",
      "iter 365: loss 2.3941, time 68.29ms, mfu 0.02%\n",
      "iter 366: loss 2.4251, time 70.80ms, mfu 0.02%\n",
      "iter 367: loss 2.3330, time 69.56ms, mfu 0.02%\n",
      "iter 368: loss 2.3741, time 50.80ms, mfu 0.02%\n",
      "iter 369: loss 2.3811, time 57.40ms, mfu 0.02%\n",
      "iter 370: loss 2.4841, time 57.38ms, mfu 0.02%\n",
      "iter 371: loss 2.3499, time 64.84ms, mfu 0.02%\n",
      "iter 372: loss 2.3112, time 63.16ms, mfu 0.02%\n",
      "iter 373: loss 2.3843, time 73.89ms, mfu 0.02%\n",
      "iter 374: loss 2.4027, time 66.39ms, mfu 0.02%\n",
      "iter 375: loss 2.2901, time 63.59ms, mfu 0.02%\n",
      "iter 376: loss 2.3647, time 70.03ms, mfu 0.02%\n",
      "iter 377: loss 2.3586, time 73.52ms, mfu 0.02%\n",
      "iter 378: loss 2.3696, time 68.17ms, mfu 0.02%\n",
      "iter 379: loss 2.3296, time 55.27ms, mfu 0.02%\n",
      "iter 380: loss 2.3368, time 65.24ms, mfu 0.02%\n",
      "iter 381: loss 2.2844, time 69.12ms, mfu 0.02%\n",
      "iter 382: loss 2.4087, time 68.26ms, mfu 0.02%\n",
      "iter 383: loss 2.3730, time 72.89ms, mfu 0.02%\n",
      "iter 384: loss 2.3091, time 73.96ms, mfu 0.02%\n",
      "iter 385: loss 2.3157, time 66.35ms, mfu 0.02%\n",
      "iter 386: loss 2.3395, time 68.84ms, mfu 0.02%\n",
      "iter 387: loss 2.3361, time 70.34ms, mfu 0.02%\n",
      "iter 388: loss 2.2580, time 72.70ms, mfu 0.02%\n",
      "iter 389: loss 2.3664, time 54.08ms, mfu 0.02%\n",
      "iter 390: loss 2.3506, time 58.47ms, mfu 0.02%\n",
      "iter 391: loss 2.4118, time 65.84ms, mfu 0.02%\n",
      "iter 392: loss 2.3034, time 58.80ms, mfu 0.02%\n",
      "iter 393: loss 2.3125, time 57.36ms, mfu 0.02%\n",
      "iter 394: loss 2.4655, time 63.33ms, mfu 0.02%\n",
      "iter 395: loss 2.3174, time 70.33ms, mfu 0.02%\n",
      "iter 396: loss 2.3736, time 65.05ms, mfu 0.02%\n",
      "iter 397: loss 2.3001, time 67.96ms, mfu 0.02%\n",
      "iter 398: loss 2.2165, time 60.28ms, mfu 0.02%\n",
      "iter 399: loss 2.3738, time 64.44ms, mfu 0.02%\n",
      "iter 400: loss 2.3360, time 47.16ms, mfu 0.02%\n",
      "iter 401: loss 2.3507, time 66.15ms, mfu 0.02%\n",
      "iter 402: loss 2.3684, time 59.53ms, mfu 0.02%\n",
      "iter 403: loss 2.3624, time 66.31ms, mfu 0.02%\n",
      "iter 404: loss 2.3436, time 63.78ms, mfu 0.02%\n",
      "iter 405: loss 2.4126, time 57.32ms, mfu 0.02%\n",
      "iter 406: loss 2.3425, time 61.80ms, mfu 0.02%\n",
      "iter 407: loss 2.3900, time 57.95ms, mfu 0.02%\n",
      "iter 408: loss 2.2759, time 59.58ms, mfu 0.02%\n",
      "iter 409: loss 2.3053, time 56.80ms, mfu 0.02%\n",
      "iter 410: loss 2.2766, time 55.90ms, mfu 0.02%\n",
      "iter 411: loss 2.3632, time 57.76ms, mfu 0.02%\n",
      "iter 412: loss 2.3453, time 58.95ms, mfu 0.02%\n",
      "iter 413: loss 2.3231, time 51.23ms, mfu 0.02%\n",
      "iter 414: loss 2.3479, time 57.82ms, mfu 0.02%\n",
      "iter 415: loss 2.4018, time 58.27ms, mfu 0.02%\n",
      "iter 416: loss 2.3273, time 61.38ms, mfu 0.02%\n",
      "iter 417: loss 2.2935, time 63.90ms, mfu 0.02%\n",
      "iter 418: loss 2.2811, time 55.88ms, mfu 0.02%\n",
      "iter 419: loss 2.2913, time 59.94ms, mfu 0.02%\n",
      "iter 420: loss 2.3765, time 62.34ms, mfu 0.02%\n",
      "iter 421: loss 2.2388, time 64.14ms, mfu 0.02%\n",
      "iter 422: loss 2.2910, time 60.48ms, mfu 0.02%\n",
      "iter 423: loss 2.3322, time 60.93ms, mfu 0.02%\n",
      "iter 424: loss 2.2708, time 53.86ms, mfu 0.02%\n",
      "iter 425: loss 2.3267, time 58.23ms, mfu 0.02%\n",
      "iter 426: loss 2.4085, time 46.23ms, mfu 0.02%\n",
      "iter 427: loss 2.3704, time 60.15ms, mfu 0.02%\n",
      "iter 428: loss 2.3067, time 55.86ms, mfu 0.02%\n",
      "iter 429: loss 2.2449, time 59.88ms, mfu 0.02%\n",
      "iter 430: loss 2.4063, time 63.18ms, mfu 0.02%\n",
      "iter 431: loss 2.3350, time 65.10ms, mfu 0.02%\n",
      "iter 432: loss 2.3398, time 59.46ms, mfu 0.02%\n",
      "iter 433: loss 2.2699, time 66.05ms, mfu 0.02%\n",
      "iter 434: loss 2.2916, time 57.58ms, mfu 0.02%\n",
      "iter 435: loss 2.2885, time 65.45ms, mfu 0.02%\n",
      "iter 436: loss 2.4051, time 72.30ms, mfu 0.02%\n",
      "iter 437: loss 2.2633, time 61.46ms, mfu 0.02%\n",
      "iter 438: loss 2.2877, time 58.78ms, mfu 0.02%\n",
      "iter 439: loss 2.2824, time 59.74ms, mfu 0.02%\n",
      "iter 440: loss 2.3555, time 52.40ms, mfu 0.02%\n",
      "iter 441: loss 2.3444, time 56.94ms, mfu 0.02%\n",
      "iter 442: loss 2.3542, time 58.43ms, mfu 0.02%\n",
      "iter 443: loss 2.3530, time 49.68ms, mfu 0.02%\n",
      "iter 444: loss 2.3526, time 46.96ms, mfu 0.02%\n",
      "iter 445: loss 2.2852, time 44.30ms, mfu 0.02%\n",
      "iter 446: loss 2.2861, time 53.80ms, mfu 0.02%\n",
      "iter 447: loss 2.3772, time 60.03ms, mfu 0.02%\n",
      "iter 448: loss 2.3755, time 60.93ms, mfu 0.02%\n",
      "iter 449: loss 2.3443, time 56.67ms, mfu 0.02%\n",
      "iter 450: loss 2.3408, time 60.85ms, mfu 0.02%\n",
      "iter 451: loss 2.3051, time 61.43ms, mfu 0.02%\n",
      "iter 452: loss 2.3532, time 55.73ms, mfu 0.02%\n",
      "iter 453: loss 2.3105, time 53.08ms, mfu 0.02%\n",
      "iter 454: loss 2.3415, time 51.55ms, mfu 0.02%\n",
      "iter 455: loss 2.3499, time 53.75ms, mfu 0.02%\n",
      "iter 456: loss 2.3174, time 48.56ms, mfu 0.02%\n",
      "iter 457: loss 2.2916, time 42.52ms, mfu 0.02%\n",
      "iter 458: loss 2.2795, time 50.61ms, mfu 0.02%\n",
      "iter 459: loss 2.3125, time 50.13ms, mfu 0.02%\n",
      "iter 460: loss 2.3273, time 58.93ms, mfu 0.02%\n",
      "iter 461: loss 2.3597, time 71.50ms, mfu 0.02%\n",
      "iter 462: loss 2.3881, time 86.35ms, mfu 0.02%\n",
      "iter 463: loss 2.3137, time 88.74ms, mfu 0.02%\n",
      "iter 464: loss 2.2893, time 90.80ms, mfu 0.02%\n",
      "iter 465: loss 2.2999, time 90.65ms, mfu 0.02%\n",
      "iter 466: loss 2.2941, time 75.62ms, mfu 0.02%\n",
      "iter 467: loss 2.2232, time 99.14ms, mfu 0.02%\n",
      "iter 468: loss 2.2863, time 96.03ms, mfu 0.02%\n",
      "iter 469: loss 2.2192, time 100.47ms, mfu 0.02%\n",
      "iter 470: loss 2.2912, time 93.28ms, mfu 0.02%\n",
      "iter 471: loss 2.2890, time 93.94ms, mfu 0.02%\n",
      "iter 472: loss 2.2644, time 100.39ms, mfu 0.02%\n",
      "iter 473: loss 2.2918, time 63.39ms, mfu 0.02%\n",
      "iter 474: loss 2.2111, time 56.82ms, mfu 0.02%\n",
      "iter 475: loss 2.3430, time 57.68ms, mfu 0.02%\n",
      "iter 476: loss 2.2821, time 59.67ms, mfu 0.02%\n",
      "iter 477: loss 2.3173, time 60.09ms, mfu 0.02%\n",
      "iter 478: loss 2.3496, time 59.12ms, mfu 0.02%\n",
      "iter 479: loss 2.2942, time 62.15ms, mfu 0.02%\n",
      "iter 480: loss 2.2204, time 59.98ms, mfu 0.02%\n",
      "iter 481: loss 2.2070, time 58.73ms, mfu 0.02%\n",
      "iter 482: loss 2.2997, time 59.92ms, mfu 0.02%\n",
      "iter 483: loss 2.2876, time 58.69ms, mfu 0.02%\n",
      "iter 484: loss 2.2700, time 64.50ms, mfu 0.02%\n",
      "iter 485: loss 2.2872, time 62.31ms, mfu 0.02%\n",
      "iter 486: loss 2.2835, time 59.59ms, mfu 0.02%\n",
      "iter 487: loss 2.2987, time 60.79ms, mfu 0.02%\n",
      "iter 488: loss 2.3205, time 56.67ms, mfu 0.02%\n",
      "iter 489: loss 2.2827, time 67.27ms, mfu 0.02%\n",
      "iter 490: loss 2.3210, time 58.54ms, mfu 0.02%\n",
      "iter 491: loss 2.3034, time 46.16ms, mfu 0.02%\n",
      "iter 492: loss 2.3939, time 54.01ms, mfu 0.02%\n",
      "iter 493: loss 2.1889, time 61.76ms, mfu 0.02%\n",
      "iter 494: loss 2.3487, time 58.30ms, mfu 0.02%\n",
      "iter 495: loss 2.2585, time 56.29ms, mfu 0.02%\n",
      "iter 496: loss 2.2654, time 60.15ms, mfu 0.02%\n",
      "iter 497: loss 2.2366, time 57.85ms, mfu 0.02%\n",
      "iter 498: loss 2.3075, time 59.17ms, mfu 0.02%\n",
      "iter 499: loss 2.2383, time 62.78ms, mfu 0.02%\n",
      "step 500: train loss 2.2800, val loss 2.3281\n",
      "saving checkpoint to out-shakespeare-char\n",
      "iter 500: loss 2.3838, time 826.34ms, mfu 0.02%\n",
      "iter 501: loss 2.2456, time 75.88ms, mfu 0.02%\n",
      "iter 502: loss 2.2743, time 48.22ms, mfu 0.02%\n",
      "iter 503: loss 2.2954, time 62.25ms, mfu 0.02%\n",
      "iter 504: loss 2.2902, time 53.87ms, mfu 0.02%\n",
      "iter 505: loss 2.4172, time 46.86ms, mfu 0.02%\n",
      "iter 506: loss 2.3040, time 49.24ms, mfu 0.02%\n",
      "iter 507: loss 2.2754, time 54.73ms, mfu 0.02%\n",
      "iter 508: loss 2.3905, time 49.80ms, mfu 0.02%\n",
      "iter 509: loss 2.2841, time 64.84ms, mfu 0.02%\n",
      "iter 510: loss 2.1983, time 50.29ms, mfu 0.02%\n",
      "iter 511: loss 2.2552, time 46.81ms, mfu 0.02%\n",
      "iter 512: loss 2.3081, time 65.80ms, mfu 0.02%\n",
      "iter 513: loss 2.2208, time 55.60ms, mfu 0.02%\n",
      "iter 514: loss 2.2140, time 46.54ms, mfu 0.02%\n",
      "iter 515: loss 2.2638, time 47.60ms, mfu 0.02%\n",
      "iter 516: loss 2.2186, time 52.94ms, mfu 0.02%\n",
      "iter 517: loss 2.3115, time 58.86ms, mfu 0.02%\n",
      "iter 518: loss 2.3110, time 42.60ms, mfu 0.02%\n",
      "iter 519: loss 2.3082, time 47.58ms, mfu 0.02%\n",
      "iter 520: loss 2.3279, time 64.57ms, mfu 0.02%\n",
      "iter 521: loss 2.2995, time 54.45ms, mfu 0.02%\n",
      "iter 522: loss 2.2808, time 47.26ms, mfu 0.02%\n",
      "iter 523: loss 2.2893, time 42.96ms, mfu 0.02%\n",
      "iter 524: loss 2.2278, time 46.46ms, mfu 0.02%\n",
      "iter 525: loss 2.2120, time 44.53ms, mfu 0.03%\n",
      "iter 526: loss 2.2193, time 50.17ms, mfu 0.03%\n",
      "iter 527: loss 2.3190, time 52.47ms, mfu 0.03%\n",
      "iter 528: loss 2.2119, time 57.53ms, mfu 0.02%\n",
      "iter 529: loss 2.2513, time 63.77ms, mfu 0.02%\n",
      "iter 530: loss 2.3086, time 69.07ms, mfu 0.02%\n",
      "iter 531: loss 2.2461, time 81.10ms, mfu 0.02%\n",
      "iter 532: loss 2.3136, time 90.75ms, mfu 0.02%\n",
      "iter 533: loss 2.2849, time 88.93ms, mfu 0.02%\n",
      "iter 534: loss 2.2333, time 92.30ms, mfu 0.02%\n",
      "iter 535: loss 2.2540, time 93.38ms, mfu 0.02%\n",
      "iter 536: loss 2.3268, time 99.11ms, mfu 0.02%\n",
      "iter 537: loss 2.2357, time 72.28ms, mfu 0.02%\n",
      "iter 538: loss 2.1930, time 94.38ms, mfu 0.02%\n",
      "iter 539: loss 2.1525, time 89.97ms, mfu 0.02%\n",
      "iter 540: loss 2.2589, time 88.06ms, mfu 0.02%\n",
      "iter 541: loss 2.2201, time 99.04ms, mfu 0.02%\n",
      "iter 542: loss 2.2913, time 95.04ms, mfu 0.02%\n",
      "iter 543: loss 2.4153, time 99.34ms, mfu 0.02%\n",
      "iter 544: loss 2.2835, time 97.63ms, mfu 0.02%\n",
      "iter 545: loss 2.2367, time 91.84ms, mfu 0.02%\n",
      "iter 546: loss 2.3090, time 103.18ms, mfu 0.02%\n",
      "iter 547: loss 2.2244, time 90.57ms, mfu 0.02%\n",
      "iter 548: loss 2.1890, time 72.35ms, mfu 0.02%\n",
      "iter 549: loss 2.2028, time 85.34ms, mfu 0.02%\n",
      "iter 550: loss 2.2055, time 97.50ms, mfu 0.02%\n",
      "iter 551: loss 2.2244, time 95.22ms, mfu 0.02%\n",
      "iter 552: loss 2.2413, time 98.13ms, mfu 0.01%\n",
      "iter 553: loss 2.3309, time 43.19ms, mfu 0.02%\n",
      "iter 554: loss 2.2035, time 57.05ms, mfu 0.02%\n",
      "iter 555: loss 2.2401, time 56.93ms, mfu 0.02%\n",
      "iter 556: loss 2.2342, time 55.44ms, mfu 0.02%\n",
      "iter 557: loss 2.1902, time 61.74ms, mfu 0.02%\n",
      "iter 558: loss 2.2216, time 57.21ms, mfu 0.02%\n",
      "iter 559: loss 2.2399, time 60.94ms, mfu 0.02%\n",
      "iter 560: loss 2.2343, time 62.70ms, mfu 0.02%\n",
      "iter 561: loss 2.2697, time 52.35ms, mfu 0.02%\n",
      "iter 562: loss 2.1353, time 51.73ms, mfu 0.02%\n",
      "iter 563: loss 2.1836, time 44.26ms, mfu 0.02%\n",
      "iter 564: loss 2.1920, time 59.73ms, mfu 0.02%\n",
      "iter 565: loss 2.1814, time 60.17ms, mfu 0.02%\n",
      "iter 566: loss 2.1757, time 57.11ms, mfu 0.02%\n",
      "iter 567: loss 2.2510, time 64.91ms, mfu 0.02%\n",
      "iter 568: loss 2.2555, time 66.64ms, mfu 0.02%\n",
      "iter 569: loss 2.2487, time 61.80ms, mfu 0.02%\n",
      "iter 570: loss 2.1016, time 63.30ms, mfu 0.02%\n",
      "iter 571: loss 2.1813, time 63.82ms, mfu 0.02%\n",
      "iter 572: loss 2.2560, time 64.92ms, mfu 0.02%\n",
      "iter 573: loss 2.2575, time 59.53ms, mfu 0.02%\n",
      "iter 574: loss 2.3219, time 65.50ms, mfu 0.02%\n",
      "iter 575: loss 2.2631, time 66.67ms, mfu 0.02%\n",
      "iter 576: loss 2.2303, time 47.77ms, mfu 0.02%\n",
      "iter 577: loss 2.2109, time 45.39ms, mfu 0.02%\n",
      "iter 578: loss 2.2952, time 46.38ms, mfu 0.02%\n",
      "iter 579: loss 2.2063, time 59.01ms, mfu 0.02%\n",
      "iter 580: loss 2.2138, time 67.52ms, mfu 0.02%\n",
      "iter 581: loss 2.3231, time 49.47ms, mfu 0.02%\n",
      "iter 582: loss 2.2068, time 40.58ms, mfu 0.02%\n",
      "iter 583: loss 2.2312, time 46.59ms, mfu 0.02%\n",
      "iter 584: loss 2.2067, time 66.59ms, mfu 0.02%\n",
      "iter 585: loss 2.2267, time 63.13ms, mfu 0.02%\n",
      "iter 586: loss 2.2118, time 63.79ms, mfu 0.02%\n",
      "iter 587: loss 2.2388, time 64.18ms, mfu 0.02%\n",
      "iter 588: loss 2.2330, time 79.78ms, mfu 0.02%\n",
      "iter 589: loss 2.1340, time 87.25ms, mfu 0.02%\n",
      "iter 590: loss 2.2116, time 85.24ms, mfu 0.02%\n",
      "iter 591: loss 2.1126, time 84.61ms, mfu 0.02%\n",
      "iter 592: loss 2.1896, time 106.73ms, mfu 0.02%\n",
      "iter 593: loss 2.2626, time 86.57ms, mfu 0.02%\n",
      "iter 594: loss 2.1501, time 87.79ms, mfu 0.02%\n",
      "iter 595: loss 2.1624, time 90.25ms, mfu 0.02%\n",
      "iter 596: loss 2.2449, time 84.73ms, mfu 0.02%\n",
      "iter 597: loss 2.2547, time 96.97ms, mfu 0.02%\n",
      "iter 598: loss 2.2133, time 102.03ms, mfu 0.02%\n",
      "iter 599: loss 2.1702, time 80.06ms, mfu 0.02%\n",
      "iter 600: loss 2.1717, time 44.37ms, mfu 0.02%\n",
      "iter 601: loss 2.2238, time 43.97ms, mfu 0.02%\n",
      "iter 602: loss 2.1935, time 46.28ms, mfu 0.02%\n",
      "iter 603: loss 2.1881, time 59.56ms, mfu 0.02%\n",
      "iter 604: loss 2.1993, time 62.94ms, mfu 0.02%\n",
      "iter 605: loss 2.2088, time 66.92ms, mfu 0.02%\n",
      "iter 606: loss 2.2429, time 62.47ms, mfu 0.02%\n",
      "iter 607: loss 2.2323, time 57.80ms, mfu 0.02%\n",
      "iter 608: loss 2.2132, time 66.21ms, mfu 0.02%\n",
      "iter 609: loss 2.1855, time 59.10ms, mfu 0.02%\n",
      "iter 610: loss 2.1825, time 65.29ms, mfu 0.02%\n",
      "iter 611: loss 2.1134, time 51.52ms, mfu 0.02%\n",
      "iter 612: loss 2.1765, time 52.50ms, mfu 0.02%\n",
      "iter 613: loss 2.1552, time 59.59ms, mfu 0.02%\n",
      "iter 614: loss 2.1851, time 60.00ms, mfu 0.02%\n",
      "iter 615: loss 2.2699, time 57.33ms, mfu 0.02%\n",
      "iter 616: loss 2.1555, time 54.71ms, mfu 0.02%\n",
      "iter 617: loss 2.2058, time 55.80ms, mfu 0.02%\n",
      "iter 618: loss 2.2263, time 59.90ms, mfu 0.02%\n",
      "iter 619: loss 2.2078, time 61.27ms, mfu 0.02%\n",
      "iter 620: loss 2.1836, time 59.88ms, mfu 0.02%\n",
      "iter 621: loss 2.1953, time 62.27ms, mfu 0.02%\n",
      "iter 622: loss 2.2260, time 55.88ms, mfu 0.02%\n",
      "iter 623: loss 2.1921, time 54.69ms, mfu 0.02%\n",
      "iter 624: loss 2.1903, time 57.56ms, mfu 0.02%\n",
      "iter 625: loss 2.1791, time 59.02ms, mfu 0.02%\n",
      "iter 626: loss 2.1630, time 71.90ms, mfu 0.02%\n",
      "iter 627: loss 2.1410, time 44.69ms, mfu 0.02%\n",
      "iter 628: loss 2.1653, time 47.30ms, mfu 0.02%\n",
      "iter 629: loss 2.2414, time 47.99ms, mfu 0.02%\n",
      "iter 630: loss 2.1598, time 52.54ms, mfu 0.02%\n",
      "iter 631: loss 2.1254, time 42.49ms, mfu 0.02%\n",
      "iter 632: loss 2.2246, time 50.44ms, mfu 0.02%\n",
      "iter 633: loss 2.1745, time 48.92ms, mfu 0.02%\n",
      "iter 634: loss 2.2760, time 61.59ms, mfu 0.02%\n",
      "iter 635: loss 2.2268, time 66.01ms, mfu 0.02%\n",
      "iter 636: loss 2.2024, time 72.48ms, mfu 0.02%\n",
      "iter 637: loss 2.1378, time 91.82ms, mfu 0.02%\n",
      "iter 638: loss 2.1752, time 84.54ms, mfu 0.02%\n",
      "iter 639: loss 2.2381, time 86.16ms, mfu 0.02%\n",
      "iter 640: loss 2.1115, time 81.58ms, mfu 0.02%\n",
      "iter 641: loss 2.2037, time 72.01ms, mfu 0.02%\n",
      "iter 642: loss 2.2406, time 84.97ms, mfu 0.02%\n",
      "iter 643: loss 2.1947, time 91.04ms, mfu 0.02%\n",
      "iter 644: loss 2.1989, time 88.14ms, mfu 0.02%\n",
      "iter 645: loss 2.1423, time 82.30ms, mfu 0.02%\n",
      "iter 646: loss 2.2037, time 93.52ms, mfu 0.02%\n",
      "iter 647: loss 2.1991, time 93.69ms, mfu 0.02%\n",
      "iter 648: loss 2.1292, time 89.98ms, mfu 0.02%\n",
      "iter 649: loss 2.1968, time 78.93ms, mfu 0.02%\n",
      "iter 650: loss 2.1318, time 64.57ms, mfu 0.02%\n",
      "iter 651: loss 2.1499, time 87.37ms, mfu 0.02%\n",
      "iter 652: loss 2.1935, time 78.06ms, mfu 0.02%\n",
      "iter 653: loss 2.2700, time 79.36ms, mfu 0.02%\n",
      "iter 654: loss 2.1556, time 82.90ms, mfu 0.02%\n",
      "iter 655: loss 2.1786, time 81.30ms, mfu 0.02%\n",
      "iter 656: loss 2.2167, time 88.69ms, mfu 0.02%\n",
      "iter 657: loss 2.2591, time 91.46ms, mfu 0.02%\n",
      "iter 658: loss 2.3073, time 91.02ms, mfu 0.02%\n",
      "iter 659: loss 2.0733, time 68.85ms, mfu 0.02%\n",
      "iter 660: loss 2.2250, time 54.83ms, mfu 0.02%\n",
      "iter 661: loss 2.1895, time 52.33ms, mfu 0.02%\n",
      "iter 662: loss 2.1785, time 56.34ms, mfu 0.02%\n",
      "iter 663: loss 2.1680, time 58.80ms, mfu 0.02%\n",
      "iter 664: loss 2.1171, time 55.34ms, mfu 0.02%\n",
      "iter 665: loss 2.1537, time 55.62ms, mfu 0.02%\n",
      "iter 666: loss 2.1207, time 45.52ms, mfu 0.02%\n",
      "iter 667: loss 2.2261, time 58.13ms, mfu 0.02%\n",
      "iter 668: loss 2.2227, time 62.59ms, mfu 0.02%\n",
      "iter 669: loss 2.1791, time 66.51ms, mfu 0.02%\n",
      "iter 670: loss 2.1112, time 57.07ms, mfu 0.02%\n",
      "iter 671: loss 2.2000, time 57.85ms, mfu 0.02%\n",
      "iter 672: loss 2.2335, time 63.95ms, mfu 0.02%\n",
      "iter 673: loss 2.1606, time 57.26ms, mfu 0.02%\n",
      "iter 674: loss 2.1520, time 53.28ms, mfu 0.02%\n",
      "iter 675: loss 2.2599, time 67.53ms, mfu 0.02%\n",
      "iter 676: loss 2.2441, time 46.41ms, mfu 0.02%\n",
      "iter 677: loss 2.2112, time 45.63ms, mfu 0.02%\n",
      "iter 678: loss 2.1735, time 53.78ms, mfu 0.02%\n",
      "iter 679: loss 2.1417, time 53.27ms, mfu 0.02%\n",
      "iter 680: loss 2.1624, time 67.35ms, mfu 0.02%\n",
      "iter 681: loss 2.2543, time 53.22ms, mfu 0.02%\n",
      "iter 682: loss 2.2058, time 43.56ms, mfu 0.02%\n",
      "iter 683: loss 2.1528, time 52.39ms, mfu 0.02%\n",
      "iter 684: loss 2.1648, time 60.83ms, mfu 0.02%\n",
      "iter 685: loss 2.1803, time 66.36ms, mfu 0.02%\n",
      "iter 686: loss 2.1111, time 50.90ms, mfu 0.02%\n",
      "iter 687: loss 2.0946, time 44.81ms, mfu 0.02%\n",
      "iter 688: loss 2.2103, time 39.18ms, mfu 0.02%\n",
      "iter 689: loss 2.1144, time 42.71ms, mfu 0.02%\n",
      "iter 690: loss 2.0830, time 53.16ms, mfu 0.02%\n",
      "iter 691: loss 2.0583, time 50.14ms, mfu 0.02%\n",
      "iter 692: loss 2.1452, time 60.75ms, mfu 0.02%\n",
      "iter 693: loss 2.2021, time 61.36ms, mfu 0.02%\n",
      "iter 694: loss 2.1982, time 52.33ms, mfu 0.02%\n",
      "iter 695: loss 2.0030, time 75.42ms, mfu 0.02%\n",
      "iter 696: loss 2.1436, time 81.90ms, mfu 0.02%\n",
      "iter 697: loss 2.2544, time 83.63ms, mfu 0.02%\n",
      "iter 698: loss 2.1549, time 90.27ms, mfu 0.02%\n",
      "iter 699: loss 2.1720, time 86.16ms, mfu 0.02%\n",
      "iter 700: loss 2.1069, time 97.34ms, mfu 0.02%\n",
      "iter 701: loss 2.0988, time 99.98ms, mfu 0.02%\n",
      "iter 702: loss 2.2359, time 66.25ms, mfu 0.02%\n",
      "iter 703: loss 2.1885, time 57.61ms, mfu 0.02%\n",
      "iter 704: loss 2.0658, time 73.20ms, mfu 0.02%\n",
      "iter 705: loss 2.1182, time 91.77ms, mfu 0.02%\n",
      "iter 706: loss 2.2135, time 109.17ms, mfu 0.02%\n",
      "iter 707: loss 2.0578, time 54.69ms, mfu 0.02%\n",
      "iter 708: loss 2.0905, time 43.83ms, mfu 0.02%\n",
      "iter 709: loss 2.1805, time 48.63ms, mfu 0.02%\n",
      "iter 710: loss 2.1944, time 53.38ms, mfu 0.02%\n",
      "iter 711: loss 2.1246, time 46.02ms, mfu 0.02%\n",
      "iter 712: loss 2.2364, time 54.58ms, mfu 0.02%\n",
      "iter 713: loss 2.0290, time 57.38ms, mfu 0.02%\n",
      "iter 714: loss 2.0725, time 52.77ms, mfu 0.02%\n",
      "iter 715: loss 2.0507, time 57.39ms, mfu 0.02%\n",
      "iter 716: loss 2.1275, time 51.21ms, mfu 0.02%\n",
      "iter 717: loss 2.1679, time 70.94ms, mfu 0.02%\n",
      "iter 718: loss 2.1270, time 46.49ms, mfu 0.02%\n",
      "iter 719: loss 2.1165, time 59.61ms, mfu 0.02%\n",
      "iter 720: loss 2.1149, time 53.84ms, mfu 0.02%\n",
      "iter 721: loss 2.2506, time 60.46ms, mfu 0.02%\n",
      "iter 722: loss 2.0910, time 56.38ms, mfu 0.02%\n",
      "iter 723: loss 2.0770, time 65.49ms, mfu 0.02%\n",
      "iter 724: loss 2.0978, time 49.48ms, mfu 0.02%\n",
      "iter 725: loss 2.2160, time 73.59ms, mfu 0.02%\n",
      "iter 726: loss 2.1411, time 71.21ms, mfu 0.02%\n",
      "iter 727: loss 2.1010, time 76.25ms, mfu 0.02%\n",
      "iter 728: loss 2.1527, time 88.24ms, mfu 0.02%\n",
      "iter 729: loss 2.1586, time 92.33ms, mfu 0.02%\n",
      "iter 730: loss 2.1864, time 92.58ms, mfu 0.02%\n",
      "iter 731: loss 2.1612, time 107.19ms, mfu 0.02%\n",
      "iter 732: loss 2.1246, time 86.89ms, mfu 0.02%\n",
      "iter 733: loss 2.0920, time 69.31ms, mfu 0.02%\n",
      "iter 734: loss 2.0778, time 76.25ms, mfu 0.02%\n",
      "iter 735: loss 2.1048, time 73.25ms, mfu 0.02%\n",
      "iter 736: loss 2.1083, time 89.66ms, mfu 0.02%\n",
      "iter 737: loss 2.2696, time 86.97ms, mfu 0.02%\n",
      "iter 738: loss 2.0251, time 86.88ms, mfu 0.02%\n",
      "iter 739: loss 2.1295, time 85.57ms, mfu 0.02%\n",
      "iter 740: loss 2.1260, time 88.21ms, mfu 0.02%\n",
      "iter 741: loss 2.0385, time 90.16ms, mfu 0.02%\n",
      "iter 742: loss 2.1419, time 89.32ms, mfu 0.02%\n",
      "iter 743: loss 2.1756, time 90.15ms, mfu 0.02%\n",
      "iter 744: loss 2.1191, time 86.18ms, mfu 0.02%\n",
      "iter 745: loss 2.0834, time 81.61ms, mfu 0.02%\n",
      "iter 746: loss 2.0892, time 83.83ms, mfu 0.02%\n",
      "iter 747: loss 2.0568, time 85.24ms, mfu 0.02%\n",
      "iter 748: loss 2.0695, time 90.09ms, mfu 0.02%\n",
      "iter 749: loss 2.0826, time 88.82ms, mfu 0.02%\n",
      "step 750: train loss 2.1241, val loss 2.1780\n",
      "saving checkpoint to out-shakespeare-char\n",
      "iter 750: loss 2.0689, time 651.24ms, mfu 0.01%\n",
      "iter 751: loss 2.1351, time 61.54ms, mfu 0.01%\n",
      "iter 752: loss 2.1241, time 53.84ms, mfu 0.02%\n",
      "iter 753: loss 2.0507, time 42.89ms, mfu 0.02%\n",
      "iter 754: loss 2.1300, time 49.88ms, mfu 0.02%\n",
      "iter 755: loss 2.0475, time 43.34ms, mfu 0.02%\n",
      "iter 756: loss 2.0463, time 47.35ms, mfu 0.02%\n",
      "iter 757: loss 2.1233, time 64.33ms, mfu 0.02%\n",
      "iter 758: loss 2.1296, time 51.40ms, mfu 0.02%\n",
      "iter 759: loss 2.1421, time 67.52ms, mfu 0.02%\n",
      "iter 760: loss 2.1910, time 48.96ms, mfu 0.02%\n",
      "iter 761: loss 2.1746, time 54.44ms, mfu 0.02%\n",
      "iter 762: loss 2.1388, time 48.97ms, mfu 0.02%\n",
      "iter 763: loss 2.1295, time 43.96ms, mfu 0.02%\n",
      "iter 764: loss 2.1518, time 49.08ms, mfu 0.02%\n",
      "iter 765: loss 2.0914, time 51.17ms, mfu 0.02%\n",
      "iter 766: loss 2.1440, time 48.21ms, mfu 0.02%\n",
      "iter 767: loss 2.1421, time 45.68ms, mfu 0.02%\n",
      "iter 768: loss 2.1273, time 40.14ms, mfu 0.02%\n",
      "iter 769: loss 2.0917, time 39.86ms, mfu 0.03%\n",
      "iter 770: loss 2.1055, time 45.18ms, mfu 0.03%\n",
      "iter 771: loss 2.1123, time 45.21ms, mfu 0.03%\n",
      "iter 772: loss 2.1410, time 44.05ms, mfu 0.03%\n",
      "iter 773: loss 2.1369, time 47.47ms, mfu 0.03%\n",
      "iter 774: loss 2.0502, time 42.70ms, mfu 0.03%\n",
      "iter 775: loss 2.0319, time 52.12ms, mfu 0.03%\n",
      "iter 776: loss 2.1240, time 43.68ms, mfu 0.03%\n",
      "iter 777: loss 2.0960, time 61.67ms, mfu 0.03%\n",
      "iter 778: loss 2.0870, time 76.93ms, mfu 0.03%\n",
      "iter 779: loss 2.1167, time 84.55ms, mfu 0.02%\n",
      "iter 780: loss 2.0850, time 78.46ms, mfu 0.02%\n",
      "iter 781: loss 2.0224, time 95.36ms, mfu 0.02%\n",
      "iter 782: loss 2.0884, time 91.21ms, mfu 0.02%\n",
      "iter 783: loss 2.1879, time 90.48ms, mfu 0.02%\n",
      "iter 784: loss 2.2712, time 93.46ms, mfu 0.02%\n",
      "iter 785: loss 2.0447, time 91.41ms, mfu 0.02%\n",
      "iter 786: loss 2.0346, time 87.39ms, mfu 0.02%\n",
      "iter 787: loss 2.0715, time 88.25ms, mfu 0.02%\n",
      "iter 788: loss 2.2400, time 93.98ms, mfu 0.02%\n",
      "iter 789: loss 2.1616, time 68.52ms, mfu 0.02%\n",
      "iter 790: loss 2.0242, time 58.05ms, mfu 0.02%\n",
      "iter 791: loss 2.1123, time 56.55ms, mfu 0.02%\n",
      "iter 792: loss 2.0018, time 65.44ms, mfu 0.02%\n",
      "iter 793: loss 2.1018, time 63.57ms, mfu 0.02%\n",
      "iter 794: loss 2.1233, time 64.65ms, mfu 0.02%\n",
      "iter 795: loss 2.2059, time 77.45ms, mfu 0.02%\n",
      "iter 796: loss 2.1890, time 58.51ms, mfu 0.02%\n",
      "iter 797: loss 2.1556, time 43.69ms, mfu 0.02%\n",
      "iter 798: loss 2.1321, time 58.61ms, mfu 0.02%\n",
      "iter 799: loss 2.0641, time 61.87ms, mfu 0.02%\n",
      "iter 800: loss 2.2303, time 56.30ms, mfu 0.02%\n",
      "iter 801: loss 2.1282, time 60.75ms, mfu 0.02%\n",
      "iter 802: loss 2.1159, time 38.32ms, mfu 0.02%\n",
      "iter 803: loss 2.1360, time 41.95ms, mfu 0.02%\n",
      "iter 804: loss 2.1133, time 55.63ms, mfu 0.02%\n",
      "iter 805: loss 2.1099, time 59.89ms, mfu 0.02%\n",
      "iter 806: loss 2.1162, time 71.00ms, mfu 0.02%\n",
      "iter 807: loss 1.9887, time 70.52ms, mfu 0.02%\n",
      "iter 808: loss 2.1898, time 86.73ms, mfu 0.02%\n",
      "iter 809: loss 2.1369, time 92.00ms, mfu 0.02%\n",
      "iter 810: loss 2.0326, time 88.10ms, mfu 0.02%\n",
      "iter 811: loss 2.1726, time 94.32ms, mfu 0.02%\n",
      "iter 812: loss 2.0892, time 92.41ms, mfu 0.02%\n",
      "iter 813: loss 2.1087, time 76.11ms, mfu 0.02%\n",
      "iter 814: loss 2.1193, time 86.19ms, mfu 0.02%\n",
      "iter 815: loss 2.2251, time 92.12ms, mfu 0.02%\n",
      "iter 816: loss 2.0991, time 85.72ms, mfu 0.02%\n",
      "iter 817: loss 2.0618, time 91.19ms, mfu 0.02%\n",
      "iter 818: loss 2.0449, time 98.18ms, mfu 0.02%\n",
      "iter 819: loss 2.1651, time 94.38ms, mfu 0.02%\n",
      "iter 820: loss 2.0649, time 87.73ms, mfu 0.02%\n",
      "iter 821: loss 2.0589, time 88.53ms, mfu 0.02%\n",
      "iter 822: loss 2.1224, time 87.20ms, mfu 0.02%\n",
      "iter 823: loss 2.0505, time 98.76ms, mfu 0.02%\n",
      "iter 824: loss 2.0179, time 93.57ms, mfu 0.02%\n",
      "iter 825: loss 2.1081, time 85.99ms, mfu 0.02%\n",
      "iter 826: loss 2.1092, time 94.98ms, mfu 0.02%\n",
      "iter 827: loss 2.1070, time 85.64ms, mfu 0.02%\n",
      "iter 828: loss 2.0769, time 88.30ms, mfu 0.01%\n",
      "iter 829: loss 1.9881, time 73.23ms, mfu 0.02%\n",
      "iter 830: loss 2.0298, time 41.35ms, mfu 0.02%\n",
      "iter 831: loss 2.1387, time 53.35ms, mfu 0.02%\n",
      "iter 832: loss 2.0207, time 53.27ms, mfu 0.02%\n",
      "iter 833: loss 2.0970, time 58.62ms, mfu 0.02%\n",
      "iter 834: loss 2.1513, time 73.84ms, mfu 0.02%\n",
      "iter 835: loss 2.1453, time 43.37ms, mfu 0.02%\n",
      "iter 836: loss 2.0362, time 41.21ms, mfu 0.02%\n",
      "iter 837: loss 2.2172, time 57.83ms, mfu 0.02%\n",
      "iter 838: loss 2.1223, time 51.92ms, mfu 0.02%\n",
      "iter 839: loss 2.1325, time 44.90ms, mfu 0.02%\n",
      "iter 840: loss 2.0759, time 45.22ms, mfu 0.02%\n",
      "iter 841: loss 2.0162, time 52.74ms, mfu 0.02%\n",
      "iter 842: loss 2.0810, time 54.23ms, mfu 0.02%\n",
      "iter 843: loss 2.0444, time 64.27ms, mfu 0.02%\n",
      "iter 844: loss 2.1649, time 66.88ms, mfu 0.02%\n",
      "iter 845: loss 2.0135, time 62.49ms, mfu 0.02%\n",
      "iter 846: loss 2.1006, time 59.71ms, mfu 0.02%\n",
      "iter 847: loss 1.9829, time 49.86ms, mfu 0.02%\n",
      "iter 848: loss 1.9888, time 61.05ms, mfu 0.02%\n",
      "iter 849: loss 2.0544, time 56.94ms, mfu 0.02%\n",
      "iter 850: loss 2.0922, time 43.53ms, mfu 0.02%\n",
      "iter 851: loss 2.1230, time 50.23ms, mfu 0.02%\n",
      "iter 852: loss 2.0801, time 47.56ms, mfu 0.02%\n",
      "iter 853: loss 2.1052, time 59.99ms, mfu 0.02%\n",
      "iter 854: loss 2.0650, time 61.70ms, mfu 0.02%\n",
      "iter 855: loss 2.0682, time 64.67ms, mfu 0.02%\n",
      "iter 856: loss 1.9714, time 49.87ms, mfu 0.02%\n",
      "iter 857: loss 2.1840, time 61.96ms, mfu 0.02%\n",
      "iter 858: loss 2.0796, time 67.66ms, mfu 0.02%\n",
      "iter 859: loss 2.1375, time 58.50ms, mfu 0.02%\n",
      "iter 860: loss 2.1395, time 52.26ms, mfu 0.02%\n",
      "iter 861: loss 2.0189, time 69.06ms, mfu 0.02%\n",
      "iter 862: loss 2.0362, time 65.37ms, mfu 0.02%\n",
      "iter 863: loss 2.0290, time 67.19ms, mfu 0.02%\n",
      "iter 864: loss 1.8831, time 62.29ms, mfu 0.02%\n",
      "iter 865: loss 2.0607, time 82.76ms, mfu 0.02%\n",
      "iter 866: loss 2.0473, time 105.78ms, mfu 0.02%\n",
      "iter 867: loss 2.0038, time 83.94ms, mfu 0.02%\n",
      "iter 868: loss 2.1051, time 88.38ms, mfu 0.02%\n",
      "iter 869: loss 2.0654, time 80.71ms, mfu 0.02%\n",
      "iter 870: loss 2.1034, time 101.04ms, mfu 0.02%\n",
      "iter 871: loss 2.0471, time 98.04ms, mfu 0.02%\n",
      "iter 872: loss 2.0690, time 106.96ms, mfu 0.02%\n",
      "iter 873: loss 2.0775, time 91.88ms, mfu 0.02%\n",
      "iter 874: loss 2.0663, time 66.63ms, mfu 0.02%\n",
      "iter 875: loss 2.0942, time 53.43ms, mfu 0.02%\n",
      "iter 876: loss 2.0867, time 69.95ms, mfu 0.02%\n",
      "iter 877: loss 2.0959, time 38.81ms, mfu 0.02%\n",
      "iter 878: loss 2.0895, time 52.00ms, mfu 0.02%\n",
      "iter 879: loss 2.0076, time 56.94ms, mfu 0.02%\n",
      "iter 880: loss 2.0584, time 71.45ms, mfu 0.02%\n",
      "iter 881: loss 2.0143, time 43.49ms, mfu 0.02%\n",
      "iter 882: loss 2.0060, time 59.62ms, mfu 0.02%\n",
      "iter 883: loss 2.0707, time 66.30ms, mfu 0.02%\n",
      "iter 884: loss 2.0358, time 67.32ms, mfu 0.02%\n",
      "iter 885: loss 2.0508, time 67.36ms, mfu 0.02%\n",
      "iter 886: loss 1.9493, time 70.41ms, mfu 0.02%\n",
      "iter 887: loss 1.9569, time 59.93ms, mfu 0.02%\n",
      "iter 888: loss 2.0573, time 70.60ms, mfu 0.02%\n",
      "iter 889: loss 2.0714, time 73.14ms, mfu 0.02%\n",
      "iter 890: loss 1.9715, time 65.50ms, mfu 0.02%\n",
      "iter 891: loss 2.0172, time 63.17ms, mfu 0.02%\n",
      "iter 892: loss 2.0542, time 54.03ms, mfu 0.02%\n",
      "iter 893: loss 2.0203, time 62.24ms, mfu 0.02%\n",
      "iter 894: loss 2.0388, time 83.56ms, mfu 0.02%\n",
      "iter 895: loss 2.0079, time 53.13ms, mfu 0.02%\n",
      "iter 896: loss 2.1426, time 47.85ms, mfu 0.02%\n",
      "iter 897: loss 2.0016, time 50.22ms, mfu 0.02%\n",
      "iter 898: loss 2.0519, time 57.46ms, mfu 0.02%\n",
      "iter 899: loss 2.0528, time 64.90ms, mfu 0.02%\n",
      "iter 900: loss 2.0244, time 57.81ms, mfu 0.02%\n",
      "iter 901: loss 2.0333, time 60.31ms, mfu 0.02%\n",
      "iter 902: loss 2.0709, time 64.31ms, mfu 0.02%\n",
      "iter 903: loss 2.0658, time 58.81ms, mfu 0.02%\n",
      "iter 904: loss 2.0948, time 54.33ms, mfu 0.02%\n",
      "iter 905: loss 2.0360, time 63.54ms, mfu 0.02%\n",
      "iter 906: loss 2.1472, time 56.96ms, mfu 0.02%\n",
      "iter 907: loss 2.0795, time 66.32ms, mfu 0.02%\n",
      "iter 908: loss 2.0236, time 67.78ms, mfu 0.02%\n",
      "iter 909: loss 1.9721, time 67.96ms, mfu 0.02%\n",
      "iter 910: loss 1.9386, time 48.47ms, mfu 0.02%\n",
      "iter 911: loss 2.0262, time 61.99ms, mfu 0.02%\n",
      "iter 912: loss 2.1357, time 60.93ms, mfu 0.02%\n",
      "iter 913: loss 2.0505, time 57.19ms, mfu 0.02%\n",
      "iter 914: loss 2.0468, time 71.85ms, mfu 0.02%\n",
      "iter 915: loss 2.0437, time 49.97ms, mfu 0.02%\n",
      "iter 916: loss 2.1078, time 45.86ms, mfu 0.02%\n",
      "iter 917: loss 1.9676, time 56.10ms, mfu 0.02%\n",
      "iter 918: loss 2.0177, time 49.41ms, mfu 0.02%\n",
      "iter 919: loss 2.0995, time 61.13ms, mfu 0.02%\n",
      "iter 920: loss 2.0682, time 66.20ms, mfu 0.02%\n",
      "iter 921: loss 1.9825, time 57.95ms, mfu 0.02%\n",
      "iter 922: loss 2.1142, time 60.86ms, mfu 0.02%\n",
      "iter 923: loss 2.0627, time 59.25ms, mfu 0.02%\n",
      "iter 924: loss 1.9782, time 73.01ms, mfu 0.02%\n",
      "iter 925: loss 1.9756, time 59.76ms, mfu 0.02%\n",
      "iter 926: loss 2.0321, time 57.29ms, mfu 0.02%\n",
      "iter 927: loss 1.9911, time 57.72ms, mfu 0.02%\n",
      "iter 928: loss 2.0136, time 60.17ms, mfu 0.02%\n",
      "iter 929: loss 1.9976, time 42.80ms, mfu 0.02%\n",
      "iter 930: loss 2.0921, time 54.82ms, mfu 0.02%\n",
      "iter 931: loss 1.9896, time 63.33ms, mfu 0.02%\n",
      "iter 932: loss 2.0419, time 62.80ms, mfu 0.02%\n",
      "iter 933: loss 2.0044, time 54.33ms, mfu 0.02%\n",
      "iter 934: loss 1.9768, time 47.84ms, mfu 0.02%\n",
      "iter 935: loss 2.1721, time 54.33ms, mfu 0.02%\n",
      "iter 936: loss 2.0557, time 62.83ms, mfu 0.02%\n",
      "iter 937: loss 2.0656, time 51.45ms, mfu 0.02%\n",
      "iter 938: loss 2.0338, time 54.83ms, mfu 0.02%\n",
      "iter 939: loss 2.1121, time 63.17ms, mfu 0.02%\n",
      "iter 940: loss 1.9331, time 64.06ms, mfu 0.02%\n",
      "iter 941: loss 2.1295, time 55.25ms, mfu 0.02%\n",
      "iter 942: loss 2.0209, time 65.44ms, mfu 0.02%\n",
      "iter 943: loss 2.0692, time 59.88ms, mfu 0.02%\n",
      "iter 944: loss 2.1878, time 60.80ms, mfu 0.02%\n",
      "iter 945: loss 2.0207, time 62.03ms, mfu 0.02%\n",
      "iter 946: loss 2.0371, time 48.43ms, mfu 0.02%\n",
      "iter 947: loss 2.1619, time 58.31ms, mfu 0.02%\n",
      "iter 948: loss 2.0367, time 65.92ms, mfu 0.02%\n",
      "iter 949: loss 2.0008, time 46.94ms, mfu 0.02%\n",
      "iter 950: loss 2.0068, time 42.34ms, mfu 0.02%\n",
      "iter 951: loss 2.0096, time 40.33ms, mfu 0.02%\n",
      "iter 952: loss 1.9209, time 40.38ms, mfu 0.02%\n",
      "iter 953: loss 2.0357, time 52.30ms, mfu 0.02%\n",
      "iter 954: loss 1.9554, time 59.59ms, mfu 0.02%\n",
      "iter 955: loss 1.9237, time 62.63ms, mfu 0.02%\n",
      "iter 956: loss 1.9696, time 62.79ms, mfu 0.02%\n",
      "iter 957: loss 2.0578, time 61.23ms, mfu 0.02%\n",
      "iter 958: loss 1.9775, time 69.55ms, mfu 0.02%\n",
      "iter 959: loss 2.0628, time 57.04ms, mfu 0.02%\n",
      "iter 960: loss 2.0934, time 62.35ms, mfu 0.02%\n",
      "iter 961: loss 2.0506, time 67.74ms, mfu 0.02%\n",
      "iter 962: loss 1.8677, time 66.73ms, mfu 0.02%\n",
      "iter 963: loss 2.0281, time 66.59ms, mfu 0.02%\n",
      "iter 964: loss 1.9562, time 52.02ms, mfu 0.02%\n",
      "iter 965: loss 2.0881, time 68.51ms, mfu 0.02%\n",
      "iter 966: loss 2.0409, time 61.08ms, mfu 0.02%\n",
      "iter 967: loss 2.0190, time 66.33ms, mfu 0.02%\n",
      "iter 968: loss 1.9782, time 44.93ms, mfu 0.02%\n",
      "iter 969: loss 2.0558, time 71.36ms, mfu 0.02%\n",
      "iter 970: loss 2.0060, time 57.83ms, mfu 0.02%\n",
      "iter 971: loss 2.0305, time 41.23ms, mfu 0.02%\n",
      "iter 972: loss 2.0180, time 52.50ms, mfu 0.02%\n",
      "iter 973: loss 2.0375, time 56.62ms, mfu 0.02%\n",
      "iter 974: loss 2.0544, time 54.13ms, mfu 0.02%\n",
      "iter 975: loss 2.0237, time 58.27ms, mfu 0.02%\n",
      "iter 976: loss 1.9378, time 62.40ms, mfu 0.02%\n",
      "iter 977: loss 1.9735, time 64.38ms, mfu 0.02%\n",
      "iter 978: loss 1.9699, time 56.34ms, mfu 0.02%\n",
      "iter 979: loss 2.0422, time 67.64ms, mfu 0.02%\n",
      "iter 980: loss 2.0666, time 61.48ms, mfu 0.02%\n",
      "iter 981: loss 1.9386, time 64.99ms, mfu 0.02%\n",
      "iter 982: loss 1.9740, time 62.17ms, mfu 0.02%\n",
      "iter 983: loss 1.9980, time 64.59ms, mfu 0.02%\n",
      "iter 984: loss 2.1065, time 70.20ms, mfu 0.02%\n",
      "iter 985: loss 1.9029, time 67.11ms, mfu 0.02%\n",
      "iter 986: loss 1.8826, time 68.69ms, mfu 0.02%\n",
      "iter 987: loss 2.1256, time 63.70ms, mfu 0.02%\n",
      "iter 988: loss 2.0157, time 70.77ms, mfu 0.02%\n",
      "iter 989: loss 2.1225, time 67.73ms, mfu 0.02%\n",
      "iter 990: loss 2.0539, time 42.49ms, mfu 0.02%\n",
      "iter 991: loss 2.0224, time 41.87ms, mfu 0.02%\n",
      "iter 992: loss 1.9159, time 45.35ms, mfu 0.02%\n",
      "iter 993: loss 2.0672, time 58.99ms, mfu 0.02%\n",
      "iter 994: loss 2.0862, time 56.20ms, mfu 0.02%\n",
      "iter 995: loss 2.1055, time 62.02ms, mfu 0.02%\n",
      "iter 996: loss 1.9752, time 78.12ms, mfu 0.02%\n",
      "iter 997: loss 1.9614, time 87.21ms, mfu 0.02%\n",
      "iter 998: loss 1.8334, time 88.57ms, mfu 0.02%\n",
      "iter 999: loss 1.9298, time 91.53ms, mfu 0.02%\n",
      "step 1000: train loss 1.9796, val loss 2.0545\n",
      "saving checkpoint to out-shakespeare-char\n",
      "iter 1000: loss 2.0555, time 950.44ms, mfu 0.02%\n",
      "iter 1001: loss 1.9269, time 59.11ms, mfu 0.02%\n",
      "iter 1002: loss 2.0123, time 61.55ms, mfu 0.02%\n",
      "iter 1003: loss 2.0675, time 61.21ms, mfu 0.02%\n",
      "iter 1004: loss 1.9581, time 47.12ms, mfu 0.02%\n",
      "iter 1005: loss 2.0277, time 47.14ms, mfu 0.02%\n",
      "iter 1006: loss 1.9565, time 47.36ms, mfu 0.02%\n",
      "iter 1007: loss 2.0648, time 46.96ms, mfu 0.02%\n",
      "iter 1008: loss 1.9824, time 49.84ms, mfu 0.02%\n",
      "iter 1009: loss 1.9665, time 50.52ms, mfu 0.02%\n",
      "iter 1010: loss 2.0485, time 54.04ms, mfu 0.02%\n",
      "iter 1011: loss 2.0055, time 52.71ms, mfu 0.02%\n",
      "iter 1012: loss 1.9825, time 60.71ms, mfu 0.02%\n",
      "iter 1013: loss 1.8654, time 43.59ms, mfu 0.02%\n",
      "iter 1014: loss 1.9956, time 44.34ms, mfu 0.02%\n",
      "iter 1015: loss 2.0366, time 43.07ms, mfu 0.02%\n",
      "iter 1016: loss 2.1480, time 49.51ms, mfu 0.02%\n",
      "iter 1017: loss 2.0348, time 50.40ms, mfu 0.02%\n",
      "iter 1018: loss 2.1013, time 46.82ms, mfu 0.02%\n",
      "iter 1019: loss 2.0881, time 45.82ms, mfu 0.03%\n",
      "iter 1020: loss 1.9621, time 44.84ms, mfu 0.03%\n",
      "iter 1021: loss 1.9618, time 61.39ms, mfu 0.02%\n",
      "iter 1022: loss 2.0597, time 53.80ms, mfu 0.02%\n",
      "iter 1023: loss 2.0312, time 40.76ms, mfu 0.03%\n",
      "iter 1024: loss 1.9664, time 48.47ms, mfu 0.03%\n",
      "iter 1025: loss 2.0048, time 44.34ms, mfu 0.03%\n",
      "iter 1026: loss 1.9797, time 43.80ms, mfu 0.03%\n",
      "iter 1027: loss 1.9858, time 60.97ms, mfu 0.03%\n",
      "iter 1028: loss 2.1373, time 78.32ms, mfu 0.02%\n",
      "iter 1029: loss 2.0354, time 77.02ms, mfu 0.02%\n",
      "iter 1030: loss 2.0246, time 45.83ms, mfu 0.02%\n",
      "iter 1031: loss 2.0143, time 50.38ms, mfu 0.02%\n",
      "iter 1032: loss 2.1100, time 56.67ms, mfu 0.02%\n",
      "iter 1033: loss 1.9937, time 60.98ms, mfu 0.02%\n",
      "iter 1034: loss 1.9254, time 85.95ms, mfu 0.02%\n",
      "iter 1035: loss 2.0350, time 87.62ms, mfu 0.02%\n",
      "iter 1036: loss 1.9540, time 86.07ms, mfu 0.02%\n",
      "iter 1037: loss 1.9727, time 83.82ms, mfu 0.02%\n",
      "iter 1038: loss 1.9479, time 81.35ms, mfu 0.02%\n",
      "iter 1039: loss 2.0347, time 84.09ms, mfu 0.02%\n",
      "iter 1040: loss 1.9705, time 91.33ms, mfu 0.02%\n",
      "iter 1041: loss 2.0796, time 98.87ms, mfu 0.02%\n",
      "iter 1042: loss 1.9926, time 94.81ms, mfu 0.02%\n",
      "iter 1043: loss 2.0182, time 90.02ms, mfu 0.02%\n",
      "iter 1044: loss 1.9982, time 88.26ms, mfu 0.02%\n",
      "iter 1045: loss 1.9554, time 85.50ms, mfu 0.02%\n",
      "iter 1046: loss 1.9557, time 47.22ms, mfu 0.02%\n",
      "iter 1047: loss 2.0173, time 57.06ms, mfu 0.02%\n",
      "iter 1048: loss 1.9127, time 64.42ms, mfu 0.02%\n",
      "iter 1049: loss 1.9587, time 70.28ms, mfu 0.02%\n",
      "iter 1050: loss 1.8952, time 50.69ms, mfu 0.02%\n",
      "iter 1051: loss 1.9555, time 41.58ms, mfu 0.02%\n",
      "iter 1052: loss 1.9901, time 42.03ms, mfu 0.02%\n",
      "iter 1053: loss 2.0303, time 54.96ms, mfu 0.02%\n",
      "iter 1054: loss 2.0200, time 60.29ms, mfu 0.02%\n",
      "iter 1055: loss 2.0001, time 64.11ms, mfu 0.02%\n",
      "iter 1056: loss 1.9345, time 71.35ms, mfu 0.02%\n",
      "iter 1057: loss 1.9311, time 71.29ms, mfu 0.02%\n",
      "iter 1058: loss 2.0133, time 66.30ms, mfu 0.02%\n",
      "iter 1059: loss 1.9524, time 58.79ms, mfu 0.02%\n",
      "iter 1060: loss 1.9378, time 61.39ms, mfu 0.02%\n",
      "iter 1061: loss 1.9008, time 54.81ms, mfu 0.02%\n",
      "iter 1062: loss 1.9223, time 65.30ms, mfu 0.02%\n",
      "iter 1063: loss 2.0680, time 52.35ms, mfu 0.02%\n",
      "iter 1064: loss 1.9502, time 66.77ms, mfu 0.02%\n",
      "iter 1065: loss 1.9554, time 71.44ms, mfu 0.02%\n",
      "iter 1066: loss 2.0535, time 52.92ms, mfu 0.02%\n",
      "iter 1067: loss 2.0208, time 48.37ms, mfu 0.02%\n",
      "iter 1068: loss 2.1098, time 53.18ms, mfu 0.02%\n",
      "iter 1069: loss 1.9795, time 58.16ms, mfu 0.02%\n",
      "iter 1070: loss 1.9551, time 66.34ms, mfu 0.02%\n",
      "iter 1071: loss 1.9794, time 64.79ms, mfu 0.02%\n",
      "iter 1072: loss 2.0604, time 64.79ms, mfu 0.02%\n",
      "iter 1073: loss 1.9456, time 72.43ms, mfu 0.02%\n",
      "iter 1074: loss 1.9926, time 49.10ms, mfu 0.02%\n",
      "iter 1075: loss 2.0629, time 65.05ms, mfu 0.02%\n",
      "iter 1076: loss 1.9661, time 61.02ms, mfu 0.02%\n",
      "iter 1077: loss 1.9513, time 59.77ms, mfu 0.02%\n",
      "iter 1078: loss 1.9585, time 61.28ms, mfu 0.02%\n",
      "iter 1079: loss 1.8896, time 87.54ms, mfu 0.02%\n",
      "iter 1080: loss 2.0791, time 105.70ms, mfu 0.02%\n",
      "iter 1081: loss 1.9585, time 73.04ms, mfu 0.02%\n",
      "iter 1082: loss 1.9781, time 93.20ms, mfu 0.02%\n",
      "iter 1083: loss 2.0098, time 97.84ms, mfu 0.02%\n",
      "iter 1084: loss 2.0397, time 96.81ms, mfu 0.02%\n",
      "iter 1085: loss 1.9895, time 103.08ms, mfu 0.02%\n",
      "iter 1086: loss 1.9526, time 98.01ms, mfu 0.02%\n",
      "iter 1087: loss 1.9090, time 99.87ms, mfu 0.02%\n",
      "iter 1088: loss 1.8592, time 94.84ms, mfu 0.02%\n",
      "iter 1089: loss 1.9798, time 99.33ms, mfu 0.02%\n",
      "iter 1090: loss 1.9628, time 49.85ms, mfu 0.02%\n",
      "iter 1091: loss 1.9960, time 51.23ms, mfu 0.02%\n",
      "iter 1092: loss 1.9262, time 69.31ms, mfu 0.02%\n",
      "iter 1093: loss 2.0365, time 79.25ms, mfu 0.02%\n",
      "iter 1094: loss 2.0373, time 52.14ms, mfu 0.02%\n",
      "iter 1095: loss 2.0610, time 48.56ms, mfu 0.02%\n",
      "iter 1096: loss 2.0109, time 56.58ms, mfu 0.02%\n",
      "iter 1097: loss 2.0317, time 59.22ms, mfu 0.02%\n",
      "iter 1098: loss 1.9650, time 67.08ms, mfu 0.02%\n",
      "iter 1099: loss 1.9894, time 65.26ms, mfu 0.02%\n",
      "iter 1100: loss 1.7956, time 68.65ms, mfu 0.02%\n",
      "iter 1101: loss 1.9175, time 55.75ms, mfu 0.02%\n",
      "iter 1102: loss 1.8925, time 74.33ms, mfu 0.02%\n",
      "iter 1103: loss 1.9414, time 49.21ms, mfu 0.02%\n",
      "iter 1104: loss 1.9072, time 42.88ms, mfu 0.02%\n",
      "iter 1105: loss 1.9653, time 52.73ms, mfu 0.02%\n",
      "iter 1106: loss 2.0449, time 48.03ms, mfu 0.02%\n",
      "iter 1107: loss 1.9400, time 57.23ms, mfu 0.02%\n",
      "iter 1108: loss 1.9274, time 59.23ms, mfu 0.02%\n",
      "iter 1109: loss 1.9882, time 66.40ms, mfu 0.02%\n",
      "iter 1110: loss 1.9265, time 72.17ms, mfu 0.02%\n",
      "iter 1111: loss 1.9668, time 45.44ms, mfu 0.02%\n",
      "iter 1112: loss 1.8709, time 43.75ms, mfu 0.02%\n",
      "iter 1113: loss 1.9553, time 52.30ms, mfu 0.02%\n",
      "iter 1114: loss 1.8610, time 60.90ms, mfu 0.02%\n",
      "iter 1115: loss 1.9264, time 64.16ms, mfu 0.02%\n",
      "iter 1116: loss 1.8570, time 59.24ms, mfu 0.02%\n",
      "iter 1117: loss 1.9983, time 60.74ms, mfu 0.02%\n",
      "iter 1118: loss 2.0704, time 63.76ms, mfu 0.02%\n",
      "iter 1119: loss 1.9817, time 96.79ms, mfu 0.02%\n",
      "iter 1120: loss 1.9492, time 58.53ms, mfu 0.02%\n",
      "iter 1121: loss 1.9715, time 49.20ms, mfu 0.02%\n",
      "iter 1122: loss 1.8684, time 55.24ms, mfu 0.02%\n",
      "iter 1123: loss 1.8965, time 92.18ms, mfu 0.02%\n",
      "iter 1124: loss 2.0070, time 90.54ms, mfu 0.02%\n",
      "iter 1125: loss 1.8971, time 76.66ms, mfu 0.02%\n",
      "iter 1126: loss 1.9237, time 99.21ms, mfu 0.02%\n",
      "iter 1127: loss 1.8139, time 93.21ms, mfu 0.02%\n",
      "iter 1128: loss 2.0065, time 93.55ms, mfu 0.02%\n",
      "iter 1129: loss 1.9767, time 101.31ms, mfu 0.02%\n",
      "iter 1130: loss 1.8697, time 86.32ms, mfu 0.02%\n",
      "iter 1131: loss 1.8682, time 78.93ms, mfu 0.02%\n",
      "iter 1132: loss 2.0578, time 96.11ms, mfu 0.02%\n",
      "iter 1133: loss 1.9438, time 89.34ms, mfu 0.02%\n",
      "iter 1134: loss 1.8570, time 96.06ms, mfu 0.02%\n",
      "iter 1135: loss 1.9803, time 91.03ms, mfu 0.02%\n",
      "iter 1136: loss 1.9662, time 86.56ms, mfu 0.02%\n",
      "iter 1137: loss 1.9463, time 95.59ms, mfu 0.02%\n",
      "iter 1138: loss 2.0151, time 98.16ms, mfu 0.02%\n",
      "iter 1139: loss 2.0112, time 103.29ms, mfu 0.02%\n",
      "iter 1140: loss 1.9753, time 104.27ms, mfu 0.01%\n",
      "iter 1141: loss 2.0228, time 103.95ms, mfu 0.01%\n",
      "iter 1142: loss 1.8671, time 98.93ms, mfu 0.01%\n",
      "iter 1143: loss 1.9537, time 96.16ms, mfu 0.01%\n",
      "iter 1144: loss 1.8731, time 94.12ms, mfu 0.01%\n",
      "iter 1145: loss 1.9813, time 53.18ms, mfu 0.02%\n",
      "iter 1146: loss 1.8594, time 60.74ms, mfu 0.02%\n",
      "iter 1147: loss 1.9130, time 70.51ms, mfu 0.02%\n",
      "iter 1148: loss 1.8868, time 53.36ms, mfu 0.02%\n",
      "iter 1149: loss 1.9019, time 64.74ms, mfu 0.02%\n",
      "iter 1150: loss 1.9566, time 62.31ms, mfu 0.02%\n",
      "iter 1151: loss 1.9597, time 69.71ms, mfu 0.02%\n",
      "iter 1152: loss 2.0453, time 68.69ms, mfu 0.02%\n",
      "iter 1153: loss 1.9656, time 81.66ms, mfu 0.02%\n",
      "iter 1154: loss 1.9680, time 50.99ms, mfu 0.02%\n",
      "iter 1155: loss 2.0045, time 51.72ms, mfu 0.02%\n",
      "iter 1156: loss 1.9250, time 61.92ms, mfu 0.02%\n",
      "iter 1157: loss 1.9799, time 66.64ms, mfu 0.02%\n",
      "iter 1158: loss 2.0024, time 65.87ms, mfu 0.02%\n",
      "iter 1159: loss 1.9778, time 51.60ms, mfu 0.02%\n",
      "iter 1160: loss 1.9918, time 57.83ms, mfu 0.02%\n",
      "iter 1161: loss 2.0347, time 91.53ms, mfu 0.02%\n",
      "iter 1162: loss 1.9914, time 100.91ms, mfu 0.02%\n",
      "iter 1163: loss 2.0221, time 103.46ms, mfu 0.02%\n",
      "iter 1164: loss 2.0131, time 115.67ms, mfu 0.02%\n",
      "iter 1165: loss 1.8825, time 97.18ms, mfu 0.02%\n",
      "iter 1166: loss 1.8179, time 113.53ms, mfu 0.02%\n",
      "iter 1167: loss 1.8996, time 108.09ms, mfu 0.02%\n",
      "iter 1168: loss 1.7774, time 130.09ms, mfu 0.02%\n",
      "iter 1169: loss 1.9802, time 62.64ms, mfu 0.02%\n",
      "iter 1170: loss 1.9364, time 79.07ms, mfu 0.02%\n",
      "iter 1171: loss 1.9720, time 54.30ms, mfu 0.02%\n",
      "iter 1172: loss 1.8652, time 49.10ms, mfu 0.02%\n",
      "iter 1173: loss 1.9630, time 51.94ms, mfu 0.02%\n",
      "iter 1174: loss 1.9262, time 64.77ms, mfu 0.02%\n",
      "iter 1175: loss 1.8401, time 64.59ms, mfu 0.02%\n",
      "iter 1176: loss 1.9326, time 68.02ms, mfu 0.02%\n",
      "iter 1177: loss 2.0005, time 61.80ms, mfu 0.02%\n",
      "iter 1178: loss 1.9480, time 54.38ms, mfu 0.02%\n",
      "iter 1179: loss 1.8884, time 74.85ms, mfu 0.02%\n",
      "iter 1180: loss 2.0614, time 77.93ms, mfu 0.02%\n",
      "iter 1181: loss 1.9570, time 47.45ms, mfu 0.02%\n",
      "iter 1182: loss 1.9338, time 43.85ms, mfu 0.02%\n",
      "iter 1183: loss 1.9388, time 43.10ms, mfu 0.02%\n",
      "iter 1184: loss 1.9006, time 52.58ms, mfu 0.02%\n",
      "iter 1185: loss 2.0763, time 58.81ms, mfu 0.02%\n",
      "iter 1186: loss 1.9079, time 45.83ms, mfu 0.02%\n",
      "iter 1187: loss 1.9201, time 57.25ms, mfu 0.02%\n",
      "iter 1188: loss 1.9507, time 66.17ms, mfu 0.02%\n",
      "iter 1189: loss 1.9465, time 71.34ms, mfu 0.02%\n",
      "iter 1190: loss 1.9403, time 67.21ms, mfu 0.02%\n",
      "iter 1191: loss 2.0235, time 44.78ms, mfu 0.02%\n",
      "iter 1192: loss 1.9818, time 40.63ms, mfu 0.02%\n",
      "iter 1193: loss 1.9339, time 38.70ms, mfu 0.02%\n",
      "iter 1194: loss 1.9820, time 52.36ms, mfu 0.02%\n",
      "iter 1195: loss 1.9980, time 61.06ms, mfu 0.02%\n",
      "iter 1196: loss 1.9446, time 60.26ms, mfu 0.02%\n",
      "iter 1197: loss 1.9258, time 62.01ms, mfu 0.02%\n",
      "iter 1198: loss 1.8690, time 68.80ms, mfu 0.02%\n",
      "iter 1199: loss 1.8877, time 58.44ms, mfu 0.02%\n",
      "iter 1200: loss 1.9594, time 72.66ms, mfu 0.02%\n",
      "iter 1201: loss 1.9347, time 40.87ms, mfu 0.02%\n",
      "iter 1202: loss 1.9252, time 44.21ms, mfu 0.02%\n",
      "iter 1203: loss 1.8421, time 57.95ms, mfu 0.02%\n",
      "iter 1204: loss 1.9710, time 60.78ms, mfu 0.02%\n",
      "iter 1205: loss 1.8218, time 60.43ms, mfu 0.02%\n",
      "iter 1206: loss 1.8873, time 71.77ms, mfu 0.02%\n",
      "iter 1207: loss 1.9152, time 86.15ms, mfu 0.02%\n",
      "iter 1208: loss 1.8543, time 92.41ms, mfu 0.02%\n",
      "iter 1209: loss 1.9203, time 93.81ms, mfu 0.02%\n",
      "iter 1210: loss 1.9026, time 65.60ms, mfu 0.02%\n",
      "iter 1211: loss 1.9748, time 87.46ms, mfu 0.02%\n",
      "iter 1212: loss 1.9723, time 87.75ms, mfu 0.02%\n",
      "iter 1213: loss 1.8994, time 88.64ms, mfu 0.02%\n",
      "iter 1214: loss 1.8962, time 90.55ms, mfu 0.02%\n",
      "iter 1215: loss 2.0328, time 82.15ms, mfu 0.02%\n",
      "iter 1216: loss 1.9267, time 82.14ms, mfu 0.02%\n",
      "iter 1217: loss 1.8585, time 88.91ms, mfu 0.02%\n",
      "iter 1218: loss 1.8308, time 83.09ms, mfu 0.02%\n",
      "iter 1219: loss 2.0144, time 86.60ms, mfu 0.02%\n",
      "iter 1220: loss 1.8919, time 97.63ms, mfu 0.02%\n",
      "iter 1221: loss 1.8807, time 91.68ms, mfu 0.02%\n",
      "iter 1222: loss 1.7625, time 86.06ms, mfu 0.02%\n",
      "iter 1223: loss 1.9067, time 66.30ms, mfu 0.02%\n",
      "iter 1224: loss 1.9252, time 100.29ms, mfu 0.02%\n",
      "iter 1225: loss 1.9288, time 90.57ms, mfu 0.02%\n",
      "iter 1226: loss 1.8864, time 75.11ms, mfu 0.02%\n",
      "iter 1227: loss 1.9556, time 78.84ms, mfu 0.02%\n",
      "iter 1228: loss 1.8294, time 90.86ms, mfu 0.02%\n",
      "iter 1229: loss 1.7966, time 89.00ms, mfu 0.02%\n",
      "iter 1230: loss 1.9228, time 53.90ms, mfu 0.02%\n",
      "iter 1231: loss 1.8614, time 52.65ms, mfu 0.02%\n",
      "iter 1232: loss 1.9673, time 56.18ms, mfu 0.02%\n",
      "iter 1233: loss 1.9765, time 67.25ms, mfu 0.02%\n",
      "iter 1234: loss 1.9295, time 65.52ms, mfu 0.02%\n",
      "iter 1235: loss 1.8024, time 61.89ms, mfu 0.02%\n",
      "iter 1236: loss 1.9444, time 66.16ms, mfu 0.02%\n",
      "iter 1237: loss 1.9077, time 65.82ms, mfu 0.02%\n",
      "iter 1238: loss 1.8204, time 67.78ms, mfu 0.02%\n",
      "iter 1239: loss 1.9129, time 74.67ms, mfu 0.02%\n",
      "iter 1240: loss 1.8637, time 68.16ms, mfu 0.02%\n",
      "iter 1241: loss 1.8681, time 65.22ms, mfu 0.02%\n",
      "iter 1242: loss 1.8444, time 50.13ms, mfu 0.02%\n",
      "iter 1243: loss 1.9628, time 65.79ms, mfu 0.02%\n",
      "iter 1244: loss 1.8845, time 70.56ms, mfu 0.02%\n",
      "iter 1245: loss 1.8289, time 70.37ms, mfu 0.02%\n",
      "iter 1246: loss 1.8829, time 66.21ms, mfu 0.02%\n",
      "iter 1247: loss 1.9147, time 61.78ms, mfu 0.02%\n",
      "iter 1248: loss 1.9530, time 67.57ms, mfu 0.02%\n",
      "iter 1249: loss 1.8220, time 60.03ms, mfu 0.02%\n",
      "step 1250: train loss 1.8798, val loss 2.0179\n",
      "saving checkpoint to out-shakespeare-char\n",
      "iter 1250: loss 1.8481, time 757.66ms, mfu 0.02%\n",
      "iter 1251: loss 1.9167, time 63.38ms, mfu 0.02%\n",
      "iter 1252: loss 2.0052, time 67.54ms, mfu 0.02%\n",
      "iter 1253: loss 1.7931, time 74.37ms, mfu 0.02%\n",
      "iter 1254: loss 1.9184, time 74.72ms, mfu 0.02%\n",
      "iter 1255: loss 1.8425, time 50.10ms, mfu 0.02%\n",
      "iter 1256: loss 1.9351, time 46.85ms, mfu 0.02%\n",
      "iter 1257: loss 1.9001, time 58.80ms, mfu 0.02%\n",
      "iter 1258: loss 1.9156, time 50.90ms, mfu 0.02%\n",
      "iter 1259: loss 1.8604, time 41.80ms, mfu 0.02%\n",
      "iter 1260: loss 1.8921, time 47.66ms, mfu 0.02%\n",
      "iter 1261: loss 1.9959, time 47.24ms, mfu 0.02%\n",
      "iter 1262: loss 1.9102, time 54.64ms, mfu 0.02%\n",
      "iter 1263: loss 1.9603, time 54.71ms, mfu 0.02%\n",
      "iter 1264: loss 1.8883, time 53.44ms, mfu 0.02%\n",
      "iter 1265: loss 1.9204, time 42.10ms, mfu 0.02%\n",
      "iter 1266: loss 1.8301, time 43.75ms, mfu 0.02%\n",
      "iter 1267: loss 1.9075, time 47.67ms, mfu 0.02%\n",
      "iter 1268: loss 1.9454, time 44.49ms, mfu 0.02%\n",
      "iter 1269: loss 1.9168, time 46.63ms, mfu 0.02%\n",
      "iter 1270: loss 1.9087, time 44.82ms, mfu 0.03%\n",
      "iter 1271: loss 1.7830, time 40.86ms, mfu 0.03%\n",
      "iter 1272: loss 1.8182, time 43.52ms, mfu 0.03%\n",
      "iter 1273: loss 1.8816, time 55.22ms, mfu 0.03%\n",
      "iter 1274: loss 1.8624, time 52.48ms, mfu 0.03%\n",
      "iter 1275: loss 1.9101, time 61.29ms, mfu 0.03%\n",
      "iter 1276: loss 1.6885, time 58.55ms, mfu 0.02%\n",
      "iter 1277: loss 1.9016, time 53.45ms, mfu 0.02%\n",
      "iter 1278: loss 1.8441, time 57.45ms, mfu 0.02%\n",
      "iter 1279: loss 1.8698, time 50.72ms, mfu 0.02%\n",
      "iter 1280: loss 1.7156, time 62.37ms, mfu 0.02%\n",
      "iter 1281: loss 1.9574, time 66.77ms, mfu 0.02%\n",
      "iter 1282: loss 1.9181, time 75.42ms, mfu 0.02%\n",
      "iter 1283: loss 1.8996, time 74.40ms, mfu 0.02%\n",
      "iter 1284: loss 1.9007, time 68.94ms, mfu 0.02%\n",
      "iter 1285: loss 1.8815, time 66.38ms, mfu 0.02%\n",
      "iter 1286: loss 1.9724, time 65.79ms, mfu 0.02%\n",
      "iter 1287: loss 1.9071, time 67.68ms, mfu 0.02%\n",
      "iter 1288: loss 1.7756, time 66.02ms, mfu 0.02%\n",
      "iter 1289: loss 1.9003, time 77.25ms, mfu 0.02%\n",
      "iter 1290: loss 1.9214, time 76.72ms, mfu 0.02%\n",
      "iter 1291: loss 1.9501, time 72.92ms, mfu 0.02%\n",
      "iter 1292: loss 1.8737, time 72.93ms, mfu 0.02%\n",
      "iter 1293: loss 1.9917, time 73.15ms, mfu 0.02%\n",
      "iter 1294: loss 1.9085, time 72.86ms, mfu 0.02%\n",
      "iter 1295: loss 1.8553, time 66.44ms, mfu 0.02%\n",
      "iter 1296: loss 1.8844, time 73.30ms, mfu 0.02%\n",
      "iter 1297: loss 1.9403, time 78.67ms, mfu 0.02%\n",
      "iter 1298: loss 1.8685, time 49.35ms, mfu 0.02%\n",
      "iter 1299: loss 2.0304, time 47.46ms, mfu 0.02%\n",
      "iter 1300: loss 1.9527, time 53.14ms, mfu 0.02%\n",
      "iter 1301: loss 1.8955, time 42.85ms, mfu 0.02%\n",
      "iter 1302: loss 1.8683, time 53.11ms, mfu 0.02%\n",
      "iter 1303: loss 1.9052, time 42.36ms, mfu 0.02%\n",
      "iter 1304: loss 1.8581, time 40.15ms, mfu 0.02%\n",
      "iter 1305: loss 1.9583, time 50.35ms, mfu 0.02%\n",
      "iter 1306: loss 1.9301, time 63.89ms, mfu 0.02%\n",
      "iter 1307: loss 1.8192, time 67.04ms, mfu 0.02%\n",
      "iter 1308: loss 1.9654, time 64.74ms, mfu 0.02%\n",
      "iter 1309: loss 1.9586, time 66.33ms, mfu 0.02%\n",
      "iter 1310: loss 1.8980, time 79.91ms, mfu 0.02%\n",
      "iter 1311: loss 1.9230, time 61.19ms, mfu 0.02%\n",
      "iter 1312: loss 1.8666, time 49.66ms, mfu 0.02%\n",
      "iter 1313: loss 1.9547, time 65.85ms, mfu 0.02%\n",
      "iter 1314: loss 1.8712, time 72.28ms, mfu 0.02%\n",
      "iter 1315: loss 1.9125, time 55.04ms, mfu 0.02%\n",
      "iter 1316: loss 1.8098, time 52.93ms, mfu 0.02%\n",
      "iter 1317: loss 1.8715, time 49.46ms, mfu 0.02%\n",
      "iter 1318: loss 1.8790, time 47.58ms, mfu 0.02%\n",
      "iter 1319: loss 1.9468, time 70.69ms, mfu 0.02%\n",
      "iter 1320: loss 1.9722, time 75.59ms, mfu 0.02%\n",
      "iter 1321: loss 1.8644, time 87.95ms, mfu 0.02%\n",
      "iter 1322: loss 2.0120, time 88.67ms, mfu 0.02%\n",
      "iter 1323: loss 1.8800, time 85.29ms, mfu 0.02%\n",
      "iter 1324: loss 1.8994, time 87.16ms, mfu 0.02%\n",
      "iter 1325: loss 1.8882, time 87.22ms, mfu 0.02%\n",
      "iter 1326: loss 1.8811, time 91.25ms, mfu 0.02%\n",
      "iter 1327: loss 1.9820, time 83.55ms, mfu 0.02%\n",
      "iter 1328: loss 1.7809, time 89.69ms, mfu 0.02%\n",
      "iter 1329: loss 1.8550, time 89.29ms, mfu 0.02%\n",
      "iter 1330: loss 1.9712, time 87.54ms, mfu 0.02%\n",
      "iter 1331: loss 1.8725, time 63.86ms, mfu 0.02%\n",
      "iter 1332: loss 1.8232, time 83.68ms, mfu 0.02%\n",
      "iter 1333: loss 1.8331, time 83.18ms, mfu 0.02%\n",
      "iter 1334: loss 1.9179, time 81.48ms, mfu 0.02%\n",
      "iter 1335: loss 1.8592, time 86.82ms, mfu 0.02%\n",
      "iter 1336: loss 1.9179, time 86.24ms, mfu 0.02%\n",
      "iter 1337: loss 1.9369, time 89.77ms, mfu 0.02%\n",
      "iter 1338: loss 1.8154, time 95.57ms, mfu 0.02%\n",
      "iter 1339: loss 1.8689, time 90.27ms, mfu 0.02%\n",
      "iter 1340: loss 1.9317, time 91.98ms, mfu 0.02%\n",
      "iter 1341: loss 1.8907, time 86.24ms, mfu 0.02%\n",
      "iter 1342: loss 1.8802, time 93.00ms, mfu 0.02%\n",
      "iter 1343: loss 1.8506, time 57.05ms, mfu 0.02%\n",
      "iter 1344: loss 1.8169, time 64.28ms, mfu 0.02%\n",
      "iter 1345: loss 1.8976, time 73.42ms, mfu 0.02%\n",
      "iter 1346: loss 1.8467, time 73.28ms, mfu 0.02%\n",
      "iter 1347: loss 1.9938, time 67.28ms, mfu 0.02%\n",
      "iter 1348: loss 1.9046, time 74.48ms, mfu 0.02%\n",
      "iter 1349: loss 1.8597, time 75.71ms, mfu 0.02%\n",
      "iter 1350: loss 1.8481, time 66.39ms, mfu 0.02%\n",
      "iter 1351: loss 1.7301, time 72.43ms, mfu 0.02%\n",
      "iter 1352: loss 1.8330, time 69.46ms, mfu 0.02%\n",
      "iter 1353: loss 1.9346, time 72.29ms, mfu 0.02%\n",
      "iter 1354: loss 1.9023, time 75.33ms, mfu 0.02%\n",
      "iter 1355: loss 1.8651, time 63.30ms, mfu 0.02%\n",
      "iter 1356: loss 1.8729, time 59.80ms, mfu 0.02%\n",
      "iter 1357: loss 1.7707, time 59.32ms, mfu 0.02%\n",
      "iter 1358: loss 1.8389, time 50.84ms, mfu 0.02%\n",
      "iter 1359: loss 1.9935, time 53.34ms, mfu 0.02%\n",
      "iter 1360: loss 1.9097, time 60.17ms, mfu 0.02%\n",
      "iter 1361: loss 1.8995, time 68.86ms, mfu 0.02%\n",
      "iter 1362: loss 1.8919, time 69.29ms, mfu 0.02%\n",
      "iter 1363: loss 1.9339, time 61.27ms, mfu 0.02%\n",
      "iter 1364: loss 1.8999, time 66.58ms, mfu 0.02%\n",
      "iter 1365: loss 1.9405, time 70.32ms, mfu 0.02%\n",
      "iter 1366: loss 1.9883, time 64.88ms, mfu 0.02%\n",
      "iter 1367: loss 1.7552, time 72.61ms, mfu 0.02%\n",
      "iter 1368: loss 1.8623, time 71.65ms, mfu 0.02%\n",
      "iter 1369: loss 1.9207, time 59.91ms, mfu 0.02%\n",
      "iter 1370: loss 1.8941, time 63.31ms, mfu 0.02%\n",
      "iter 1371: loss 1.9592, time 56.42ms, mfu 0.02%\n",
      "iter 1372: loss 1.9024, time 56.47ms, mfu 0.02%\n",
      "iter 1373: loss 1.8604, time 45.58ms, mfu 0.02%\n",
      "iter 1374: loss 1.9104, time 57.52ms, mfu 0.02%\n",
      "iter 1375: loss 1.8389, time 61.47ms, mfu 0.02%\n",
      "iter 1376: loss 1.7567, time 72.13ms, mfu 0.02%\n",
      "iter 1377: loss 1.8716, time 59.71ms, mfu 0.02%\n",
      "iter 1378: loss 1.8324, time 64.51ms, mfu 0.02%\n",
      "iter 1379: loss 1.9307, time 66.78ms, mfu 0.02%\n",
      "iter 1380: loss 1.7683, time 65.17ms, mfu 0.02%\n",
      "iter 1381: loss 1.9326, time 65.30ms, mfu 0.02%\n",
      "iter 1382: loss 1.7858, time 60.74ms, mfu 0.02%\n",
      "iter 1383: loss 1.9027, time 66.96ms, mfu 0.02%\n",
      "iter 1384: loss 1.8674, time 67.84ms, mfu 0.02%\n",
      "iter 1385: loss 1.9163, time 64.81ms, mfu 0.02%\n",
      "iter 1386: loss 1.8074, time 83.23ms, mfu 0.02%\n",
      "iter 1387: loss 1.8604, time 60.59ms, mfu 0.02%\n",
      "iter 1388: loss 1.8504, time 48.73ms, mfu 0.02%\n",
      "iter 1389: loss 1.8497, time 45.72ms, mfu 0.02%\n",
      "iter 1390: loss 1.9374, time 57.62ms, mfu 0.02%\n",
      "iter 1391: loss 1.8095, time 51.47ms, mfu 0.02%\n",
      "iter 1392: loss 1.8416, time 64.92ms, mfu 0.02%\n",
      "iter 1393: loss 1.9795, time 48.98ms, mfu 0.02%\n",
      "iter 1394: loss 1.8833, time 57.81ms, mfu 0.02%\n",
      "iter 1395: loss 1.8752, time 49.58ms, mfu 0.02%\n",
      "iter 1396: loss 1.9128, time 43.10ms, mfu 0.02%\n",
      "iter 1397: loss 1.8249, time 62.03ms, mfu 0.02%\n",
      "iter 1398: loss 1.7408, time 60.86ms, mfu 0.02%\n",
      "iter 1399: loss 1.9284, time 49.68ms, mfu 0.02%\n",
      "iter 1400: loss 1.8309, time 69.46ms, mfu 0.02%\n",
      "iter 1401: loss 1.8364, time 71.90ms, mfu 0.02%\n",
      "iter 1402: loss 1.9447, time 47.12ms, mfu 0.02%\n",
      "iter 1403: loss 1.8202, time 55.81ms, mfu 0.02%\n",
      "iter 1404: loss 1.9327, time 58.95ms, mfu 0.02%\n",
      "iter 1405: loss 1.9227, time 54.10ms, mfu 0.02%\n",
      "iter 1406: loss 1.8970, time 55.26ms, mfu 0.02%\n",
      "iter 1407: loss 1.9255, time 47.03ms, mfu 0.02%\n",
      "iter 1408: loss 1.8746, time 62.67ms, mfu 0.02%\n",
      "iter 1409: loss 1.8920, time 61.97ms, mfu 0.02%\n",
      "iter 1410: loss 1.8855, time 64.78ms, mfu 0.02%\n",
      "iter 1411: loss 1.7641, time 45.38ms, mfu 0.02%\n",
      "iter 1412: loss 1.8656, time 43.85ms, mfu 0.02%\n",
      "iter 1413: loss 1.8873, time 64.60ms, mfu 0.02%\n",
      "iter 1414: loss 1.8402, time 63.78ms, mfu 0.02%\n",
      "iter 1415: loss 1.8939, time 51.25ms, mfu 0.02%\n",
      "iter 1416: loss 1.8324, time 55.53ms, mfu 0.02%\n",
      "iter 1417: loss 1.8596, time 61.33ms, mfu 0.02%\n",
      "iter 1418: loss 1.9326, time 64.73ms, mfu 0.02%\n",
      "iter 1419: loss 1.8703, time 62.93ms, mfu 0.02%\n",
      "iter 1420: loss 1.8394, time 69.32ms, mfu 0.02%\n",
      "iter 1421: loss 1.8740, time 70.65ms, mfu 0.02%\n",
      "iter 1422: loss 1.8876, time 64.59ms, mfu 0.02%\n",
      "iter 1423: loss 1.8556, time 59.15ms, mfu 0.02%\n",
      "iter 1424: loss 1.7753, time 64.83ms, mfu 0.02%\n",
      "iter 1425: loss 1.8982, time 69.05ms, mfu 0.02%\n",
      "iter 1426: loss 1.9410, time 64.82ms, mfu 0.02%\n",
      "iter 1427: loss 1.8648, time 63.37ms, mfu 0.02%\n",
      "iter 1428: loss 1.8678, time 63.04ms, mfu 0.02%\n",
      "iter 1429: loss 1.9731, time 65.99ms, mfu 0.02%\n",
      "iter 1430: loss 1.8800, time 65.20ms, mfu 0.02%\n",
      "iter 1431: loss 1.8597, time 53.19ms, mfu 0.02%\n",
      "iter 1432: loss 1.9914, time 55.65ms, mfu 0.02%\n",
      "iter 1433: loss 1.8987, time 59.64ms, mfu 0.02%\n",
      "iter 1434: loss 1.9173, time 53.93ms, mfu 0.02%\n",
      "iter 1435: loss 1.8542, time 60.16ms, mfu 0.02%\n",
      "iter 1436: loss 1.9018, time 61.28ms, mfu 0.02%\n",
      "iter 1437: loss 1.8006, time 79.03ms, mfu 0.02%\n",
      "iter 1438: loss 1.9090, time 65.78ms, mfu 0.02%\n",
      "iter 1439: loss 1.7893, time 64.88ms, mfu 0.02%\n",
      "iter 1440: loss 1.7742, time 66.01ms, mfu 0.02%\n",
      "iter 1441: loss 1.7693, time 49.09ms, mfu 0.02%\n",
      "iter 1442: loss 1.8519, time 68.75ms, mfu 0.02%\n",
      "iter 1443: loss 1.7998, time 65.24ms, mfu 0.02%\n",
      "iter 1444: loss 1.8213, time 70.50ms, mfu 0.02%\n",
      "iter 1445: loss 1.8492, time 62.12ms, mfu 0.02%\n",
      "iter 1446: loss 1.8920, time 65.85ms, mfu 0.02%\n",
      "iter 1447: loss 1.8921, time 63.57ms, mfu 0.02%\n",
      "iter 1448: loss 2.0240, time 67.55ms, mfu 0.02%\n",
      "iter 1449: loss 1.7786, time 51.94ms, mfu 0.02%\n",
      "iter 1450: loss 1.8516, time 66.84ms, mfu 0.02%\n",
      "iter 1451: loss 1.8448, time 63.41ms, mfu 0.02%\n",
      "iter 1452: loss 1.8024, time 78.22ms, mfu 0.02%\n",
      "iter 1453: loss 1.8276, time 49.75ms, mfu 0.02%\n",
      "iter 1454: loss 1.7781, time 43.18ms, mfu 0.02%\n",
      "iter 1455: loss 1.9358, time 41.21ms, mfu 0.02%\n",
      "iter 1456: loss 1.7856, time 42.55ms, mfu 0.02%\n",
      "iter 1457: loss 1.8921, time 53.87ms, mfu 0.02%\n",
      "iter 1458: loss 1.7609, time 78.24ms, mfu 0.02%\n",
      "iter 1459: loss 1.7860, time 92.97ms, mfu 0.02%\n",
      "iter 1460: loss 1.8438, time 101.44ms, mfu 0.02%\n",
      "iter 1461: loss 1.8404, time 90.23ms, mfu 0.02%\n",
      "iter 1462: loss 1.8514, time 95.52ms, mfu 0.02%\n",
      "iter 1463: loss 1.8618, time 93.92ms, mfu 0.02%\n",
      "iter 1464: loss 1.9254, time 95.61ms, mfu 0.02%\n",
      "iter 1465: loss 1.8729, time 99.12ms, mfu 0.02%\n",
      "iter 1466: loss 1.8802, time 101.43ms, mfu 0.02%\n",
      "iter 1467: loss 1.8149, time 59.33ms, mfu 0.02%\n",
      "iter 1468: loss 1.7804, time 48.75ms, mfu 0.02%\n",
      "iter 1469: loss 1.8956, time 67.23ms, mfu 0.02%\n",
      "iter 1470: loss 1.8810, time 89.02ms, mfu 0.02%\n",
      "iter 1471: loss 1.8294, time 89.91ms, mfu 0.02%\n",
      "iter 1472: loss 1.8630, time 97.38ms, mfu 0.02%\n",
      "iter 1473: loss 1.8415, time 91.01ms, mfu 0.02%\n",
      "iter 1474: loss 1.8689, time 78.96ms, mfu 0.02%\n",
      "iter 1475: loss 1.9094, time 95.07ms, mfu 0.02%\n",
      "iter 1476: loss 2.0868, time 75.32ms, mfu 0.02%\n",
      "iter 1477: loss 1.7937, time 83.37ms, mfu 0.02%\n",
      "iter 1478: loss 1.8810, time 86.14ms, mfu 0.02%\n",
      "iter 1479: loss 1.8806, time 90.18ms, mfu 0.02%\n",
      "iter 1480: loss 1.8359, time 87.49ms, mfu 0.02%\n",
      "iter 1481: loss 1.8040, time 78.87ms, mfu 0.02%\n",
      "iter 1482: loss 1.7881, time 95.14ms, mfu 0.02%\n",
      "iter 1483: loss 1.8295, time 97.30ms, mfu 0.02%\n",
      "iter 1484: loss 1.8343, time 95.65ms, mfu 0.02%\n",
      "iter 1485: loss 1.7837, time 92.88ms, mfu 0.02%\n",
      "iter 1486: loss 1.8739, time 93.42ms, mfu 0.01%\n",
      "iter 1487: loss 1.8625, time 96.07ms, mfu 0.01%\n",
      "iter 1488: loss 1.8055, time 94.23ms, mfu 0.01%\n",
      "iter 1489: loss 1.9480, time 92.25ms, mfu 0.01%\n",
      "iter 1490: loss 1.8269, time 100.53ms, mfu 0.01%\n",
      "iter 1491: loss 1.8035, time 100.27ms, mfu 0.01%\n",
      "iter 1492: loss 1.7640, time 61.57ms, mfu 0.01%\n",
      "iter 1493: loss 1.7668, time 62.48ms, mfu 0.02%\n",
      "iter 1494: loss 1.8827, time 74.77ms, mfu 0.02%\n",
      "iter 1495: loss 1.7793, time 70.52ms, mfu 0.02%\n",
      "iter 1496: loss 1.8008, time 64.90ms, mfu 0.02%\n",
      "iter 1497: loss 1.8761, time 67.78ms, mfu 0.02%\n",
      "iter 1498: loss 1.7754, time 60.25ms, mfu 0.02%\n",
      "iter 1499: loss 1.8409, time 71.65ms, mfu 0.02%\n",
      "step 1500: train loss 1.8549, val loss 1.9248\n",
      "saving checkpoint to out-shakespeare-char\n",
      "iter 1500: loss 1.8671, time 827.93ms, mfu 0.02%\n",
      "iter 1501: loss 1.9066, time 54.70ms, mfu 0.02%\n",
      "iter 1502: loss 1.8465, time 49.70ms, mfu 0.02%\n",
      "iter 1503: loss 1.8542, time 43.17ms, mfu 0.02%\n",
      "iter 1504: loss 1.8949, time 48.22ms, mfu 0.02%\n",
      "iter 1505: loss 1.8758, time 44.22ms, mfu 0.02%\n",
      "iter 1506: loss 1.7562, time 42.94ms, mfu 0.02%\n",
      "iter 1507: loss 1.8625, time 49.24ms, mfu 0.02%\n",
      "iter 1508: loss 1.9996, time 57.03ms, mfu 0.02%\n",
      "iter 1509: loss 1.8533, time 58.40ms, mfu 0.02%\n",
      "iter 1510: loss 1.7602, time 70.65ms, mfu 0.02%\n",
      "iter 1511: loss 1.8406, time 61.85ms, mfu 0.02%\n",
      "iter 1512: loss 1.7292, time 59.19ms, mfu 0.02%\n",
      "iter 1513: loss 1.7711, time 46.12ms, mfu 0.02%\n",
      "iter 1514: loss 1.8432, time 47.22ms, mfu 0.02%\n",
      "iter 1515: loss 1.8331, time 43.57ms, mfu 0.02%\n",
      "iter 1516: loss 1.8174, time 43.77ms, mfu 0.02%\n",
      "iter 1517: loss 1.7782, time 40.93ms, mfu 0.02%\n",
      "iter 1518: loss 1.8743, time 42.13ms, mfu 0.02%\n",
      "iter 1519: loss 1.8567, time 39.68ms, mfu 0.03%\n",
      "iter 1520: loss 1.9054, time 41.73ms, mfu 0.03%\n",
      "iter 1521: loss 1.7890, time 41.61ms, mfu 0.03%\n",
      "iter 1522: loss 1.8498, time 40.17ms, mfu 0.03%\n",
      "iter 1523: loss 1.8320, time 45.17ms, mfu 0.03%\n",
      "iter 1524: loss 1.7555, time 44.22ms, mfu 0.03%\n",
      "iter 1525: loss 1.8549, time 43.30ms, mfu 0.03%\n",
      "iter 1526: loss 1.8055, time 54.41ms, mfu 0.03%\n",
      "iter 1527: loss 1.7961, time 44.05ms, mfu 0.03%\n",
      "iter 1528: loss 1.8488, time 49.78ms, mfu 0.03%\n",
      "iter 1529: loss 1.8144, time 61.82ms, mfu 0.03%\n",
      "iter 1530: loss 1.8519, time 55.13ms, mfu 0.03%\n",
      "iter 1531: loss 1.8510, time 65.12ms, mfu 0.03%\n",
      "iter 1532: loss 1.8356, time 47.94ms, mfu 0.03%\n",
      "iter 1533: loss 1.8507, time 66.20ms, mfu 0.02%\n",
      "iter 1534: loss 1.8952, time 77.51ms, mfu 0.02%\n",
      "iter 1535: loss 1.7899, time 94.64ms, mfu 0.02%\n",
      "iter 1536: loss 1.8737, time 97.89ms, mfu 0.02%\n",
      "iter 1537: loss 1.9184, time 95.15ms, mfu 0.02%\n",
      "iter 1538: loss 1.8443, time 93.03ms, mfu 0.02%\n",
      "iter 1539: loss 1.8769, time 103.02ms, mfu 0.02%\n",
      "iter 1540: loss 1.7889, time 89.24ms, mfu 0.02%\n",
      "iter 1541: loss 1.8514, time 98.25ms, mfu 0.02%\n",
      "iter 1542: loss 1.7877, time 80.01ms, mfu 0.02%\n",
      "iter 1543: loss 1.9113, time 101.44ms, mfu 0.02%\n",
      "iter 1544: loss 1.8052, time 91.75ms, mfu 0.02%\n",
      "iter 1545: loss 1.8654, time 91.25ms, mfu 0.02%\n",
      "iter 1546: loss 1.7590, time 97.64ms, mfu 0.02%\n",
      "iter 1547: loss 1.8804, time 99.32ms, mfu 0.02%\n",
      "iter 1548: loss 1.8366, time 83.31ms, mfu 0.02%\n",
      "iter 1549: loss 1.8003, time 91.39ms, mfu 0.02%\n",
      "iter 1550: loss 1.8733, time 79.27ms, mfu 0.02%\n",
      "iter 1551: loss 1.7270, time 104.52ms, mfu 0.02%\n",
      "iter 1552: loss 1.8220, time 90.63ms, mfu 0.02%\n",
      "iter 1553: loss 1.8914, time 88.84ms, mfu 0.02%\n",
      "iter 1554: loss 1.7189, time 95.74ms, mfu 0.02%\n",
      "iter 1555: loss 1.8423, time 98.29ms, mfu 0.01%\n",
      "iter 1556: loss 1.7430, time 93.87ms, mfu 0.01%\n",
      "iter 1557: loss 1.8826, time 95.13ms, mfu 0.01%\n",
      "iter 1558: loss 1.7849, time 96.89ms, mfu 0.01%\n",
      "iter 1559: loss 1.8780, time 97.92ms, mfu 0.01%\n",
      "iter 1560: loss 1.8273, time 93.23ms, mfu 0.01%\n",
      "iter 1561: loss 1.7701, time 94.38ms, mfu 0.01%\n",
      "iter 1562: loss 1.7744, time 93.53ms, mfu 0.01%\n",
      "iter 1563: loss 1.7902, time 92.48ms, mfu 0.01%\n",
      "iter 1564: loss 1.7247, time 91.99ms, mfu 0.01%\n",
      "iter 1565: loss 1.7750, time 104.21ms, mfu 0.01%\n",
      "iter 1566: loss 1.8287, time 91.08ms, mfu 0.01%\n",
      "iter 1567: loss 1.7840, time 51.70ms, mfu 0.01%\n",
      "iter 1568: loss 1.7909, time 53.57ms, mfu 0.02%\n",
      "iter 1569: loss 1.8691, time 60.76ms, mfu 0.02%\n",
      "iter 1570: loss 1.8228, time 60.11ms, mfu 0.02%\n",
      "iter 1571: loss 1.8296, time 65.66ms, mfu 0.02%\n",
      "iter 1572: loss 1.8507, time 74.95ms, mfu 0.02%\n",
      "iter 1573: loss 1.8121, time 49.30ms, mfu 0.02%\n",
      "iter 1574: loss 1.7173, time 49.18ms, mfu 0.02%\n",
      "iter 1575: loss 1.7923, time 58.86ms, mfu 0.02%\n",
      "iter 1576: loss 1.8798, time 67.95ms, mfu 0.02%\n",
      "iter 1577: loss 1.7522, time 69.08ms, mfu 0.02%\n",
      "iter 1578: loss 1.7796, time 71.99ms, mfu 0.02%\n",
      "iter 1579: loss 1.8103, time 67.65ms, mfu 0.02%\n",
      "iter 1580: loss 1.7107, time 71.25ms, mfu 0.02%\n",
      "iter 1581: loss 1.8363, time 66.15ms, mfu 0.02%\n",
      "iter 1582: loss 1.8424, time 63.17ms, mfu 0.02%\n",
      "iter 1583: loss 1.7688, time 62.93ms, mfu 0.02%\n",
      "iter 1584: loss 1.7199, time 68.53ms, mfu 0.02%\n",
      "iter 1585: loss 1.8953, time 59.82ms, mfu 0.02%\n",
      "iter 1586: loss 1.8774, time 59.17ms, mfu 0.02%\n",
      "iter 1587: loss 1.8895, time 68.34ms, mfu 0.02%\n",
      "iter 1588: loss 1.8250, time 69.15ms, mfu 0.02%\n",
      "iter 1589: loss 1.7037, time 63.19ms, mfu 0.02%\n",
      "iter 1590: loss 1.7560, time 63.31ms, mfu 0.02%\n",
      "iter 1591: loss 1.8556, time 67.55ms, mfu 0.02%\n",
      "iter 1592: loss 1.6912, time 60.04ms, mfu 0.02%\n",
      "iter 1593: loss 1.8439, time 62.56ms, mfu 0.02%\n",
      "iter 1594: loss 1.8065, time 64.94ms, mfu 0.02%\n",
      "iter 1595: loss 1.9039, time 78.40ms, mfu 0.02%\n",
      "iter 1596: loss 1.8199, time 48.24ms, mfu 0.02%\n",
      "iter 1597: loss 1.8183, time 42.95ms, mfu 0.02%\n",
      "iter 1598: loss 1.7930, time 50.68ms, mfu 0.02%\n",
      "iter 1599: loss 1.7785, time 53.97ms, mfu 0.02%\n",
      "iter 1600: loss 1.7761, time 58.59ms, mfu 0.02%\n",
      "iter 1601: loss 1.7377, time 66.02ms, mfu 0.02%\n",
      "iter 1602: loss 1.7941, time 59.96ms, mfu 0.02%\n",
      "iter 1603: loss 1.8291, time 62.67ms, mfu 0.02%\n",
      "iter 1604: loss 1.8544, time 67.91ms, mfu 0.02%\n",
      "iter 1605: loss 1.7407, time 71.13ms, mfu 0.02%\n",
      "iter 1606: loss 1.8709, time 64.74ms, mfu 0.02%\n",
      "iter 1607: loss 1.8103, time 67.13ms, mfu 0.02%\n",
      "iter 1608: loss 1.8641, time 66.65ms, mfu 0.02%\n",
      "iter 1609: loss 1.8353, time 60.06ms, mfu 0.02%\n",
      "iter 1610: loss 1.8177, time 62.35ms, mfu 0.02%\n",
      "iter 1611: loss 1.8735, time 58.95ms, mfu 0.02%\n",
      "iter 1612: loss 1.8604, time 67.97ms, mfu 0.02%\n",
      "iter 1613: loss 1.6989, time 68.68ms, mfu 0.02%\n",
      "iter 1614: loss 1.8254, time 66.82ms, mfu 0.02%\n",
      "iter 1615: loss 1.8023, time 70.51ms, mfu 0.02%\n",
      "iter 1616: loss 1.8285, time 89.99ms, mfu 0.02%\n",
      "iter 1617: loss 1.7733, time 95.79ms, mfu 0.02%\n",
      "iter 1618: loss 1.7718, time 97.84ms, mfu 0.02%\n",
      "iter 1619: loss 1.7685, time 100.34ms, mfu 0.02%\n",
      "iter 1620: loss 1.8156, time 95.45ms, mfu 0.02%\n",
      "iter 1621: loss 1.8702, time 90.81ms, mfu 0.02%\n",
      "iter 1622: loss 1.8364, time 93.50ms, mfu 0.02%\n",
      "iter 1623: loss 1.9639, time 88.67ms, mfu 0.02%\n",
      "iter 1624: loss 1.7819, time 95.69ms, mfu 0.02%\n",
      "iter 1625: loss 1.7731, time 86.66ms, mfu 0.02%\n",
      "iter 1626: loss 1.8294, time 71.73ms, mfu 0.02%\n",
      "iter 1627: loss 1.8412, time 89.93ms, mfu 0.02%\n",
      "iter 1628: loss 1.7556, time 90.58ms, mfu 0.02%\n",
      "iter 1629: loss 1.7786, time 78.13ms, mfu 0.02%\n",
      "iter 1630: loss 1.7796, time 87.94ms, mfu 0.02%\n",
      "iter 1631: loss 1.8755, time 88.89ms, mfu 0.02%\n",
      "iter 1632: loss 1.7963, time 102.06ms, mfu 0.02%\n",
      "iter 1633: loss 1.7303, time 85.08ms, mfu 0.02%\n",
      "iter 1634: loss 1.7477, time 75.31ms, mfu 0.02%\n",
      "iter 1635: loss 1.7017, time 94.46ms, mfu 0.02%\n",
      "iter 1636: loss 1.8288, time 91.00ms, mfu 0.02%\n",
      "iter 1637: loss 1.8624, time 90.24ms, mfu 0.01%\n",
      "iter 1638: loss 1.8283, time 89.55ms, mfu 0.01%\n",
      "iter 1639: loss 1.7684, time 89.37ms, mfu 0.01%\n",
      "iter 1640: loss 1.8227, time 98.63ms, mfu 0.01%\n",
      "iter 1641: loss 1.6934, time 91.41ms, mfu 0.01%\n",
      "iter 1642: loss 1.8244, time 88.85ms, mfu 0.01%\n",
      "iter 1643: loss 1.8594, time 91.33ms, mfu 0.01%\n",
      "iter 1644: loss 1.8265, time 85.45ms, mfu 0.01%\n",
      "iter 1645: loss 1.8173, time 91.95ms, mfu 0.01%\n",
      "iter 1646: loss 1.8745, time 93.88ms, mfu 0.01%\n",
      "iter 1647: loss 1.9433, time 80.81ms, mfu 0.01%\n",
      "iter 1648: loss 1.8335, time 95.98ms, mfu 0.01%\n",
      "iter 1649: loss 1.7403, time 58.65ms, mfu 0.02%\n",
      "iter 1650: loss 1.8833, time 57.68ms, mfu 0.02%\n",
      "iter 1651: loss 1.6736, time 42.78ms, mfu 0.02%\n",
      "iter 1652: loss 1.8307, time 42.03ms, mfu 0.02%\n",
      "iter 1653: loss 1.9522, time 57.87ms, mfu 0.02%\n",
      "iter 1654: loss 1.7435, time 75.05ms, mfu 0.02%\n",
      "iter 1655: loss 1.8282, time 49.53ms, mfu 0.02%\n",
      "iter 1656: loss 1.7998, time 41.07ms, mfu 0.02%\n",
      "iter 1657: loss 1.8140, time 51.72ms, mfu 0.02%\n",
      "iter 1658: loss 1.7772, time 59.79ms, mfu 0.02%\n",
      "iter 1659: loss 1.7530, time 68.98ms, mfu 0.02%\n",
      "iter 1660: loss 1.7314, time 54.73ms, mfu 0.02%\n",
      "iter 1661: loss 1.8426, time 52.94ms, mfu 0.02%\n",
      "iter 1662: loss 1.7465, time 56.93ms, mfu 0.02%\n",
      "iter 1663: loss 1.8163, time 41.21ms, mfu 0.02%\n",
      "iter 1664: loss 1.8888, time 47.62ms, mfu 0.02%\n",
      "iter 1665: loss 1.7310, time 47.48ms, mfu 0.02%\n",
      "iter 1666: loss 1.8212, time 55.22ms, mfu 0.02%\n",
      "iter 1667: loss 1.8527, time 66.74ms, mfu 0.02%\n",
      "iter 1668: loss 1.6921, time 75.22ms, mfu 0.02%\n",
      "iter 1669: loss 1.6893, time 69.88ms, mfu 0.02%\n",
      "iter 1670: loss 1.8557, time 41.41ms, mfu 0.02%\n",
      "iter 1671: loss 1.8687, time 58.36ms, mfu 0.02%\n",
      "iter 1672: loss 1.8119, time 69.91ms, mfu 0.02%\n",
      "iter 1673: loss 1.8310, time 48.58ms, mfu 0.02%\n",
      "iter 1674: loss 1.8125, time 52.92ms, mfu 0.02%\n",
      "iter 1675: loss 1.8026, time 66.06ms, mfu 0.02%\n",
      "iter 1676: loss 1.8262, time 66.19ms, mfu 0.02%\n",
      "iter 1677: loss 1.8673, time 57.71ms, mfu 0.02%\n",
      "iter 1678: loss 1.7848, time 64.86ms, mfu 0.02%\n",
      "iter 1679: loss 1.8516, time 69.40ms, mfu 0.02%\n",
      "iter 1680: loss 1.8468, time 58.43ms, mfu 0.02%\n",
      "iter 1681: loss 1.8590, time 75.47ms, mfu 0.02%\n",
      "iter 1682: loss 1.7152, time 53.95ms, mfu 0.02%\n",
      "iter 1683: loss 1.7852, time 72.77ms, mfu 0.02%\n",
      "iter 1684: loss 1.7867, time 81.82ms, mfu 0.02%\n",
      "iter 1685: loss 1.7410, time 90.30ms, mfu 0.02%\n",
      "iter 1686: loss 1.8516, time 87.57ms, mfu 0.02%\n",
      "iter 1687: loss 1.8050, time 80.17ms, mfu 0.02%\n",
      "iter 1688: loss 1.8003, time 89.13ms, mfu 0.02%\n",
      "iter 1689: loss 1.6991, time 83.10ms, mfu 0.02%\n",
      "iter 1690: loss 1.8434, time 89.32ms, mfu 0.02%\n",
      "iter 1691: loss 1.8396, time 99.04ms, mfu 0.02%\n",
      "iter 1692: loss 1.8906, time 94.54ms, mfu 0.02%\n",
      "iter 1693: loss 1.8013, time 102.01ms, mfu 0.02%\n",
      "iter 1694: loss 1.8551, time 100.17ms, mfu 0.02%\n",
      "iter 1695: loss 1.7403, time 58.15ms, mfu 0.02%\n",
      "iter 1696: loss 1.7679, time 58.51ms, mfu 0.02%\n",
      "iter 1697: loss 1.8058, time 59.63ms, mfu 0.02%\n",
      "iter 1698: loss 1.8261, time 58.65ms, mfu 0.02%\n",
      "iter 1699: loss 1.8569, time 62.18ms, mfu 0.02%\n",
      "iter 1700: loss 1.6972, time 66.99ms, mfu 0.02%\n",
      "iter 1701: loss 1.7871, time 61.95ms, mfu 0.02%\n",
      "iter 1702: loss 1.8985, time 65.42ms, mfu 0.02%\n",
      "iter 1703: loss 1.8233, time 65.35ms, mfu 0.02%\n",
      "iter 1704: loss 1.6024, time 56.43ms, mfu 0.02%\n",
      "iter 1705: loss 1.8108, time 65.43ms, mfu 0.02%\n",
      "iter 1706: loss 1.7600, time 65.91ms, mfu 0.02%\n",
      "iter 1707: loss 1.8670, time 68.24ms, mfu 0.02%\n",
      "iter 1708: loss 1.8186, time 65.41ms, mfu 0.02%\n",
      "iter 1709: loss 1.7891, time 65.57ms, mfu 0.02%\n",
      "iter 1710: loss 1.8125, time 61.54ms, mfu 0.02%\n",
      "iter 1711: loss 1.9001, time 86.68ms, mfu 0.02%\n",
      "iter 1712: loss 1.9234, time 76.89ms, mfu 0.02%\n",
      "iter 1713: loss 1.8144, time 80.90ms, mfu 0.02%\n",
      "iter 1714: loss 1.8980, time 75.87ms, mfu 0.02%\n",
      "iter 1715: loss 1.7965, time 93.82ms, mfu 0.02%\n",
      "iter 1716: loss 1.8010, time 93.64ms, mfu 0.02%\n",
      "iter 1717: loss 1.8358, time 96.70ms, mfu 0.02%\n",
      "iter 1718: loss 1.7802, time 95.53ms, mfu 0.02%\n",
      "iter 1719: loss 1.8094, time 93.15ms, mfu 0.02%\n",
      "iter 1720: loss 1.8272, time 101.10ms, mfu 0.02%\n",
      "iter 1721: loss 1.8697, time 96.74ms, mfu 0.02%\n",
      "iter 1722: loss 1.8048, time 92.63ms, mfu 0.02%\n",
      "iter 1723: loss 1.8101, time 95.44ms, mfu 0.02%\n",
      "iter 1724: loss 1.7791, time 95.01ms, mfu 0.02%\n",
      "iter 1725: loss 1.8090, time 94.90ms, mfu 0.01%\n",
      "iter 1726: loss 1.7773, time 95.45ms, mfu 0.01%\n",
      "iter 1727: loss 1.8266, time 92.37ms, mfu 0.01%\n",
      "iter 1728: loss 1.8409, time 96.86ms, mfu 0.01%\n",
      "iter 1729: loss 1.9394, time 90.89ms, mfu 0.01%\n",
      "iter 1730: loss 1.7953, time 96.60ms, mfu 0.01%\n",
      "iter 1731: loss 1.7377, time 98.50ms, mfu 0.01%\n",
      "iter 1732: loss 1.7071, time 56.99ms, mfu 0.01%\n",
      "iter 1733: loss 1.8378, time 52.03ms, mfu 0.02%\n",
      "iter 1734: loss 1.7461, time 44.94ms, mfu 0.02%\n",
      "iter 1735: loss 1.7765, time 57.27ms, mfu 0.02%\n",
      "iter 1736: loss 1.8869, time 61.60ms, mfu 0.02%\n",
      "iter 1737: loss 1.7845, time 61.07ms, mfu 0.02%\n",
      "iter 1738: loss 1.7369, time 60.97ms, mfu 0.02%\n",
      "iter 1739: loss 1.7370, time 63.14ms, mfu 0.02%\n",
      "iter 1740: loss 1.7420, time 58.82ms, mfu 0.02%\n",
      "iter 1741: loss 1.7649, time 62.29ms, mfu 0.02%\n",
      "iter 1742: loss 1.8613, time 65.33ms, mfu 0.02%\n",
      "iter 1743: loss 1.7942, time 61.84ms, mfu 0.02%\n",
      "iter 1744: loss 1.7542, time 60.58ms, mfu 0.02%\n",
      "iter 1745: loss 1.7268, time 61.91ms, mfu 0.02%\n",
      "iter 1746: loss 1.7700, time 60.80ms, mfu 0.02%\n",
      "iter 1747: loss 1.6940, time 60.78ms, mfu 0.02%\n",
      "iter 1748: loss 1.8107, time 75.70ms, mfu 0.02%\n",
      "iter 1749: loss 1.7426, time 68.22ms, mfu 0.02%\n",
      "step 1750: train loss 1.7772, val loss 1.8988\n",
      "saving checkpoint to out-shakespeare-char\n",
      "iter 1750: loss 1.8118, time 706.99ms, mfu 0.02%\n",
      "iter 1751: loss 1.9276, time 76.80ms, mfu 0.02%\n",
      "iter 1752: loss 1.8138, time 55.44ms, mfu 0.02%\n",
      "iter 1753: loss 1.6841, time 53.67ms, mfu 0.02%\n",
      "iter 1754: loss 1.8709, time 62.33ms, mfu 0.02%\n",
      "iter 1755: loss 1.8054, time 61.60ms, mfu 0.02%\n",
      "iter 1756: loss 1.7943, time 80.11ms, mfu 0.02%\n",
      "iter 1757: loss 1.7298, time 91.38ms, mfu 0.02%\n",
      "iter 1758: loss 1.7226, time 82.48ms, mfu 0.02%\n",
      "iter 1759: loss 1.7773, time 89.61ms, mfu 0.02%\n",
      "iter 1760: loss 1.7115, time 85.21ms, mfu 0.02%\n",
      "iter 1761: loss 1.7288, time 104.09ms, mfu 0.02%\n",
      "iter 1762: loss 1.7645, time 92.68ms, mfu 0.02%\n",
      "iter 1763: loss 1.8901, time 96.05ms, mfu 0.02%\n",
      "iter 1764: loss 1.8298, time 78.71ms, mfu 0.02%\n",
      "iter 1765: loss 1.7491, time 74.02ms, mfu 0.02%\n",
      "iter 1766: loss 1.8066, time 75.47ms, mfu 0.02%\n",
      "iter 1767: loss 1.8376, time 94.54ms, mfu 0.02%\n",
      "iter 1768: loss 1.8923, time 42.52ms, mfu 0.02%\n",
      "iter 1769: loss 1.7709, time 41.69ms, mfu 0.02%\n",
      "iter 1770: loss 1.6520, time 40.34ms, mfu 0.02%\n",
      "iter 1771: loss 1.7975, time 42.35ms, mfu 0.02%\n",
      "iter 1772: loss 1.7438, time 49.01ms, mfu 0.02%\n",
      "iter 1773: loss 1.8250, time 49.49ms, mfu 0.02%\n",
      "iter 1774: loss 1.7931, time 47.76ms, mfu 0.02%\n",
      "iter 1775: loss 1.7792, time 58.65ms, mfu 0.02%\n",
      "iter 1776: loss 1.6529, time 67.14ms, mfu 0.02%\n",
      "iter 1777: loss 1.8321, time 74.04ms, mfu 0.02%\n",
      "iter 1778: loss 1.7486, time 56.12ms, mfu 0.02%\n",
      "iter 1779: loss 1.9489, time 62.67ms, mfu 0.02%\n",
      "iter 1780: loss 1.7237, time 64.87ms, mfu 0.02%\n",
      "iter 1781: loss 1.8477, time 60.46ms, mfu 0.02%\n",
      "iter 1782: loss 1.9347, time 63.39ms, mfu 0.02%\n",
      "iter 1783: loss 1.7396, time 62.52ms, mfu 0.02%\n",
      "iter 1784: loss 1.8108, time 65.66ms, mfu 0.02%\n",
      "iter 1785: loss 1.8027, time 89.36ms, mfu 0.02%\n",
      "iter 1786: loss 1.7769, time 78.51ms, mfu 0.02%\n",
      "iter 1787: loss 1.8133, time 89.19ms, mfu 0.02%\n",
      "iter 1788: loss 1.7952, time 92.06ms, mfu 0.02%\n",
      "iter 1789: loss 1.7555, time 93.70ms, mfu 0.02%\n",
      "iter 1790: loss 1.7881, time 102.20ms, mfu 0.02%\n",
      "iter 1791: loss 1.7521, time 97.00ms, mfu 0.02%\n",
      "iter 1792: loss 1.8289, time 96.70ms, mfu 0.02%\n",
      "iter 1793: loss 1.8171, time 95.10ms, mfu 0.02%\n",
      "iter 1794: loss 1.7838, time 75.60ms, mfu 0.02%\n",
      "iter 1795: loss 1.7697, time 83.13ms, mfu 0.02%\n",
      "iter 1796: loss 1.8839, time 94.10ms, mfu 0.02%\n",
      "iter 1797: loss 1.7541, time 101.39ms, mfu 0.02%\n",
      "iter 1798: loss 1.7626, time 101.37ms, mfu 0.02%\n",
      "iter 1799: loss 1.7286, time 94.69ms, mfu 0.02%\n",
      "iter 1800: loss 1.8400, time 95.62ms, mfu 0.02%\n",
      "iter 1801: loss 1.8156, time 97.12ms, mfu 0.01%\n",
      "iter 1802: loss 1.8103, time 98.19ms, mfu 0.01%\n",
      "iter 1803: loss 1.6746, time 98.57ms, mfu 0.01%\n",
      "iter 1804: loss 1.8208, time 89.73ms, mfu 0.01%\n",
      "iter 1805: loss 1.7271, time 94.09ms, mfu 0.01%\n",
      "iter 1806: loss 1.7339, time 99.77ms, mfu 0.01%\n",
      "iter 1807: loss 1.8290, time 42.06ms, mfu 0.02%\n",
      "iter 1808: loss 1.8589, time 67.82ms, mfu 0.02%\n",
      "iter 1809: loss 1.8565, time 64.09ms, mfu 0.02%\n",
      "iter 1810: loss 1.8660, time 54.77ms, mfu 0.02%\n",
      "iter 1811: loss 1.7385, time 78.77ms, mfu 0.02%\n",
      "iter 1812: loss 1.7706, time 50.15ms, mfu 0.02%\n",
      "iter 1813: loss 1.8120, time 58.41ms, mfu 0.02%\n",
      "iter 1814: loss 1.8350, time 50.69ms, mfu 0.02%\n",
      "iter 1815: loss 1.8890, time 50.10ms, mfu 0.02%\n",
      "iter 1816: loss 1.6737, time 51.57ms, mfu 0.02%\n",
      "iter 1817: loss 1.7851, time 48.97ms, mfu 0.02%\n",
      "iter 1818: loss 1.8275, time 49.41ms, mfu 0.02%\n",
      "iter 1819: loss 1.6800, time 53.00ms, mfu 0.02%\n",
      "iter 1820: loss 1.6982, time 53.43ms, mfu 0.02%\n",
      "iter 1821: loss 1.6996, time 51.29ms, mfu 0.02%\n",
      "iter 1822: loss 1.7388, time 53.79ms, mfu 0.02%\n",
      "iter 1823: loss 1.7215, time 48.56ms, mfu 0.02%\n",
      "iter 1824: loss 1.6366, time 47.78ms, mfu 0.02%\n",
      "iter 1825: loss 1.6995, time 64.26ms, mfu 0.02%\n",
      "iter 1826: loss 1.7167, time 66.71ms, mfu 0.02%\n",
      "iter 1827: loss 1.8017, time 67.98ms, mfu 0.02%\n",
      "iter 1828: loss 1.7928, time 73.67ms, mfu 0.02%\n",
      "iter 1829: loss 1.9013, time 64.94ms, mfu 0.02%\n",
      "iter 1830: loss 1.7554, time 65.25ms, mfu 0.02%\n",
      "iter 1831: loss 1.8456, time 64.65ms, mfu 0.02%\n",
      "iter 1832: loss 1.7123, time 65.15ms, mfu 0.02%\n",
      "iter 1833: loss 1.8779, time 65.56ms, mfu 0.02%\n",
      "iter 1834: loss 1.8617, time 78.13ms, mfu 0.02%\n",
      "iter 1835: loss 1.8834, time 79.14ms, mfu 0.02%\n",
      "iter 1836: loss 1.7719, time 68.68ms, mfu 0.02%\n",
      "iter 1837: loss 1.8271, time 69.98ms, mfu 0.02%\n",
      "iter 1838: loss 1.6246, time 72.34ms, mfu 0.02%\n",
      "iter 1839: loss 1.8030, time 70.66ms, mfu 0.02%\n",
      "iter 1840: loss 1.8013, time 69.45ms, mfu 0.02%\n",
      "iter 1841: loss 1.7456, time 63.09ms, mfu 0.02%\n",
      "iter 1842: loss 1.7717, time 64.51ms, mfu 0.02%\n",
      "iter 1843: loss 1.8780, time 64.42ms, mfu 0.02%\n",
      "iter 1844: loss 1.7673, time 66.31ms, mfu 0.02%\n",
      "iter 1845: loss 1.8352, time 65.77ms, mfu 0.02%\n",
      "iter 1846: loss 1.7183, time 70.51ms, mfu 0.02%\n",
      "iter 1847: loss 1.6900, time 67.54ms, mfu 0.02%\n",
      "iter 1848: loss 1.7445, time 62.17ms, mfu 0.02%\n",
      "iter 1849: loss 1.8950, time 65.86ms, mfu 0.02%\n",
      "iter 1850: loss 1.7209, time 67.98ms, mfu 0.02%\n",
      "iter 1851: loss 1.7155, time 78.23ms, mfu 0.02%\n",
      "iter 1852: loss 1.7293, time 64.82ms, mfu 0.02%\n",
      "iter 1853: loss 1.8254, time 64.62ms, mfu 0.02%\n",
      "iter 1854: loss 1.6849, time 67.21ms, mfu 0.02%\n",
      "iter 1855: loss 1.6783, time 71.11ms, mfu 0.02%\n",
      "iter 1856: loss 1.8192, time 65.53ms, mfu 0.02%\n",
      "iter 1857: loss 1.8314, time 64.66ms, mfu 0.02%\n",
      "iter 1858: loss 1.9077, time 71.30ms, mfu 0.02%\n",
      "iter 1859: loss 1.7418, time 63.16ms, mfu 0.02%\n",
      "iter 1860: loss 1.6939, time 62.21ms, mfu 0.02%\n",
      "iter 1861: loss 1.6504, time 74.72ms, mfu 0.02%\n",
      "iter 1862: loss 1.7254, time 77.19ms, mfu 0.02%\n",
      "iter 1863: loss 1.7180, time 70.21ms, mfu 0.02%\n",
      "iter 1864: loss 1.6714, time 68.06ms, mfu 0.02%\n",
      "iter 1865: loss 1.8140, time 69.14ms, mfu 0.02%\n",
      "iter 1866: loss 1.7684, time 66.12ms, mfu 0.02%\n",
      "iter 1867: loss 1.7317, time 73.20ms, mfu 0.02%\n",
      "iter 1868: loss 1.7342, time 64.81ms, mfu 0.02%\n",
      "iter 1869: loss 1.8124, time 63.95ms, mfu 0.02%\n",
      "iter 1870: loss 1.6761, time 81.20ms, mfu 0.02%\n",
      "iter 1871: loss 1.7885, time 79.44ms, mfu 0.02%\n",
      "iter 1872: loss 1.7640, time 64.43ms, mfu 0.02%\n",
      "iter 1873: loss 1.7464, time 66.26ms, mfu 0.02%\n",
      "iter 1874: loss 1.7015, time 66.37ms, mfu 0.02%\n",
      "iter 1875: loss 1.7001, time 64.23ms, mfu 0.02%\n",
      "iter 1876: loss 1.7360, time 69.10ms, mfu 0.02%\n",
      "iter 1877: loss 1.7516, time 73.90ms, mfu 0.02%\n",
      "iter 1878: loss 1.6881, time 71.75ms, mfu 0.02%\n",
      "iter 1879: loss 1.7708, time 63.47ms, mfu 0.02%\n",
      "iter 1880: loss 1.7420, time 64.95ms, mfu 0.02%\n",
      "iter 1881: loss 1.7803, time 66.57ms, mfu 0.02%\n",
      "iter 1882: loss 1.8759, time 66.69ms, mfu 0.02%\n",
      "iter 1883: loss 1.6348, time 73.37ms, mfu 0.02%\n",
      "iter 1884: loss 1.7098, time 87.91ms, mfu 0.02%\n",
      "iter 1885: loss 1.7775, time 62.05ms, mfu 0.02%\n",
      "iter 1886: loss 1.6892, time 62.16ms, mfu 0.02%\n",
      "iter 1887: loss 1.8178, time 72.61ms, mfu 0.02%\n",
      "iter 1888: loss 1.7148, time 68.15ms, mfu 0.02%\n",
      "iter 1889: loss 1.7248, time 70.09ms, mfu 0.02%\n",
      "iter 1890: loss 1.6935, time 78.12ms, mfu 0.02%\n",
      "iter 1891: loss 1.7327, time 67.81ms, mfu 0.02%\n",
      "iter 1892: loss 1.6702, time 84.21ms, mfu 0.02%\n",
      "iter 1893: loss 1.7573, time 115.26ms, mfu 0.02%\n",
      "iter 1894: loss 1.7360, time 118.86ms, mfu 0.02%\n",
      "iter 1895: loss 1.7401, time 96.30ms, mfu 0.02%\n",
      "iter 1896: loss 1.7345, time 78.48ms, mfu 0.02%\n",
      "iter 1897: loss 1.7268, time 91.90ms, mfu 0.02%\n",
      "iter 1898: loss 1.7862, time 141.74ms, mfu 0.02%\n",
      "iter 1899: loss 1.7122, time 117.05ms, mfu 0.01%\n",
      "iter 1900: loss 1.6888, time 67.25ms, mfu 0.02%\n",
      "iter 1901: loss 1.7770, time 124.94ms, mfu 0.01%\n",
      "iter 1902: loss 1.8061, time 102.75ms, mfu 0.01%\n",
      "iter 1903: loss 1.8835, time 113.85ms, mfu 0.01%\n",
      "iter 1904: loss 1.7113, time 137.66ms, mfu 0.01%\n",
      "iter 1905: loss 1.7313, time 107.14ms, mfu 0.01%\n",
      "iter 1906: loss 1.6474, time 128.76ms, mfu 0.01%\n",
      "iter 1907: loss 1.8164, time 164.54ms, mfu 0.01%\n",
      "iter 1908: loss 1.7298, time 169.33ms, mfu 0.01%\n",
      "iter 1909: loss 1.8726, time 113.79ms, mfu 0.01%\n",
      "iter 1910: loss 1.6071, time 146.89ms, mfu 0.01%\n",
      "iter 1911: loss 1.7469, time 98.43ms, mfu 0.01%\n",
      "iter 1912: loss 1.7300, time 90.63ms, mfu 0.01%\n",
      "iter 1913: loss 1.7724, time 154.99ms, mfu 0.01%\n",
      "iter 1914: loss 1.7306, time 181.39ms, mfu 0.01%\n",
      "iter 1915: loss 1.8379, time 124.07ms, mfu 0.01%\n",
      "iter 1916: loss 1.6871, time 82.60ms, mfu 0.01%\n",
      "iter 1917: loss 1.7457, time 82.40ms, mfu 0.01%\n",
      "iter 1918: loss 1.7876, time 87.76ms, mfu 0.01%\n",
      "iter 1919: loss 1.6843, time 86.36ms, mfu 0.01%\n",
      "iter 1920: loss 1.7771, time 91.43ms, mfu 0.01%\n",
      "iter 1921: loss 1.7857, time 81.95ms, mfu 0.01%\n",
      "iter 1922: loss 1.7753, time 85.16ms, mfu 0.01%\n",
      "iter 1923: loss 1.7651, time 86.19ms, mfu 0.01%\n",
      "iter 1924: loss 1.7285, time 86.92ms, mfu 0.01%\n",
      "iter 1925: loss 1.7435, time 83.91ms, mfu 0.01%\n",
      "iter 1926: loss 1.8810, time 81.54ms, mfu 0.01%\n",
      "iter 1927: loss 1.9401, time 82.69ms, mfu 0.01%\n",
      "iter 1928: loss 1.6877, time 84.35ms, mfu 0.01%\n",
      "iter 1929: loss 1.7051, time 85.28ms, mfu 0.01%\n",
      "iter 1930: loss 1.7856, time 83.76ms, mfu 0.01%\n",
      "iter 1931: loss 1.7806, time 86.53ms, mfu 0.01%\n",
      "iter 1932: loss 1.8156, time 77.81ms, mfu 0.01%\n",
      "iter 1933: loss 1.7806, time 89.08ms, mfu 0.01%\n",
      "iter 1934: loss 1.7936, time 83.58ms, mfu 0.01%\n",
      "iter 1935: loss 1.7190, time 74.20ms, mfu 0.01%\n",
      "iter 1936: loss 1.6887, time 74.91ms, mfu 0.02%\n",
      "iter 1937: loss 1.8156, time 80.32ms, mfu 0.02%\n",
      "iter 1938: loss 1.7138, time 82.59ms, mfu 0.02%\n",
      "iter 1939: loss 1.7316, time 75.96ms, mfu 0.02%\n",
      "iter 1940: loss 1.7075, time 78.53ms, mfu 0.02%\n",
      "iter 1941: loss 1.6616, time 73.20ms, mfu 0.02%\n",
      "iter 1942: loss 1.7628, time 76.42ms, mfu 0.02%\n",
      "iter 1943: loss 1.7964, time 77.41ms, mfu 0.02%\n",
      "iter 1944: loss 1.8005, time 73.37ms, mfu 0.02%\n",
      "iter 1945: loss 1.7875, time 76.62ms, mfu 0.02%\n",
      "iter 1946: loss 1.6925, time 81.04ms, mfu 0.02%\n",
      "iter 1947: loss 1.8008, time 82.50ms, mfu 0.02%\n",
      "iter 1948: loss 1.7996, time 87.37ms, mfu 0.02%\n",
      "iter 1949: loss 1.6567, time 90.12ms, mfu 0.02%\n",
      "iter 1950: loss 1.7634, time 72.57ms, mfu 0.02%\n",
      "iter 1951: loss 1.8534, time 76.07ms, mfu 0.02%\n",
      "iter 1952: loss 1.6319, time 81.90ms, mfu 0.02%\n",
      "iter 1953: loss 1.8580, time 87.33ms, mfu 0.02%\n",
      "iter 1954: loss 1.7344, time 88.61ms, mfu 0.02%\n",
      "iter 1955: loss 1.9020, time 85.57ms, mfu 0.02%\n",
      "iter 1956: loss 1.7554, time 82.90ms, mfu 0.02%\n",
      "iter 1957: loss 1.7179, time 86.44ms, mfu 0.02%\n",
      "iter 1958: loss 1.8236, time 92.32ms, mfu 0.02%\n",
      "iter 1959: loss 1.7714, time 87.02ms, mfu 0.02%\n",
      "iter 1960: loss 1.7544, time 90.41ms, mfu 0.02%\n",
      "iter 1961: loss 1.7261, time 87.24ms, mfu 0.02%\n",
      "iter 1962: loss 1.8845, time 78.72ms, mfu 0.02%\n",
      "iter 1963: loss 1.6660, time 75.89ms, mfu 0.02%\n",
      "iter 1964: loss 1.7198, time 80.55ms, mfu 0.02%\n",
      "iter 1965: loss 1.8136, time 84.00ms, mfu 0.02%\n",
      "iter 1966: loss 1.7715, time 86.63ms, mfu 0.02%\n",
      "iter 1967: loss 1.9631, time 91.27ms, mfu 0.02%\n",
      "iter 1968: loss 1.6566, time 91.18ms, mfu 0.02%\n",
      "iter 1969: loss 1.7731, time 90.13ms, mfu 0.01%\n",
      "iter 1970: loss 1.8156, time 93.03ms, mfu 0.01%\n",
      "iter 1971: loss 1.7697, time 90.92ms, mfu 0.01%\n",
      "iter 1972: loss 1.7430, time 87.99ms, mfu 0.01%\n",
      "iter 1973: loss 1.7213, time 89.04ms, mfu 0.01%\n",
      "iter 1974: loss 1.7055, time 86.20ms, mfu 0.01%\n",
      "iter 1975: loss 1.7309, time 87.67ms, mfu 0.01%\n",
      "iter 1976: loss 1.7049, time 89.89ms, mfu 0.01%\n",
      "iter 1977: loss 1.9077, time 92.35ms, mfu 0.01%\n",
      "iter 1978: loss 1.7551, time 89.35ms, mfu 0.01%\n",
      "iter 1979: loss 1.7734, time 88.81ms, mfu 0.01%\n",
      "iter 1980: loss 1.7564, time 99.68ms, mfu 0.01%\n",
      "iter 1981: loss 1.7911, time 109.33ms, mfu 0.01%\n",
      "iter 1982: loss 1.7584, time 86.29ms, mfu 0.01%\n",
      "iter 1983: loss 1.7616, time 103.67ms, mfu 0.01%\n",
      "iter 1984: loss 1.6947, time 80.94ms, mfu 0.01%\n",
      "iter 1985: loss 1.7296, time 75.35ms, mfu 0.01%\n",
      "iter 1986: loss 1.6805, time 73.03ms, mfu 0.01%\n",
      "iter 1987: loss 1.7116, time 78.95ms, mfu 0.01%\n",
      "iter 1988: loss 1.7144, time 85.70ms, mfu 0.01%\n",
      "iter 1989: loss 1.6907, time 90.54ms, mfu 0.01%\n",
      "iter 1990: loss 1.7094, time 93.40ms, mfu 0.01%\n",
      "iter 1991: loss 1.7544, time 83.62ms, mfu 0.01%\n",
      "iter 1992: loss 1.6759, time 80.15ms, mfu 0.01%\n",
      "iter 1993: loss 1.8366, time 80.49ms, mfu 0.01%\n",
      "iter 1994: loss 1.7542, time 93.27ms, mfu 0.01%\n",
      "iter 1995: loss 1.7653, time 93.12ms, mfu 0.01%\n",
      "iter 1996: loss 1.8247, time 86.33ms, mfu 0.01%\n",
      "iter 1997: loss 1.7162, time 82.91ms, mfu 0.01%\n",
      "iter 1998: loss 1.8794, time 82.41ms, mfu 0.01%\n",
      "iter 1999: loss 1.9167, time 72.75ms, mfu 0.02%\n",
      "step 2000: train loss 1.7640, val loss 1.8925\n",
      "saving checkpoint to out-shakespeare-char\n",
      "iter 2000: loss 1.6982, time 783.24ms, mfu 0.01%\n",
      "\n"
     ]
    }
   ],
   "source": [
    "# Prepare the path for the script you want to run\n",
    "prepare_script = os.path.join(\"data\", \"shakespeare_char\", \"prepare.py\")\n",
    "\n",
    "# Run the script using os.system\n",
    "os.system(f'python \"{prepare_script}\"')\n",
    "\n",
    "# Run scripts\n",
    "train_script = os.path.join(\"train.py\")\n",
    "config_path = os.path.join(\"config\", \"train_shakespeare_char.py\")\n",
    "command = f'python \"{train_script}\" \"{config_path}\" --device=cpu --compile=False --eval_iters=20 --log_interval=1 --block_size=64 --batch_size=12 --n_layer=4 --n_head=4 --n_embd=128 --max_iters=2000 --lr_decay_iters=2000 --dropout=0.0'\n",
    "result = subprocess.run(command, shell=True, text=True, capture_output=True)\n",
    "print(result.stdout)"
   ]
  },
  {
   "cell_type": "code",
   "execution_count": 3,
   "metadata": {},
   "outputs": [
    {
     "name": "stdout",
     "output_type": "stream",
     "text": [
      "Overriding: out_dir = out-shakespeare-char\n",
      "Overriding: device = cpu\n",
      "number of parameters: 0.80M\n",
      "Loading meta from data\\shakespeare_char\\meta.pkl...\n",
      "\n",
      "Theren:\n",
      "For But I fair pleadion, no do all thy Egal\n",
      "Than heaves aginss were brey: not.\n",
      "\n",
      "Sevire:\n",
      "Nother is befy well he the honoun him the in the\n",
      "Our the care as so for honou fall the wippea,\n",
      "Which perte our thing him.\n",
      "\n",
      "TLEONENIUS:\n",
      "Say, go lies sir.\n",
      "\n",
      "GLood, thou dow it are a their be.\n",
      "\n",
      "CLOLIBET:\n",
      "Hell not stort:\n",
      "Theing wo not with in blay to seet a onde thess\n",
      "And but hould the it rie storde carition word wound,\n",
      "Pecarnury muspe more he hath unter the the to Give shy demay's\n",
      "The say enter then the a\n",
      "---------------\n",
      "\n",
      "Rechild but to boftick true a bust sough;\n",
      "Not be see in hand then hourse for deater,\n",
      "And wee his, are have as a dest do of more,\n",
      "That here you, this to my my spead: I parother\n",
      "And that it the applain at and thy shall the be are\n",
      "mistech, in ampin ouce the brow our my all before\n",
      "A our to sorre then soul plesting speake lie\n",
      "the have we pnot own thou thought I do their.\n",
      "\n",
      "DUKINCENTIO:\n",
      "Where our the do the and somen onter of bort.\n",
      "\n",
      "Sechese:\n",
      "My vengs san me.\n",
      "\n",
      "Shell:\n",
      "Let your my frombander'd ot that the\n",
      "---------------\n",
      "\n",
      "Sen our ruder pers him forgent Tus.\n",
      "\n",
      "HENNRY HARI:\n",
      "What must not for fich--it my hear grones\n",
      "To have and we manined and the and thave preace a to a cence\n",
      "And thou dead, the pay ein on do have in ar,\n",
      "And loves men his eye be the quent of were,\n",
      "Thought face, manice not you: be say beth thook'd say\n",
      "That way thouss the nobort in a she comping\n",
      "My your truth that in your have shame pronge,\n",
      "'Therefore some sall my arry with she kick we swerver,\n",
      "Rescure him of the you heer and hath the peaser\n",
      "enfy but or\n",
      "---------------\n",
      "\n",
      "If OMARCES:\n",
      "For be for I wo as\n",
      "Soming hopo, with fide.\n",
      "\n",
      "PL, Couliful:\n",
      "O and meast day reppule?\n",
      "\n",
      "ROquend, your your shal and the weart the how have\n",
      "A not for hee, them brower by short my lrave,\n",
      "I maust own you, but he wears the at bused,\n",
      "Nead sbe you, and whath witer to make ar\n",
      "By loffeth, bet the neme, and shough herd thee,\n",
      "On but the in would as his coud, this way me peace\n",
      "To the as freed all pouter of of this at onder.\n",
      "\n",
      "SYOLET:\n",
      "Ay, sir, he is and own shault me all,\n",
      "That faift she hand boy so d\n",
      "---------------\n",
      "\n",
      "Whoft here endeed sajoy, but flow. Come you gods the weet\n",
      "Why chated more amme souer in broar\n",
      "At noth the some in lought a hohter he!\n",
      "\n",
      "KING RICHAM:\n",
      "A she is me not hear bell lisal than fest a baid;\n",
      "To low my too? Come the good that seep tent\n",
      "I chalie and me at endemengen agay,\n",
      "Whatat offe prest and that the groung!\n",
      "\n",
      "From somen:\n",
      "Nuke he did well with a morning mouch should now\n",
      "I'll me shire sies liters to quouins of sarrath.\n",
      "\n",
      "KING LEY know chillo!\n",
      "\n",
      "PSICESTIOR:\n",
      "That, I have faith, will nay would I\n",
      "---------------\n",
      "\n",
      "I that doth he beence.\n",
      "\n",
      "SICINIUS:\n",
      "I am than the sir, thy husater pare your of not,\n",
      "The short of to oth be faul pricie,---hearr the dide\n",
      "To with will heir placcif-from and of with bue!\n",
      "What Ift he your see stome such on in at goitt done\n",
      "Thou that hus a will but un like the not thing:\n",
      "This the the house thorm heart such in gount.\n",
      "Nur should tervile lie larne's he warte actious in to canno\n",
      "The thou shee in that of tervites.\n",
      "\n",
      "HENRY HERD VI:\n",
      "I will of not, when, por and your mell heirs;\n",
      "The manore de\n",
      "---------------\n",
      "\n",
      "Let mother fater, for moir shot.\n",
      "\n",
      "YORK:\n",
      "\n",
      "Come you, bay my my as the arfort; though a proce,\n",
      "I mone yous'd look somp.\n",
      "\n",
      "DUKE VINCENNTIzA:\n",
      "Hy shame for as the hort whoe head to more\n",
      "And that anate quien\n",
      "Gedieng all some the shant the bust thine\n",
      "As the do may tough; I with incle swoll with not.\n",
      "\n",
      "KING DYUKE ZARD OMERLII:\n",
      "O my lade; your cansiter of her the counss,\n",
      "Which in the been and of the the his fail\n",
      "To ratues amm and would shall affory;\n",
      "Why whom able wore own this the hee preace the in\n",
      "I dow no\n",
      "---------------\n",
      "\n",
      "\n",
      "TLet soven agail to prost impos artued,\n",
      "That fandan we thy would andumenes you these:\n",
      "Thou plove me, going the mefule; and you,\n",
      "And woMIn, should not him sonought wrund were,\n",
      "Thou, my and a what me donest of the pain\n",
      "And and thing my dongue prove our power,\n",
      "Of thing in no hell pitch with not groves courd in thou\n",
      "The witin oft our be-can he prosed;\n",
      "What his of to all be her-sare His what prond thous: to that his sot\n",
      "Thing the a given to you are stand here and;\n",
      "That shall affer the nosme aith as \n",
      "---------------\n",
      "\n",
      "Though ome his road, I am know my counfer'd:\n",
      "Twow twith full all pron; which as my to soul!\n",
      "\n",
      "BORTUCES:\n",
      "Yet me a be a took sir, we as tell of he thee.\n",
      "\n",
      "LUTUCESS:\n",
      "That we pray, meen but when you law---korcious,\n",
      "And I was you prouce thoat sonde all there,\n",
      "Seart he dong be our my unserm wome fortuern,\n",
      "And griel, by bring, but the the and create as harnge,\n",
      "And crowly man the some begdell the down their mursece\n",
      "A fath our to may a whom to that the let,\n",
      "Lious suelf bur nature, we you no the houses migh\n",
      "---------------\n",
      "\n",
      "But what him be scuelt or her in any sheaven them\n",
      "But succe it a a note thinh tall he right,\n",
      "Nour for prall year the and that in fatle;\n",
      "Thou nought the their spart achard be me;\n",
      "Inly sends on our hand have is eye of your be make\n",
      "One, in to me hear, in not the fains pleat,\n",
      "The done apper:\n",
      "Wome and he word me die fried not that,\n",
      "That with have to be be we the may their shouls to wonds\n",
      "Thing not to chuse tenver in we the sees ruch of the that ned\n",
      "To would a gell frear then eur thee, your deaw,\n",
      "Thy \n",
      "---------------\n",
      "\n"
     ]
    }
   ],
   "source": [
    "# Generate text by sample.py\n",
    "sample_script = os.path.join(\"sample.py\")\n",
    "out_dir = \"out-shakespeare-char\"\n",
    "command = f'python \"{sample_script}\" --out_dir=\"{out_dir}\" --device=cpu'\n",
    "result = subprocess.run(command, shell=True, text=True, capture_output=True)\n",
    "print(result.stdout)"
   ]
  },
  {
   "cell_type": "code",
   "execution_count": 3,
   "metadata": {},
   "outputs": [],
   "source": [
    "# evaluate metric: specific and general\n",
    "\n",
    "# Specific metric: distribution of characters\n",
    "def char_distribution(text):\n",
    "    char_count = {}\n",
    "    for char in text:\n",
    "        if char in char_count:\n",
    "            char_count[char] += 1\n",
    "        else:\n",
    "            char_count[char] = 1\n",
    "    return char_count\n",
    "\n",
    "# calculate the cosine similarity\n",
    "def cosine_similarity(dict1, dict2):\n",
    "    keys = set(dict1.keys()) | set(dict2.keys())\n",
    "    dot_product = sum(dict1.get(k, 0) * dict2.get(k, 0) for k in keys)\n",
    "    norm1 = sum(v ** 2 for v in dict1.values()) ** 0.5\n",
    "    norm2 = sum(v ** 2 for v in dict2.values()) ** 0.5\n",
    "    return dot_product / (norm1 * norm2)"
   ]
  },
  {
   "cell_type": "code",
   "execution_count": 4,
   "metadata": {},
   "outputs": [
    {
     "data": {
      "text/plain": [
       "0.9860678780881484"
      ]
     },
     "execution_count": 4,
     "metadata": {},
     "output_type": "execute_result"
    }
   ],
   "source": [
    "# load training data\n",
    "train_data_path = os.path.join(\"data\", \"shakespeare_char\", \"input.txt\")\n",
    "with open(train_data_path, \"r\") as f:\n",
    "    train_data = f.read()\n",
    "    \n",
    "# load generated data\n",
    "generated_data = result.stdout\n",
    "\n",
    "# calculate character distribution\n",
    "train_char_count = char_distribution(train_data)\n",
    "generated_char_count = char_distribution(generated_data)\n",
    "\n",
    "cosine_similarity(train_char_count, generated_char_count)"
   ]
  },
  {
   "cell_type": "code",
   "execution_count": 29,
   "metadata": {},
   "outputs": [],
   "source": [
    "# general metric: perplexity"
   ]
  },
  {
   "cell_type": "code",
   "execution_count": 1,
   "metadata": {},
   "outputs": [],
   "source": [
    "# check loss in ckpt.pt\n",
    "def check_loss(ckpt_path):\n",
    "    checkpoint = torch.load(ckpt_path)\n",
    "    return checkpoint['best_val_loss']"
   ]
  },
  {
   "cell_type": "code",
   "execution_count": 5,
   "metadata": {},
   "outputs": [
    {
     "name": "stdout",
     "output_type": "stream",
     "text": [
      "Best validation loss: 1.8925344944000244\n"
     ]
    }
   ],
   "source": [
    "ckpt_path = os.path.join(out_dir, \"ckpt.pt\")\n",
    "loss = check_loss(ckpt_path)\n",
    "print(f\"Best validation loss: {loss}\")"
   ]
  },
  {
   "cell_type": "code",
   "execution_count": 6,
   "metadata": {},
   "outputs": [
    {
     "name": "stdout",
     "output_type": "stream",
     "text": [
      "Running with n_layer=2, n_head=2\n",
      "Best validation loss: 1.8904390335083008\n",
      "Running with n_layer=2, n_head=4\n",
      "Best validation loss: 1.9006503820419312\n",
      "Running with n_layer=4, n_head=2\n",
      "Best validation loss: 1.897631049156189\n"
     ]
    }
   ],
   "source": [
    "#params = \" --compile=False --eval_iters=20 --log_interval=1 --block_size=64 --batch_size=12 --n_layer=4 --n_head=4 --n_embd=128 --max_iters=2000 --lr_decay_iters=2000 --dropout=0.0\"\n",
    "n_layers = [2, 4]\n",
    "n_heads = [2, 4]\n",
    "\n",
    "for n_layer in n_layers:\n",
    "    for n_head in n_heads:\n",
    "        if n_layer == 4 and n_head == 4:\n",
    "            continue\n",
    "        params = f\" --n_layer={n_layer} --n_head={n_head}\"\n",
    "        print(f\"Running with n_layer={n_layer}, n_head={n_head}\")\n",
    "        train_script = os.path.join(\"train.py\")\n",
    "        config_path = os.path.join(\"config\", \"train_shakespeare_char.py\")\n",
    "        command = f'python \"{train_script}\" \"{config_path}\" --device=cpu --compile=False --eval_iters=20 --log_interval=1 --block_size=64 --batch_size=12 --n_embd=128 --max_iters=2000 --lr_decay_iters=2000 --dropout=0.0' + params\n",
    "        result = subprocess.run(command, shell=True, text=True, capture_output=True)\n",
    "        # get loss\n",
    "        ckpt_path = os.path.join(out_dir, \"ckpt.pt\")\n",
    "        loss = check_loss(ckpt_path)\n",
    "        print(f\"Best validation loss: {loss}\")"
   ]
  },
  {
   "cell_type": "code",
   "execution_count": 4,
   "metadata": {},
   "outputs": [
    {
     "data": {
      "text/plain": [
       "80000"
      ]
     },
     "execution_count": 4,
     "metadata": {},
     "output_type": "execute_result"
    }
   ],
   "source": [
    "with open(os.path.join(\"data\", \"mydata_char\", \"笑林广记.txt\"), \"r\") as f:\n",
    "    data = f.read()\n",
    "    \n",
    "data = data[:80000]\n",
    "len(data)"
   ]
  },
  {
   "cell_type": "code",
   "execution_count": 5,
   "metadata": {},
   "outputs": [
    {
     "name": "stdout",
     "output_type": "stream",
     "text": [
      "['Overriding: out_dir = out-mydata-char', 'Overriding: device = cpu', 'number of parameters: 0.96M', 'Loading meta from data\\\\mydata_char\\\\meta.pkl...', '']\n",
      "i=0, cosine similarity=0.9162283876219303\n",
      "['Overriding: out_dir = out-mydata-char', 'Overriding: device = cpu', 'number of parameters: 1.02M', 'Loading meta from data\\\\mydata_char\\\\meta.pkl...', '']\n",
      "i=10000, cosine similarity=0.9086405265711462\n",
      "['Overriding: out_dir = out-mydata-char', 'Overriding: device = cpu', 'number of parameters: 1.06M', 'Loading meta from data\\\\mydata_char\\\\meta.pkl...', '']\n",
      "i=20000, cosine similarity=0.8981946113736679\n",
      "['Overriding: out_dir = out-mydata-char', 'Overriding: device = cpu', 'number of parameters: 1.09M', 'Loading meta from data\\\\mydata_char\\\\meta.pkl...', '']\n",
      "i=30000, cosine similarity=0.9157847241087812\n",
      "['Overriding: out_dir = out-mydata-char', 'Overriding: device = cpu', 'number of parameters: 1.11M', 'Loading meta from data\\\\mydata_char\\\\meta.pkl...', '']\n",
      "i=40000, cosine similarity=0.9423055828376217\n",
      "['Overriding: out_dir = out-mydata-char', 'Overriding: device = cpu', 'number of parameters: 1.13M', 'Loading meta from data\\\\mydata_char\\\\meta.pkl...', '']\n",
      "i=50000, cosine similarity=0.9115753111927309\n",
      "['Overriding: out_dir = out-mydata-char', 'Overriding: device = cpu', 'number of parameters: 1.14M', 'Loading meta from data\\\\mydata_char\\\\meta.pkl...', '']\n",
      "i=60000, cosine similarity=0.8872599996565789\n",
      "['Overriding: out_dir = out-mydata-char', 'Overriding: device = cpu', 'number of parameters: 1.15M', 'Loading meta from data\\\\mydata_char\\\\meta.pkl...', '']\n",
      "i=70000, cosine similarity=0.9046888939257437\n"
     ]
    }
   ],
   "source": [
    "# train another dataset\n",
    "datalen = len(data)\n",
    "i_list = []\n",
    "cossims = []\n",
    "losses = []\n",
    "\n",
    "for i in range(0, datalen, 10000):\n",
    "    mydata = data[:i+10000]\n",
    "    with open(os.path.join(\"data\", \"mydata_char\", \"mydata.txt\"), \"w\") as f:\n",
    "        f.write(mydata)\n",
    "    \n",
    "    prepare_script = os.path.join(\"data\", \"mydata_char\", \"prepare.py\")\n",
    "\n",
    "    # Run the script using os.system\n",
    "    os.system(f'python \"{prepare_script}\"')\n",
    "\n",
    "    # Run scripts\n",
    "    train_script = os.path.join(\"train.py\")\n",
    "    config_path = os.path.join(\"config\", \"train_mydata_char.py\")\n",
    "    command = f'python \"{train_script}\" \"{config_path}\" --device=cpu --compile=False --eval_iters=20 --log_interval=1 --block_size=64 --batch_size=12 --n_layer=4 --n_head=4 --n_embd=128 --max_iters=2000 --lr_decay_iters=2000 --dropout=0.0'\n",
    "    result = subprocess.run(command, shell=True, text=True, capture_output=True)\n",
    "    \n",
    "    # Generate text by sample.py\n",
    "    sample_script = os.path.join(\"sample.py\")\n",
    "    out_dir = \"out-mydata-char\"\n",
    "    command = f'python \"{sample_script}\" --out_dir=\"{out_dir}\" --device=cpu'\n",
    "    result = subprocess.run(command, shell=True, text=True, capture_output=True)\n",
    "    print(result.stdout.split(\"\\n\")[:5])\n",
    "    \n",
    "    # evaluate metric: specific\n",
    "    # load training data\n",
    "    train_data_path = os.path.join(\"data\", \"mydata_char\", \"mydata.txt\")\n",
    "    with open(train_data_path, \"r\") as f:\n",
    "        train_data = f.read()\n",
    "        \n",
    "    # load generated data\n",
    "    generated_data = result.stdout\n",
    "\n",
    "    # calculate character distribution\n",
    "    train_char_count = char_distribution(train_data)\n",
    "    generated_char_count = char_distribution(generated_data)\n",
    "\n",
    "    cossim = cosine_similarity(train_char_count, generated_char_count)\n",
    "    \n",
    "    print(f\"i={i}, cosine similarity={cossim}\")\n",
    "    \n",
    "    # loss\n",
    "    ckpt_path = os.path.join(out_dir, \"ckpt.pt\")\n",
    "    loss = check_loss(ckpt_path)\n",
    "    \n",
    "    i_list.append(i)\n",
    "    cossims.append(cossim)\n",
    "    losses.append(loss)"
   ]
  },
  {
   "cell_type": "code",
   "execution_count": 9,
   "metadata": {},
   "outputs": [
    {
     "data": {
      "application/vnd.plotly.v1+json": {
       "config": {
        "plotlyServerURL": "https://plot.ly"
       },
       "data": [
        {
         "mode": "lines+markers",
         "name": "cosine similarity",
         "type": "scatter",
         "x": [
          0,
          10000,
          20000,
          30000,
          40000,
          50000,
          60000,
          70000
         ],
         "y": [
          0.9162283876219303,
          0.9086405265711462,
          0.8981946113736679,
          0.9157847241087812,
          0.9423055828376217,
          0.9115753111927309,
          0.8872599996565789,
          0.9046888939257437
         ]
        }
       ],
       "layout": {
        "height": 600,
        "template": {
         "data": {
          "bar": [
           {
            "error_x": {
             "color": "#2a3f5f"
            },
            "error_y": {
             "color": "#2a3f5f"
            },
            "marker": {
             "line": {
              "color": "#E5ECF6",
              "width": 0.5
             },
             "pattern": {
              "fillmode": "overlay",
              "size": 10,
              "solidity": 0.2
             }
            },
            "type": "bar"
           }
          ],
          "barpolar": [
           {
            "marker": {
             "line": {
              "color": "#E5ECF6",
              "width": 0.5
             },
             "pattern": {
              "fillmode": "overlay",
              "size": 10,
              "solidity": 0.2
             }
            },
            "type": "barpolar"
           }
          ],
          "carpet": [
           {
            "aaxis": {
             "endlinecolor": "#2a3f5f",
             "gridcolor": "white",
             "linecolor": "white",
             "minorgridcolor": "white",
             "startlinecolor": "#2a3f5f"
            },
            "baxis": {
             "endlinecolor": "#2a3f5f",
             "gridcolor": "white",
             "linecolor": "white",
             "minorgridcolor": "white",
             "startlinecolor": "#2a3f5f"
            },
            "type": "carpet"
           }
          ],
          "choropleth": [
           {
            "colorbar": {
             "outlinewidth": 0,
             "ticks": ""
            },
            "type": "choropleth"
           }
          ],
          "contour": [
           {
            "colorbar": {
             "outlinewidth": 0,
             "ticks": ""
            },
            "colorscale": [
             [
              0,
              "#0d0887"
             ],
             [
              0.1111111111111111,
              "#46039f"
             ],
             [
              0.2222222222222222,
              "#7201a8"
             ],
             [
              0.3333333333333333,
              "#9c179e"
             ],
             [
              0.4444444444444444,
              "#bd3786"
             ],
             [
              0.5555555555555556,
              "#d8576b"
             ],
             [
              0.6666666666666666,
              "#ed7953"
             ],
             [
              0.7777777777777778,
              "#fb9f3a"
             ],
             [
              0.8888888888888888,
              "#fdca26"
             ],
             [
              1,
              "#f0f921"
             ]
            ],
            "type": "contour"
           }
          ],
          "contourcarpet": [
           {
            "colorbar": {
             "outlinewidth": 0,
             "ticks": ""
            },
            "type": "contourcarpet"
           }
          ],
          "heatmap": [
           {
            "colorbar": {
             "outlinewidth": 0,
             "ticks": ""
            },
            "colorscale": [
             [
              0,
              "#0d0887"
             ],
             [
              0.1111111111111111,
              "#46039f"
             ],
             [
              0.2222222222222222,
              "#7201a8"
             ],
             [
              0.3333333333333333,
              "#9c179e"
             ],
             [
              0.4444444444444444,
              "#bd3786"
             ],
             [
              0.5555555555555556,
              "#d8576b"
             ],
             [
              0.6666666666666666,
              "#ed7953"
             ],
             [
              0.7777777777777778,
              "#fb9f3a"
             ],
             [
              0.8888888888888888,
              "#fdca26"
             ],
             [
              1,
              "#f0f921"
             ]
            ],
            "type": "heatmap"
           }
          ],
          "heatmapgl": [
           {
            "colorbar": {
             "outlinewidth": 0,
             "ticks": ""
            },
            "colorscale": [
             [
              0,
              "#0d0887"
             ],
             [
              0.1111111111111111,
              "#46039f"
             ],
             [
              0.2222222222222222,
              "#7201a8"
             ],
             [
              0.3333333333333333,
              "#9c179e"
             ],
             [
              0.4444444444444444,
              "#bd3786"
             ],
             [
              0.5555555555555556,
              "#d8576b"
             ],
             [
              0.6666666666666666,
              "#ed7953"
             ],
             [
              0.7777777777777778,
              "#fb9f3a"
             ],
             [
              0.8888888888888888,
              "#fdca26"
             ],
             [
              1,
              "#f0f921"
             ]
            ],
            "type": "heatmapgl"
           }
          ],
          "histogram": [
           {
            "marker": {
             "pattern": {
              "fillmode": "overlay",
              "size": 10,
              "solidity": 0.2
             }
            },
            "type": "histogram"
           }
          ],
          "histogram2d": [
           {
            "colorbar": {
             "outlinewidth": 0,
             "ticks": ""
            },
            "colorscale": [
             [
              0,
              "#0d0887"
             ],
             [
              0.1111111111111111,
              "#46039f"
             ],
             [
              0.2222222222222222,
              "#7201a8"
             ],
             [
              0.3333333333333333,
              "#9c179e"
             ],
             [
              0.4444444444444444,
              "#bd3786"
             ],
             [
              0.5555555555555556,
              "#d8576b"
             ],
             [
              0.6666666666666666,
              "#ed7953"
             ],
             [
              0.7777777777777778,
              "#fb9f3a"
             ],
             [
              0.8888888888888888,
              "#fdca26"
             ],
             [
              1,
              "#f0f921"
             ]
            ],
            "type": "histogram2d"
           }
          ],
          "histogram2dcontour": [
           {
            "colorbar": {
             "outlinewidth": 0,
             "ticks": ""
            },
            "colorscale": [
             [
              0,
              "#0d0887"
             ],
             [
              0.1111111111111111,
              "#46039f"
             ],
             [
              0.2222222222222222,
              "#7201a8"
             ],
             [
              0.3333333333333333,
              "#9c179e"
             ],
             [
              0.4444444444444444,
              "#bd3786"
             ],
             [
              0.5555555555555556,
              "#d8576b"
             ],
             [
              0.6666666666666666,
              "#ed7953"
             ],
             [
              0.7777777777777778,
              "#fb9f3a"
             ],
             [
              0.8888888888888888,
              "#fdca26"
             ],
             [
              1,
              "#f0f921"
             ]
            ],
            "type": "histogram2dcontour"
           }
          ],
          "mesh3d": [
           {
            "colorbar": {
             "outlinewidth": 0,
             "ticks": ""
            },
            "type": "mesh3d"
           }
          ],
          "parcoords": [
           {
            "line": {
             "colorbar": {
              "outlinewidth": 0,
              "ticks": ""
             }
            },
            "type": "parcoords"
           }
          ],
          "pie": [
           {
            "automargin": true,
            "type": "pie"
           }
          ],
          "scatter": [
           {
            "fillpattern": {
             "fillmode": "overlay",
             "size": 10,
             "solidity": 0.2
            },
            "type": "scatter"
           }
          ],
          "scatter3d": [
           {
            "line": {
             "colorbar": {
              "outlinewidth": 0,
              "ticks": ""
             }
            },
            "marker": {
             "colorbar": {
              "outlinewidth": 0,
              "ticks": ""
             }
            },
            "type": "scatter3d"
           }
          ],
          "scattercarpet": [
           {
            "marker": {
             "colorbar": {
              "outlinewidth": 0,
              "ticks": ""
             }
            },
            "type": "scattercarpet"
           }
          ],
          "scattergeo": [
           {
            "marker": {
             "colorbar": {
              "outlinewidth": 0,
              "ticks": ""
             }
            },
            "type": "scattergeo"
           }
          ],
          "scattergl": [
           {
            "marker": {
             "colorbar": {
              "outlinewidth": 0,
              "ticks": ""
             }
            },
            "type": "scattergl"
           }
          ],
          "scattermapbox": [
           {
            "marker": {
             "colorbar": {
              "outlinewidth": 0,
              "ticks": ""
             }
            },
            "type": "scattermapbox"
           }
          ],
          "scatterpolar": [
           {
            "marker": {
             "colorbar": {
              "outlinewidth": 0,
              "ticks": ""
             }
            },
            "type": "scatterpolar"
           }
          ],
          "scatterpolargl": [
           {
            "marker": {
             "colorbar": {
              "outlinewidth": 0,
              "ticks": ""
             }
            },
            "type": "scatterpolargl"
           }
          ],
          "scatterternary": [
           {
            "marker": {
             "colorbar": {
              "outlinewidth": 0,
              "ticks": ""
             }
            },
            "type": "scatterternary"
           }
          ],
          "surface": [
           {
            "colorbar": {
             "outlinewidth": 0,
             "ticks": ""
            },
            "colorscale": [
             [
              0,
              "#0d0887"
             ],
             [
              0.1111111111111111,
              "#46039f"
             ],
             [
              0.2222222222222222,
              "#7201a8"
             ],
             [
              0.3333333333333333,
              "#9c179e"
             ],
             [
              0.4444444444444444,
              "#bd3786"
             ],
             [
              0.5555555555555556,
              "#d8576b"
             ],
             [
              0.6666666666666666,
              "#ed7953"
             ],
             [
              0.7777777777777778,
              "#fb9f3a"
             ],
             [
              0.8888888888888888,
              "#fdca26"
             ],
             [
              1,
              "#f0f921"
             ]
            ],
            "type": "surface"
           }
          ],
          "table": [
           {
            "cells": {
             "fill": {
              "color": "#EBF0F8"
             },
             "line": {
              "color": "white"
             }
            },
            "header": {
             "fill": {
              "color": "#C8D4E3"
             },
             "line": {
              "color": "white"
             }
            },
            "type": "table"
           }
          ]
         },
         "layout": {
          "annotationdefaults": {
           "arrowcolor": "#2a3f5f",
           "arrowhead": 0,
           "arrowwidth": 1
          },
          "autotypenumbers": "strict",
          "coloraxis": {
           "colorbar": {
            "outlinewidth": 0,
            "ticks": ""
           }
          },
          "colorscale": {
           "diverging": [
            [
             0,
             "#8e0152"
            ],
            [
             0.1,
             "#c51b7d"
            ],
            [
             0.2,
             "#de77ae"
            ],
            [
             0.3,
             "#f1b6da"
            ],
            [
             0.4,
             "#fde0ef"
            ],
            [
             0.5,
             "#f7f7f7"
            ],
            [
             0.6,
             "#e6f5d0"
            ],
            [
             0.7,
             "#b8e186"
            ],
            [
             0.8,
             "#7fbc41"
            ],
            [
             0.9,
             "#4d9221"
            ],
            [
             1,
             "#276419"
            ]
           ],
           "sequential": [
            [
             0,
             "#0d0887"
            ],
            [
             0.1111111111111111,
             "#46039f"
            ],
            [
             0.2222222222222222,
             "#7201a8"
            ],
            [
             0.3333333333333333,
             "#9c179e"
            ],
            [
             0.4444444444444444,
             "#bd3786"
            ],
            [
             0.5555555555555556,
             "#d8576b"
            ],
            [
             0.6666666666666666,
             "#ed7953"
            ],
            [
             0.7777777777777778,
             "#fb9f3a"
            ],
            [
             0.8888888888888888,
             "#fdca26"
            ],
            [
             1,
             "#f0f921"
            ]
           ],
           "sequentialminus": [
            [
             0,
             "#0d0887"
            ],
            [
             0.1111111111111111,
             "#46039f"
            ],
            [
             0.2222222222222222,
             "#7201a8"
            ],
            [
             0.3333333333333333,
             "#9c179e"
            ],
            [
             0.4444444444444444,
             "#bd3786"
            ],
            [
             0.5555555555555556,
             "#d8576b"
            ],
            [
             0.6666666666666666,
             "#ed7953"
            ],
            [
             0.7777777777777778,
             "#fb9f3a"
            ],
            [
             0.8888888888888888,
             "#fdca26"
            ],
            [
             1,
             "#f0f921"
            ]
           ]
          },
          "colorway": [
           "#636efa",
           "#EF553B",
           "#00cc96",
           "#ab63fa",
           "#FFA15A",
           "#19d3f3",
           "#FF6692",
           "#B6E880",
           "#FF97FF",
           "#FECB52"
          ],
          "font": {
           "color": "#2a3f5f"
          },
          "geo": {
           "bgcolor": "white",
           "lakecolor": "white",
           "landcolor": "#E5ECF6",
           "showlakes": true,
           "showland": true,
           "subunitcolor": "white"
          },
          "hoverlabel": {
           "align": "left"
          },
          "hovermode": "closest",
          "mapbox": {
           "style": "light"
          },
          "paper_bgcolor": "white",
          "plot_bgcolor": "#E5ECF6",
          "polar": {
           "angularaxis": {
            "gridcolor": "white",
            "linecolor": "white",
            "ticks": ""
           },
           "bgcolor": "#E5ECF6",
           "radialaxis": {
            "gridcolor": "white",
            "linecolor": "white",
            "ticks": ""
           }
          },
          "scene": {
           "xaxis": {
            "backgroundcolor": "#E5ECF6",
            "gridcolor": "white",
            "gridwidth": 2,
            "linecolor": "white",
            "showbackground": true,
            "ticks": "",
            "zerolinecolor": "white"
           },
           "yaxis": {
            "backgroundcolor": "#E5ECF6",
            "gridcolor": "white",
            "gridwidth": 2,
            "linecolor": "white",
            "showbackground": true,
            "ticks": "",
            "zerolinecolor": "white"
           },
           "zaxis": {
            "backgroundcolor": "#E5ECF6",
            "gridcolor": "white",
            "gridwidth": 2,
            "linecolor": "white",
            "showbackground": true,
            "ticks": "",
            "zerolinecolor": "white"
           }
          },
          "shapedefaults": {
           "line": {
            "color": "#2a3f5f"
           }
          },
          "ternary": {
           "aaxis": {
            "gridcolor": "white",
            "linecolor": "white",
            "ticks": ""
           },
           "baxis": {
            "gridcolor": "white",
            "linecolor": "white",
            "ticks": ""
           },
           "bgcolor": "#E5ECF6",
           "caxis": {
            "gridcolor": "white",
            "linecolor": "white",
            "ticks": ""
           }
          },
          "title": {
           "x": 0.05
          },
          "xaxis": {
           "automargin": true,
           "gridcolor": "white",
           "linecolor": "white",
           "ticks": "",
           "title": {
            "standoff": 15
           },
           "zerolinecolor": "white",
           "zerolinewidth": 2
          },
          "yaxis": {
           "automargin": true,
           "gridcolor": "white",
           "linecolor": "white",
           "ticks": "",
           "title": {
            "standoff": 15
           },
           "zerolinecolor": "white",
           "zerolinewidth": 2
          }
         }
        },
        "title": {
         "text": "Cosine similarity over training data character size"
        },
        "width": 600,
        "xaxis": {
         "title": {
          "text": "Characters"
         }
        },
        "yaxis": {
         "title": {
          "text": "Value"
         }
        }
       }
      }
     },
     "metadata": {},
     "output_type": "display_data"
    }
   ],
   "source": [
    "# plot\n",
    "import plotly.express as px\n",
    "import plotly.graph_objects as go\n",
    "\n",
    "fig = go.Figure()\n",
    "fig.add_trace(\n",
    "    go.Scatter(x=i_list, y=cossims, mode=\"lines+markers\", name=\"cosine similarity\")\n",
    ")\n",
    "fig.update_layout(\n",
    "    title=\"Cosine similarity over training data character size\",\n",
    "    xaxis_title=\"Characters\",\n",
    "    yaxis_title=\"Value\",\n",
    "    width=600,\n",
    "    height=600,\n",
    ")\n",
    "fig.show()"
   ]
  },
  {
   "cell_type": "code",
   "execution_count": 10,
   "metadata": {},
   "outputs": [
    {
     "data": {
      "application/vnd.plotly.v1+json": {
       "config": {
        "plotlyServerURL": "https://plot.ly"
       },
       "data": [
        {
         "mode": "lines+markers",
         "name": "loss",
         "type": "scatter",
         "x": [
          0,
          10000,
          20000,
          30000,
          40000,
          50000,
          60000,
          70000
         ],
         "y": [
          5.16793966293335,
          5.294661521911621,
          5.532063961029053,
          5.08265495300293,
          5.057442665100098,
          5.2817912101745605,
          4.95270299911499,
          4.998465538024902
         ]
        }
       ],
       "layout": {
        "height": 600,
        "template": {
         "data": {
          "bar": [
           {
            "error_x": {
             "color": "#2a3f5f"
            },
            "error_y": {
             "color": "#2a3f5f"
            },
            "marker": {
             "line": {
              "color": "#E5ECF6",
              "width": 0.5
             },
             "pattern": {
              "fillmode": "overlay",
              "size": 10,
              "solidity": 0.2
             }
            },
            "type": "bar"
           }
          ],
          "barpolar": [
           {
            "marker": {
             "line": {
              "color": "#E5ECF6",
              "width": 0.5
             },
             "pattern": {
              "fillmode": "overlay",
              "size": 10,
              "solidity": 0.2
             }
            },
            "type": "barpolar"
           }
          ],
          "carpet": [
           {
            "aaxis": {
             "endlinecolor": "#2a3f5f",
             "gridcolor": "white",
             "linecolor": "white",
             "minorgridcolor": "white",
             "startlinecolor": "#2a3f5f"
            },
            "baxis": {
             "endlinecolor": "#2a3f5f",
             "gridcolor": "white",
             "linecolor": "white",
             "minorgridcolor": "white",
             "startlinecolor": "#2a3f5f"
            },
            "type": "carpet"
           }
          ],
          "choropleth": [
           {
            "colorbar": {
             "outlinewidth": 0,
             "ticks": ""
            },
            "type": "choropleth"
           }
          ],
          "contour": [
           {
            "colorbar": {
             "outlinewidth": 0,
             "ticks": ""
            },
            "colorscale": [
             [
              0,
              "#0d0887"
             ],
             [
              0.1111111111111111,
              "#46039f"
             ],
             [
              0.2222222222222222,
              "#7201a8"
             ],
             [
              0.3333333333333333,
              "#9c179e"
             ],
             [
              0.4444444444444444,
              "#bd3786"
             ],
             [
              0.5555555555555556,
              "#d8576b"
             ],
             [
              0.6666666666666666,
              "#ed7953"
             ],
             [
              0.7777777777777778,
              "#fb9f3a"
             ],
             [
              0.8888888888888888,
              "#fdca26"
             ],
             [
              1,
              "#f0f921"
             ]
            ],
            "type": "contour"
           }
          ],
          "contourcarpet": [
           {
            "colorbar": {
             "outlinewidth": 0,
             "ticks": ""
            },
            "type": "contourcarpet"
           }
          ],
          "heatmap": [
           {
            "colorbar": {
             "outlinewidth": 0,
             "ticks": ""
            },
            "colorscale": [
             [
              0,
              "#0d0887"
             ],
             [
              0.1111111111111111,
              "#46039f"
             ],
             [
              0.2222222222222222,
              "#7201a8"
             ],
             [
              0.3333333333333333,
              "#9c179e"
             ],
             [
              0.4444444444444444,
              "#bd3786"
             ],
             [
              0.5555555555555556,
              "#d8576b"
             ],
             [
              0.6666666666666666,
              "#ed7953"
             ],
             [
              0.7777777777777778,
              "#fb9f3a"
             ],
             [
              0.8888888888888888,
              "#fdca26"
             ],
             [
              1,
              "#f0f921"
             ]
            ],
            "type": "heatmap"
           }
          ],
          "heatmapgl": [
           {
            "colorbar": {
             "outlinewidth": 0,
             "ticks": ""
            },
            "colorscale": [
             [
              0,
              "#0d0887"
             ],
             [
              0.1111111111111111,
              "#46039f"
             ],
             [
              0.2222222222222222,
              "#7201a8"
             ],
             [
              0.3333333333333333,
              "#9c179e"
             ],
             [
              0.4444444444444444,
              "#bd3786"
             ],
             [
              0.5555555555555556,
              "#d8576b"
             ],
             [
              0.6666666666666666,
              "#ed7953"
             ],
             [
              0.7777777777777778,
              "#fb9f3a"
             ],
             [
              0.8888888888888888,
              "#fdca26"
             ],
             [
              1,
              "#f0f921"
             ]
            ],
            "type": "heatmapgl"
           }
          ],
          "histogram": [
           {
            "marker": {
             "pattern": {
              "fillmode": "overlay",
              "size": 10,
              "solidity": 0.2
             }
            },
            "type": "histogram"
           }
          ],
          "histogram2d": [
           {
            "colorbar": {
             "outlinewidth": 0,
             "ticks": ""
            },
            "colorscale": [
             [
              0,
              "#0d0887"
             ],
             [
              0.1111111111111111,
              "#46039f"
             ],
             [
              0.2222222222222222,
              "#7201a8"
             ],
             [
              0.3333333333333333,
              "#9c179e"
             ],
             [
              0.4444444444444444,
              "#bd3786"
             ],
             [
              0.5555555555555556,
              "#d8576b"
             ],
             [
              0.6666666666666666,
              "#ed7953"
             ],
             [
              0.7777777777777778,
              "#fb9f3a"
             ],
             [
              0.8888888888888888,
              "#fdca26"
             ],
             [
              1,
              "#f0f921"
             ]
            ],
            "type": "histogram2d"
           }
          ],
          "histogram2dcontour": [
           {
            "colorbar": {
             "outlinewidth": 0,
             "ticks": ""
            },
            "colorscale": [
             [
              0,
              "#0d0887"
             ],
             [
              0.1111111111111111,
              "#46039f"
             ],
             [
              0.2222222222222222,
              "#7201a8"
             ],
             [
              0.3333333333333333,
              "#9c179e"
             ],
             [
              0.4444444444444444,
              "#bd3786"
             ],
             [
              0.5555555555555556,
              "#d8576b"
             ],
             [
              0.6666666666666666,
              "#ed7953"
             ],
             [
              0.7777777777777778,
              "#fb9f3a"
             ],
             [
              0.8888888888888888,
              "#fdca26"
             ],
             [
              1,
              "#f0f921"
             ]
            ],
            "type": "histogram2dcontour"
           }
          ],
          "mesh3d": [
           {
            "colorbar": {
             "outlinewidth": 0,
             "ticks": ""
            },
            "type": "mesh3d"
           }
          ],
          "parcoords": [
           {
            "line": {
             "colorbar": {
              "outlinewidth": 0,
              "ticks": ""
             }
            },
            "type": "parcoords"
           }
          ],
          "pie": [
           {
            "automargin": true,
            "type": "pie"
           }
          ],
          "scatter": [
           {
            "fillpattern": {
             "fillmode": "overlay",
             "size": 10,
             "solidity": 0.2
            },
            "type": "scatter"
           }
          ],
          "scatter3d": [
           {
            "line": {
             "colorbar": {
              "outlinewidth": 0,
              "ticks": ""
             }
            },
            "marker": {
             "colorbar": {
              "outlinewidth": 0,
              "ticks": ""
             }
            },
            "type": "scatter3d"
           }
          ],
          "scattercarpet": [
           {
            "marker": {
             "colorbar": {
              "outlinewidth": 0,
              "ticks": ""
             }
            },
            "type": "scattercarpet"
           }
          ],
          "scattergeo": [
           {
            "marker": {
             "colorbar": {
              "outlinewidth": 0,
              "ticks": ""
             }
            },
            "type": "scattergeo"
           }
          ],
          "scattergl": [
           {
            "marker": {
             "colorbar": {
              "outlinewidth": 0,
              "ticks": ""
             }
            },
            "type": "scattergl"
           }
          ],
          "scattermapbox": [
           {
            "marker": {
             "colorbar": {
              "outlinewidth": 0,
              "ticks": ""
             }
            },
            "type": "scattermapbox"
           }
          ],
          "scatterpolar": [
           {
            "marker": {
             "colorbar": {
              "outlinewidth": 0,
              "ticks": ""
             }
            },
            "type": "scatterpolar"
           }
          ],
          "scatterpolargl": [
           {
            "marker": {
             "colorbar": {
              "outlinewidth": 0,
              "ticks": ""
             }
            },
            "type": "scatterpolargl"
           }
          ],
          "scatterternary": [
           {
            "marker": {
             "colorbar": {
              "outlinewidth": 0,
              "ticks": ""
             }
            },
            "type": "scatterternary"
           }
          ],
          "surface": [
           {
            "colorbar": {
             "outlinewidth": 0,
             "ticks": ""
            },
            "colorscale": [
             [
              0,
              "#0d0887"
             ],
             [
              0.1111111111111111,
              "#46039f"
             ],
             [
              0.2222222222222222,
              "#7201a8"
             ],
             [
              0.3333333333333333,
              "#9c179e"
             ],
             [
              0.4444444444444444,
              "#bd3786"
             ],
             [
              0.5555555555555556,
              "#d8576b"
             ],
             [
              0.6666666666666666,
              "#ed7953"
             ],
             [
              0.7777777777777778,
              "#fb9f3a"
             ],
             [
              0.8888888888888888,
              "#fdca26"
             ],
             [
              1,
              "#f0f921"
             ]
            ],
            "type": "surface"
           }
          ],
          "table": [
           {
            "cells": {
             "fill": {
              "color": "#EBF0F8"
             },
             "line": {
              "color": "white"
             }
            },
            "header": {
             "fill": {
              "color": "#C8D4E3"
             },
             "line": {
              "color": "white"
             }
            },
            "type": "table"
           }
          ]
         },
         "layout": {
          "annotationdefaults": {
           "arrowcolor": "#2a3f5f",
           "arrowhead": 0,
           "arrowwidth": 1
          },
          "autotypenumbers": "strict",
          "coloraxis": {
           "colorbar": {
            "outlinewidth": 0,
            "ticks": ""
           }
          },
          "colorscale": {
           "diverging": [
            [
             0,
             "#8e0152"
            ],
            [
             0.1,
             "#c51b7d"
            ],
            [
             0.2,
             "#de77ae"
            ],
            [
             0.3,
             "#f1b6da"
            ],
            [
             0.4,
             "#fde0ef"
            ],
            [
             0.5,
             "#f7f7f7"
            ],
            [
             0.6,
             "#e6f5d0"
            ],
            [
             0.7,
             "#b8e186"
            ],
            [
             0.8,
             "#7fbc41"
            ],
            [
             0.9,
             "#4d9221"
            ],
            [
             1,
             "#276419"
            ]
           ],
           "sequential": [
            [
             0,
             "#0d0887"
            ],
            [
             0.1111111111111111,
             "#46039f"
            ],
            [
             0.2222222222222222,
             "#7201a8"
            ],
            [
             0.3333333333333333,
             "#9c179e"
            ],
            [
             0.4444444444444444,
             "#bd3786"
            ],
            [
             0.5555555555555556,
             "#d8576b"
            ],
            [
             0.6666666666666666,
             "#ed7953"
            ],
            [
             0.7777777777777778,
             "#fb9f3a"
            ],
            [
             0.8888888888888888,
             "#fdca26"
            ],
            [
             1,
             "#f0f921"
            ]
           ],
           "sequentialminus": [
            [
             0,
             "#0d0887"
            ],
            [
             0.1111111111111111,
             "#46039f"
            ],
            [
             0.2222222222222222,
             "#7201a8"
            ],
            [
             0.3333333333333333,
             "#9c179e"
            ],
            [
             0.4444444444444444,
             "#bd3786"
            ],
            [
             0.5555555555555556,
             "#d8576b"
            ],
            [
             0.6666666666666666,
             "#ed7953"
            ],
            [
             0.7777777777777778,
             "#fb9f3a"
            ],
            [
             0.8888888888888888,
             "#fdca26"
            ],
            [
             1,
             "#f0f921"
            ]
           ]
          },
          "colorway": [
           "#636efa",
           "#EF553B",
           "#00cc96",
           "#ab63fa",
           "#FFA15A",
           "#19d3f3",
           "#FF6692",
           "#B6E880",
           "#FF97FF",
           "#FECB52"
          ],
          "font": {
           "color": "#2a3f5f"
          },
          "geo": {
           "bgcolor": "white",
           "lakecolor": "white",
           "landcolor": "#E5ECF6",
           "showlakes": true,
           "showland": true,
           "subunitcolor": "white"
          },
          "hoverlabel": {
           "align": "left"
          },
          "hovermode": "closest",
          "mapbox": {
           "style": "light"
          },
          "paper_bgcolor": "white",
          "plot_bgcolor": "#E5ECF6",
          "polar": {
           "angularaxis": {
            "gridcolor": "white",
            "linecolor": "white",
            "ticks": ""
           },
           "bgcolor": "#E5ECF6",
           "radialaxis": {
            "gridcolor": "white",
            "linecolor": "white",
            "ticks": ""
           }
          },
          "scene": {
           "xaxis": {
            "backgroundcolor": "#E5ECF6",
            "gridcolor": "white",
            "gridwidth": 2,
            "linecolor": "white",
            "showbackground": true,
            "ticks": "",
            "zerolinecolor": "white"
           },
           "yaxis": {
            "backgroundcolor": "#E5ECF6",
            "gridcolor": "white",
            "gridwidth": 2,
            "linecolor": "white",
            "showbackground": true,
            "ticks": "",
            "zerolinecolor": "white"
           },
           "zaxis": {
            "backgroundcolor": "#E5ECF6",
            "gridcolor": "white",
            "gridwidth": 2,
            "linecolor": "white",
            "showbackground": true,
            "ticks": "",
            "zerolinecolor": "white"
           }
          },
          "shapedefaults": {
           "line": {
            "color": "#2a3f5f"
           }
          },
          "ternary": {
           "aaxis": {
            "gridcolor": "white",
            "linecolor": "white",
            "ticks": ""
           },
           "baxis": {
            "gridcolor": "white",
            "linecolor": "white",
            "ticks": ""
           },
           "bgcolor": "#E5ECF6",
           "caxis": {
            "gridcolor": "white",
            "linecolor": "white",
            "ticks": ""
           }
          },
          "title": {
           "x": 0.05
          },
          "xaxis": {
           "automargin": true,
           "gridcolor": "white",
           "linecolor": "white",
           "ticks": "",
           "title": {
            "standoff": 15
           },
           "zerolinecolor": "white",
           "zerolinewidth": 2
          },
          "yaxis": {
           "automargin": true,
           "gridcolor": "white",
           "linecolor": "white",
           "ticks": "",
           "title": {
            "standoff": 15
           },
           "zerolinecolor": "white",
           "zerolinewidth": 2
          }
         }
        },
        "title": {
         "text": "Loss over training data character size"
        },
        "width": 600,
        "xaxis": {
         "title": {
          "text": "Characters"
         }
        },
        "yaxis": {
         "title": {
          "text": "Value"
         }
        }
       }
      }
     },
     "metadata": {},
     "output_type": "display_data"
    }
   ],
   "source": [
    "fig = go.Figure()\n",
    "fig.add_trace(\n",
    "    go.Scatter(x=i_list, y=losses, mode=\"lines+markers\", name=\"loss\")\n",
    ")\n",
    "fig.update_layout(\n",
    "    title=\"Loss over training data character size\",\n",
    "    xaxis_title=\"Characters\",\n",
    "    yaxis_title=\"Value\",\n",
    "    width=600,\n",
    "    height=600,\n",
    ")\n",
    "fig.show()"
   ]
  }
 ],
 "metadata": {
  "kernelspec": {
   "display_name": "base",
   "language": "python",
   "name": "python3"
  },
  "language_info": {
   "codemirror_mode": {
    "name": "ipython",
    "version": 3
   },
   "file_extension": ".py",
   "mimetype": "text/x-python",
   "name": "python",
   "nbconvert_exporter": "python",
   "pygments_lexer": "ipython3",
   "version": "3.10.9"
  }
 },
 "nbformat": 4,
 "nbformat_minor": 2
}
